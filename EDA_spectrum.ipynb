{
 "cells": [
  {
   "cell_type": "code",
   "execution_count": 136,
   "id": "30a9a5f9",
   "metadata": {},
   "outputs": [],
   "source": [
    "WAVELENGHTS = [317.998, 320.704, 323.408, 326.11 , 328.809, 331.505, 334.198,\n",
    "       336.889, 339.577, 342.262, 344.944, 347.623, 350.3  , 352.973,\n",
    "       355.643, 358.31 , 360.974, 363.635, 366.293, 368.947, 371.598,\n",
    "       374.246, 376.89 , 379.531, 382.168, 384.802, 387.433, 390.06 ,\n",
    "       392.683, 395.302, 397.918, 400.531, 403.139, 405.743, 408.344,\n",
    "       410.941, 413.534, 416.123, 418.708, 421.289, 423.866, 426.439,\n",
    "       429.008, 431.572, 434.133, 436.689, 439.241, 441.788, 444.332,\n",
    "       446.87 , 449.405, 451.935, 454.461, 456.982, 459.498, 462.01 ,\n",
    "       464.518, 467.021, 469.519, 472.012, 474.501, 476.985, 479.464,\n",
    "       481.938, 484.408, 486.873, 489.332, 491.787, 494.237, 496.682,\n",
    "       499.122, 501.557, 503.987, 506.412, 508.831, 511.246, 513.655,\n",
    "       516.059, 518.458, 520.852, 523.24 , 525.623, 528.001, 530.373,\n",
    "       532.74 , 535.102, 537.458, 539.809, 542.154, 544.494, 546.828,\n",
    "       549.157, 551.48 , 553.797, 556.109, 558.416, 560.716, 563.011,\n",
    "       565.301, 567.584, 569.862, 572.135, 574.401, 576.662, 578.916,\n",
    "       581.165, 583.409, 585.646, 587.877, 590.103, 592.322, 594.536,\n",
    "       596.744, 598.946, 601.141, 603.331, 605.515, 607.693, 609.865,\n",
    "       612.03 , 614.19 , 616.343, 618.491, 620.632, 622.767, 624.896,\n",
    "       627.019, 629.136, 631.247, 633.351, 635.449, 637.541, 639.627,\n",
    "       641.707, 643.78 , 645.847, 647.908, 649.963, 652.011, 654.053,\n",
    "       656.089, 658.118, 660.141, 662.158, 664.168, 666.172, 668.17 ,\n",
    "       670.162, 672.147, 674.126, 676.098, 678.064, 680.024, 681.977,\n",
    "       683.924, 685.864, 687.798, 689.726, 691.648, 693.563, 695.471,\n",
    "       697.373, 699.269, 701.158, 703.041, 704.918, 706.788, 708.652,\n",
    "       710.509, 712.36 , 714.205, 716.043, 717.874, 719.7  , 721.519,\n",
    "       723.331, 725.137, 726.937, 728.731, 730.518, 732.298, 734.073,\n",
    "       735.84 , 737.602, 739.357, 741.106, 742.848, 744.585, 746.314,\n",
    "       748.038, 749.755, 751.466, 753.17 , 754.869, 756.561, 758.246,\n",
    "       759.926, 761.599, 763.266, 764.927, 766.581, 768.229, 769.871,\n",
    "       771.507, 773.137, 774.76 , 776.378, 777.989, 779.594, 781.193,\n",
    "       782.786, 784.372, 785.953, 787.528, 789.096, 790.659, 792.215,\n",
    "       793.766, 795.31 , 796.849, 798.382, 799.908, 801.429, 802.944,\n",
    "       804.453, 805.956, 807.454, 808.945, 810.431, 811.911, 813.385,\n",
    "       814.854, 816.316, 817.774, 819.225, 820.671, 822.111, 823.546,\n",
    "       824.975, 826.398, 827.816, 829.229, 830.636, 832.037, 833.433,\n",
    "       834.824, 836.209, 837.589, 838.964, 840.333, 841.697, 843.056,\n",
    "       844.41 , 845.759, 847.102, 848.44 , 849.773, 851.102, 852.425,\n",
    "       853.743, 855.056, 856.364, 857.668, 858.966, 860.26 , 861.548,\n",
    "       862.833, 864.112, 865.387, 866.657, 867.922, 869.183, 870.439,\n",
    "       871.691, 872.938, 874.181, 875.419, 876.653, 877.883, 879.108,\n",
    "       880.33 , 881.547, 882.759, 883.968, 885.173, 886.373, 887.57 ,\n",
    "       888.762]"
   ]
  },
  {
   "cell_type": "code",
   "execution_count": 137,
   "id": "32ec2764",
   "metadata": {},
   "outputs": [],
   "source": [
    "import pandas as pd\n",
    "import numpy as np\n",
    "import ast\n",
    "import plotly.graph_objects as go\n",
    "\n",
    "COLORS = {\n",
    "    \"specie_type\": {\n",
    "        \"mistura\": '#c1121f',\n",
    "        \"arabica\": '#003049',\n",
    "        \"conilon\": '#780000'\n",
    "    },\n",
    "    \"beverage_type\": {\n",
    "        'cagour': '#780000',\n",
    "         'cari': '#c1121f',\n",
    "         'caria': '#454139',\n",
    "         'especial': '#003049',\n",
    "         'blend': '#669bbc',\n",
    "         'neutro': '#780000'},\n",
    "    \"region\":{\n",
    "        'florão': '#3e5641',\n",
    "        'mogiana': \"#a24936\",\n",
    "        'não informado': '#d36135',\n",
    "        'minas gerais': '#282b28',\n",
    "        'sao paulo': '#83bca9',\n",
    "        'rondônia': '#0d1f22',\n",
    "        }\n",
    "}\n",
    "\n",
    "DATA_PATH = 'data/espectro_novas_amostras_140425.csv'\n",
    "\n",
    "def normalize_sample(spectrum_sample):\n",
    "    \"\"\"Realiza a normalização Min-Max do espectro.\n",
    "    Args:\n",
    "        spectrum_sample (pd.Series): Espectro bruto da amostra.\n",
    "    Returns:\n",
    "        pd.Series: Espectro normalizado com valores entre 0 e 1.\n",
    "    \"\"\"\n",
    "    # spectrum_sample = spectrum_sample.astype(float)\n",
    "    result  = []\n",
    "    for value in spectrum_sample:\n",
    "        norm_spectrum = (value - min(spectrum_sample)) / (max(spectrum_sample) - min(spectrum_sample))\n",
    "        result.append(norm_spectrum)\n",
    "    return result\n",
    "\n",
    "def sample_str(spectrum_sample):\n",
    "    \"\"\"Realiza a normalização Min-Max do espectro.\n",
    "    Args:\n",
    "        spectrum_sample (pd.Series): Espectro bruto da amostra.\n",
    "    Returns:\n",
    "        pd.Series: Espectro normalizado com valores entre 0 e 1.\n",
    "    \"\"\"\n",
    "    # spectrum_sample = spectrum_sample.astype(float)\n",
    "    result  = []\n",
    "    for value in spectrum_sample:\n",
    "        value = float(value)\n",
    "        # norm_spectrum = (value - min(spectrum_sample)) / (max(spectrum_sample) - min(spectrum_sample))\n",
    "        result.append(value)\n",
    "        \n",
    "    return result\n",
    "\n",
    "df = pd.read_csv(DATA_PATH, index_col=0)\n",
    "\n",
    "df['spectrum'] = df['spectrum'].apply(ast.literal_eval) \n",
    "df['spectrum'] = df['spectrum'].apply(normalize_sample)\n",
    "\n",
    "df2 = pd.read_csv(f\"data/espectro_amostras_250624.csv\", index_col=0, encoding='UTF-8')\n",
    "\n",
    "df2['spectrum'] = df2['spectrum'].apply(ast.literal_eval)\n",
    "df2['spectrum'] = df2['spectrum'].apply(sample_str)\n",
    "df2['spectrum'] = df2['spectrum'].apply(normalize_sample)\n"
   ]
  },
  {
   "cell_type": "code",
   "execution_count": 216,
   "id": "56c48c15",
   "metadata": {},
   "outputs": [],
   "source": [
    "df3 = df2.sample(420)"
   ]
  },
  {
   "cell_type": "code",
   "execution_count": 140,
   "id": "cacf1770",
   "metadata": {},
   "outputs": [],
   "source": [
    "mean_spec1, std_spec = {}, {}\n",
    "\n",
    "for beverage, specs in df.groupby('beverage_type')['spectrum']:\n",
    "    stack = np.vstack(specs.values)\n",
    "    mean_spec1[beverage] = stack.mean(axis=0)\n",
    "    # Desvio padrão amostral\n",
    "    std_spec[beverage] = stack.std(axis=0, ddof=1)"
   ]
  },
  {
   "cell_type": "code",
   "execution_count": 141,
   "id": "4b6a6e31",
   "metadata": {},
   "outputs": [
    {
     "data": {
      "application/vnd.plotly.v1+json": {
       "config": {
        "plotlyServerURL": "https://plot.ly"
       },
       "data": [
        {
         "hoverinfo": "skip",
         "line": {
          "width": 0
         },
         "mode": "lines",
         "showlegend": false,
         "type": "scatter",
         "x": {
          "bdata": "AAABAAIAAwAEAAUABgAHAAgACQAKAAsADAANAA4ADwAQABEAEgATABQAFQAWABcAGAAZABoAGwAcAB0AHgAfACAAIQAiACMAJAAlACYAJwAoACkAKgArACwALQAuAC8AMAAxADIAMwA0ADUANgA3ADgAOQA6ADsAPAA9AD4APwBAAEEAQgBDAEQARQBGAEcASABJAEoASwBMAE0ATgBPAFAAUQBSAFMAVABVAFYAVwBYAFkAWgBbAFwAXQBeAF8AYABhAGIAYwBkAGUAZgBnAGgAaQBqAGsAbABtAG4AbwBwAHEAcgBzAHQAdQB2AHcAeAB5AHoAewB8AH0AfgB/AIAAgQCCAIMAhACFAIYAhwCIAIkAigCLAIwAjQCOAI8AkACRAJIAkwCUAJUAlgCXAJgAmQCaAJsAnACdAJ4AnwCgAKEAogCjAKQApQCmAKcAqACpAKoAqwCsAK0ArgCvALAAsQCyALMAtAC1ALYAtwC4ALkAugC7ALwAvQC+AL8AwADBAMIAwwDEAMUAxgDHAMgAyQDKAMsAzADNAM4AzwDQANEA0gDTANQA1QDWANcA2ADZANoA2wDcAN0A3gDfAOAA4QDiAOMA5ADlAOYA5wDoAOkA6gDrAOwA7QDuAO8A8ADxAPIA8wD0APUA9gD3APgA+QD6APsA/AD9AP4A/wAAAQEBAgEDAQQBBQEGAQcBCAEJAQoBCwEMAQ0BDgEPARABEQESARMBFAEVARYBFwEYARkBGgEbARwBHQEeAR8B",
          "dtype": "i2"
         },
         "y": {
          "bdata": "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",
          "dtype": "f8"
         }
        },
        {
         "fill": "tonexty",
         "fillcolor": "rgba(102, 155, 188, 0.2)",
         "hoverinfo": "skip",
         "line": {
          "width": 0
         },
         "mode": "lines",
         "name": "blend ±1σ",
         "type": "scatter",
         "x": {
          "bdata": "AAABAAIAAwAEAAUABgAHAAgACQAKAAsADAANAA4ADwAQABEAEgATABQAFQAWABcAGAAZABoAGwAcAB0AHgAfACAAIQAiACMAJAAlACYAJwAoACkAKgArACwALQAuAC8AMAAxADIAMwA0ADUANgA3ADgAOQA6ADsAPAA9AD4APwBAAEEAQgBDAEQARQBGAEcASABJAEoASwBMAE0ATgBPAFAAUQBSAFMAVABVAFYAVwBYAFkAWgBbAFwAXQBeAF8AYABhAGIAYwBkAGUAZgBnAGgAaQBqAGsAbABtAG4AbwBwAHEAcgBzAHQAdQB2AHcAeAB5AHoAewB8AH0AfgB/AIAAgQCCAIMAhACFAIYAhwCIAIkAigCLAIwAjQCOAI8AkACRAJIAkwCUAJUAlgCXAJgAmQCaAJsAnACdAJ4AnwCgAKEAogCjAKQApQCmAKcAqACpAKoAqwCsAK0ArgCvALAAsQCyALMAtAC1ALYAtwC4ALkAugC7ALwAvQC+AL8AwADBAMIAwwDEAMUAxgDHAMgAyQDKAMsAzADNAM4AzwDQANEA0gDTANQA1QDWANcA2ADZANoA2wDcAN0A3gDfAOAA4QDiAOMA5ADlAOYA5wDoAOkA6gDrAOwA7QDuAO8A8ADxAPIA8wD0APUA9gD3APgA+QD6APsA/AD9AP4A/wAAAQEBAgEDAQQBBQEGAQcBCAEJAQoBCwEMAQ0BDgEPARABEQESARMBFAEVARYBFwEYARkBGgEbARwBHQEeAR8B",
          "dtype": "i2"
         },
         "y": {
          "bdata": "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",
          "dtype": "f8"
         }
        },
        {
         "line": {
          "color": "rgba(102, 155, 188, 0.9)",
          "width": 2
         },
         "mode": "lines",
         "name": "blend (mean)",
         "type": "scatter",
         "x": {
          "bdata": "AAABAAIAAwAEAAUABgAHAAgACQAKAAsADAANAA4ADwAQABEAEgATABQAFQAWABcAGAAZABoAGwAcAB0AHgAfACAAIQAiACMAJAAlACYAJwAoACkAKgArACwALQAuAC8AMAAxADIAMwA0ADUANgA3ADgAOQA6ADsAPAA9AD4APwBAAEEAQgBDAEQARQBGAEcASABJAEoASwBMAE0ATgBPAFAAUQBSAFMAVABVAFYAVwBYAFkAWgBbAFwAXQBeAF8AYABhAGIAYwBkAGUAZgBnAGgAaQBqAGsAbABtAG4AbwBwAHEAcgBzAHQAdQB2AHcAeAB5AHoAewB8AH0AfgB/AIAAgQCCAIMAhACFAIYAhwCIAIkAigCLAIwAjQCOAI8AkACRAJIAkwCUAJUAlgCXAJgAmQCaAJsAnACdAJ4AnwCgAKEAogCjAKQApQCmAKcAqACpAKoAqwCsAK0ArgCvALAAsQCyALMAtAC1ALYAtwC4ALkAugC7ALwAvQC+AL8AwADBAMIAwwDEAMUAxgDHAMgAyQDKAMsAzADNAM4AzwDQANEA0gDTANQA1QDWANcA2ADZANoA2wDcAN0A3gDfAOAA4QDiAOMA5ADlAOYA5wDoAOkA6gDrAOwA7QDuAO8A8ADxAPIA8wD0APUA9gD3APgA+QD6APsA/AD9AP4A/wAAAQEBAgEDAQQBBQEGAQcBCAEJAQoBCwEMAQ0BDgEPARABEQESARMBFAEVARYBFwEYARkBGgEbARwBHQEeAR8B",
          "dtype": "i2"
         },
         "y": {
          "bdata": "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",
          "dtype": "f8"
         }
        },
        {
         "hoverinfo": "skip",
         "line": {
          "width": 0
         },
         "mode": "lines",
         "showlegend": false,
         "type": "scatter",
         "x": {
          "bdata": "AAABAAIAAwAEAAUABgAHAAgACQAKAAsADAANAA4ADwAQABEAEgATABQAFQAWABcAGAAZABoAGwAcAB0AHgAfACAAIQAiACMAJAAlACYAJwAoACkAKgArACwALQAuAC8AMAAxADIAMwA0ADUANgA3ADgAOQA6ADsAPAA9AD4APwBAAEEAQgBDAEQARQBGAEcASABJAEoASwBMAE0ATgBPAFAAUQBSAFMAVABVAFYAVwBYAFkAWgBbAFwAXQBeAF8AYABhAGIAYwBkAGUAZgBnAGgAaQBqAGsAbABtAG4AbwBwAHEAcgBzAHQAdQB2AHcAeAB5AHoAewB8AH0AfgB/AIAAgQCCAIMAhACFAIYAhwCIAIkAigCLAIwAjQCOAI8AkACRAJIAkwCUAJUAlgCXAJgAmQCaAJsAnACdAJ4AnwCgAKEAogCjAKQApQCmAKcAqACpAKoAqwCsAK0ArgCvALAAsQCyALMAtAC1ALYAtwC4ALkAugC7ALwAvQC+AL8AwADBAMIAwwDEAMUAxgDHAMgAyQDKAMsAzADNAM4AzwDQANEA0gDTANQA1QDWANcA2ADZANoA2wDcAN0A3gDfAOAA4QDiAOMA5ADlAOYA5wDoAOkA6gDrAOwA7QDuAO8A8ADxAPIA8wD0APUA9gD3APgA+QD6APsA/AD9AP4A/wAAAQEBAgEDAQQBBQEGAQcBCAEJAQoBCwEMAQ0BDgEPARABEQESARMBFAEVARYBFwEYARkBGgEbARwBHQEeAR8B",
          "dtype": "i2"
         },
         "y": {
          "bdata": "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",
          "dtype": "f8"
         }
        },
        {
         "fill": "tonexty",
         "fillcolor": "rgba(120, 0, 0, 0.2)",
         "hoverinfo": "skip",
         "line": {
          "width": 0
         },
         "mode": "lines",
         "name": "cagour ±1σ",
         "type": "scatter",
         "x": {
          "bdata": "AAABAAIAAwAEAAUABgAHAAgACQAKAAsADAANAA4ADwAQABEAEgATABQAFQAWABcAGAAZABoAGwAcAB0AHgAfACAAIQAiACMAJAAlACYAJwAoACkAKgArACwALQAuAC8AMAAxADIAMwA0ADUANgA3ADgAOQA6ADsAPAA9AD4APwBAAEEAQgBDAEQARQBGAEcASABJAEoASwBMAE0ATgBPAFAAUQBSAFMAVABVAFYAVwBYAFkAWgBbAFwAXQBeAF8AYABhAGIAYwBkAGUAZgBnAGgAaQBqAGsAbABtAG4AbwBwAHEAcgBzAHQAdQB2AHcAeAB5AHoAewB8AH0AfgB/AIAAgQCCAIMAhACFAIYAhwCIAIkAigCLAIwAjQCOAI8AkACRAJIAkwCUAJUAlgCXAJgAmQCaAJsAnACdAJ4AnwCgAKEAogCjAKQApQCmAKcAqACpAKoAqwCsAK0ArgCvALAAsQCyALMAtAC1ALYAtwC4ALkAugC7ALwAvQC+AL8AwADBAMIAwwDEAMUAxgDHAMgAyQDKAMsAzADNAM4AzwDQANEA0gDTANQA1QDWANcA2ADZANoA2wDcAN0A3gDfAOAA4QDiAOMA5ADlAOYA5wDoAOkA6gDrAOwA7QDuAO8A8ADxAPIA8wD0APUA9gD3APgA+QD6APsA/AD9AP4A/wAAAQEBAgEDAQQBBQEGAQcBCAEJAQoBCwEMAQ0BDgEPARABEQESARMBFAEVARYBFwEYARkBGgEbARwBHQEeAR8B",
          "dtype": "i2"
         },
         "y": {
          "bdata": "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",
          "dtype": "f8"
         }
        },
        {
         "line": {
          "color": "rgba(120, 0, 0, 0.9)",
          "width": 2
         },
         "mode": "lines",
         "name": "cagour (mean)",
         "type": "scatter",
         "x": {
          "bdata": "AAABAAIAAwAEAAUABgAHAAgACQAKAAsADAANAA4ADwAQABEAEgATABQAFQAWABcAGAAZABoAGwAcAB0AHgAfACAAIQAiACMAJAAlACYAJwAoACkAKgArACwALQAuAC8AMAAxADIAMwA0ADUANgA3ADgAOQA6ADsAPAA9AD4APwBAAEEAQgBDAEQARQBGAEcASABJAEoASwBMAE0ATgBPAFAAUQBSAFMAVABVAFYAVwBYAFkAWgBbAFwAXQBeAF8AYABhAGIAYwBkAGUAZgBnAGgAaQBqAGsAbABtAG4AbwBwAHEAcgBzAHQAdQB2AHcAeAB5AHoAewB8AH0AfgB/AIAAgQCCAIMAhACFAIYAhwCIAIkAigCLAIwAjQCOAI8AkACRAJIAkwCUAJUAlgCXAJgAmQCaAJsAnACdAJ4AnwCgAKEAogCjAKQApQCmAKcAqACpAKoAqwCsAK0ArgCvALAAsQCyALMAtAC1ALYAtwC4ALkAugC7ALwAvQC+AL8AwADBAMIAwwDEAMUAxgDHAMgAyQDKAMsAzADNAM4AzwDQANEA0gDTANQA1QDWANcA2ADZANoA2wDcAN0A3gDfAOAA4QDiAOMA5ADlAOYA5wDoAOkA6gDrAOwA7QDuAO8A8ADxAPIA8wD0APUA9gD3APgA+QD6APsA/AD9AP4A/wAAAQEBAgEDAQQBBQEGAQcBCAEJAQoBCwEMAQ0BDgEPARABEQESARMBFAEVARYBFwEYARkBGgEbARwBHQEeAR8B",
          "dtype": "i2"
         },
         "y": {
          "bdata": "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",
          "dtype": "f8"
         }
        },
        {
         "hoverinfo": "skip",
         "line": {
          "width": 0
         },
         "mode": "lines",
         "showlegend": false,
         "type": "scatter",
         "x": {
          "bdata": "AAABAAIAAwAEAAUABgAHAAgACQAKAAsADAANAA4ADwAQABEAEgATABQAFQAWABcAGAAZABoAGwAcAB0AHgAfACAAIQAiACMAJAAlACYAJwAoACkAKgArACwALQAuAC8AMAAxADIAMwA0ADUANgA3ADgAOQA6ADsAPAA9AD4APwBAAEEAQgBDAEQARQBGAEcASABJAEoASwBMAE0ATgBPAFAAUQBSAFMAVABVAFYAVwBYAFkAWgBbAFwAXQBeAF8AYABhAGIAYwBkAGUAZgBnAGgAaQBqAGsAbABtAG4AbwBwAHEAcgBzAHQAdQB2AHcAeAB5AHoAewB8AH0AfgB/AIAAgQCCAIMAhACFAIYAhwCIAIkAigCLAIwAjQCOAI8AkACRAJIAkwCUAJUAlgCXAJgAmQCaAJsAnACdAJ4AnwCgAKEAogCjAKQApQCmAKcAqACpAKoAqwCsAK0ArgCvALAAsQCyALMAtAC1ALYAtwC4ALkAugC7ALwAvQC+AL8AwADBAMIAwwDEAMUAxgDHAMgAyQDKAMsAzADNAM4AzwDQANEA0gDTANQA1QDWANcA2ADZANoA2wDcAN0A3gDfAOAA4QDiAOMA5ADlAOYA5wDoAOkA6gDrAOwA7QDuAO8A8ADxAPIA8wD0APUA9gD3APgA+QD6APsA/AD9AP4A/wAAAQEBAgEDAQQBBQEGAQcBCAEJAQoBCwEMAQ0BDgEPARABEQESARMBFAEVARYBFwEYARkBGgEbARwBHQEeAR8B",
          "dtype": "i2"
         },
         "y": {
          "bdata": "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",
          "dtype": "f8"
         }
        },
        {
         "fill": "tonexty",
         "fillcolor": "rgba(193, 18, 31, 0.2)",
         "hoverinfo": "skip",
         "line": {
          "width": 0
         },
         "mode": "lines",
         "name": "cari ±1σ",
         "type": "scatter",
         "x": {
          "bdata": "AAABAAIAAwAEAAUABgAHAAgACQAKAAsADAANAA4ADwAQABEAEgATABQAFQAWABcAGAAZABoAGwAcAB0AHgAfACAAIQAiACMAJAAlACYAJwAoACkAKgArACwALQAuAC8AMAAxADIAMwA0ADUANgA3ADgAOQA6ADsAPAA9AD4APwBAAEEAQgBDAEQARQBGAEcASABJAEoASwBMAE0ATgBPAFAAUQBSAFMAVABVAFYAVwBYAFkAWgBbAFwAXQBeAF8AYABhAGIAYwBkAGUAZgBnAGgAaQBqAGsAbABtAG4AbwBwAHEAcgBzAHQAdQB2AHcAeAB5AHoAewB8AH0AfgB/AIAAgQCCAIMAhACFAIYAhwCIAIkAigCLAIwAjQCOAI8AkACRAJIAkwCUAJUAlgCXAJgAmQCaAJsAnACdAJ4AnwCgAKEAogCjAKQApQCmAKcAqACpAKoAqwCsAK0ArgCvALAAsQCyALMAtAC1ALYAtwC4ALkAugC7ALwAvQC+AL8AwADBAMIAwwDEAMUAxgDHAMgAyQDKAMsAzADNAM4AzwDQANEA0gDTANQA1QDWANcA2ADZANoA2wDcAN0A3gDfAOAA4QDiAOMA5ADlAOYA5wDoAOkA6gDrAOwA7QDuAO8A8ADxAPIA8wD0APUA9gD3APgA+QD6APsA/AD9AP4A/wAAAQEBAgEDAQQBBQEGAQcBCAEJAQoBCwEMAQ0BDgEPARABEQESARMBFAEVARYBFwEYARkBGgEbARwBHQEeAR8B",
          "dtype": "i2"
         },
         "y": {
          "bdata": "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",
          "dtype": "f8"
         }
        },
        {
         "line": {
          "color": "rgba(193, 18, 31, 0.9)",
          "width": 2
         },
         "mode": "lines",
         "name": "cari (mean)",
         "type": "scatter",
         "x": {
          "bdata": "AAABAAIAAwAEAAUABgAHAAgACQAKAAsADAANAA4ADwAQABEAEgATABQAFQAWABcAGAAZABoAGwAcAB0AHgAfACAAIQAiACMAJAAlACYAJwAoACkAKgArACwALQAuAC8AMAAxADIAMwA0ADUANgA3ADgAOQA6ADsAPAA9AD4APwBAAEEAQgBDAEQARQBGAEcASABJAEoASwBMAE0ATgBPAFAAUQBSAFMAVABVAFYAVwBYAFkAWgBbAFwAXQBeAF8AYABhAGIAYwBkAGUAZgBnAGgAaQBqAGsAbABtAG4AbwBwAHEAcgBzAHQAdQB2AHcAeAB5AHoAewB8AH0AfgB/AIAAgQCCAIMAhACFAIYAhwCIAIkAigCLAIwAjQCOAI8AkACRAJIAkwCUAJUAlgCXAJgAmQCaAJsAnACdAJ4AnwCgAKEAogCjAKQApQCmAKcAqACpAKoAqwCsAK0ArgCvALAAsQCyALMAtAC1ALYAtwC4ALkAugC7ALwAvQC+AL8AwADBAMIAwwDEAMUAxgDHAMgAyQDKAMsAzADNAM4AzwDQANEA0gDTANQA1QDWANcA2ADZANoA2wDcAN0A3gDfAOAA4QDiAOMA5ADlAOYA5wDoAOkA6gDrAOwA7QDuAO8A8ADxAPIA8wD0APUA9gD3APgA+QD6APsA/AD9AP4A/wAAAQEBAgEDAQQBBQEGAQcBCAEJAQoBCwEMAQ0BDgEPARABEQESARMBFAEVARYBFwEYARkBGgEbARwBHQEeAR8B",
          "dtype": "i2"
         },
         "y": {
          "bdata": "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",
          "dtype": "f8"
         }
        },
        {
         "hoverinfo": "skip",
         "line": {
          "width": 0
         },
         "mode": "lines",
         "showlegend": false,
         "type": "scatter",
         "x": {
          "bdata": "AAABAAIAAwAEAAUABgAHAAgACQAKAAsADAANAA4ADwAQABEAEgATABQAFQAWABcAGAAZABoAGwAcAB0AHgAfACAAIQAiACMAJAAlACYAJwAoACkAKgArACwALQAuAC8AMAAxADIAMwA0ADUANgA3ADgAOQA6ADsAPAA9AD4APwBAAEEAQgBDAEQARQBGAEcASABJAEoASwBMAE0ATgBPAFAAUQBSAFMAVABVAFYAVwBYAFkAWgBbAFwAXQBeAF8AYABhAGIAYwBkAGUAZgBnAGgAaQBqAGsAbABtAG4AbwBwAHEAcgBzAHQAdQB2AHcAeAB5AHoAewB8AH0AfgB/AIAAgQCCAIMAhACFAIYAhwCIAIkAigCLAIwAjQCOAI8AkACRAJIAkwCUAJUAlgCXAJgAmQCaAJsAnACdAJ4AnwCgAKEAogCjAKQApQCmAKcAqACpAKoAqwCsAK0ArgCvALAAsQCyALMAtAC1ALYAtwC4ALkAugC7ALwAvQC+AL8AwADBAMIAwwDEAMUAxgDHAMgAyQDKAMsAzADNAM4AzwDQANEA0gDTANQA1QDWANcA2ADZANoA2wDcAN0A3gDfAOAA4QDiAOMA5ADlAOYA5wDoAOkA6gDrAOwA7QDuAO8A8ADxAPIA8wD0APUA9gD3APgA+QD6APsA/AD9AP4A/wAAAQEBAgEDAQQBBQEGAQcBCAEJAQoBCwEMAQ0BDgEPARABEQESARMBFAEVARYBFwEYARkBGgEbARwBHQEeAR8B",
          "dtype": "i2"
         },
         "y": {
          "bdata": "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",
          "dtype": "f8"
         }
        },
        {
         "fill": "tonexty",
         "fillcolor": "rgba(69, 65, 57, 0.2)",
         "hoverinfo": "skip",
         "line": {
          "width": 0
         },
         "mode": "lines",
         "name": "caria ±1σ",
         "type": "scatter",
         "x": {
          "bdata": "AAABAAIAAwAEAAUABgAHAAgACQAKAAsADAANAA4ADwAQABEAEgATABQAFQAWABcAGAAZABoAGwAcAB0AHgAfACAAIQAiACMAJAAlACYAJwAoACkAKgArACwALQAuAC8AMAAxADIAMwA0ADUANgA3ADgAOQA6ADsAPAA9AD4APwBAAEEAQgBDAEQARQBGAEcASABJAEoASwBMAE0ATgBPAFAAUQBSAFMAVABVAFYAVwBYAFkAWgBbAFwAXQBeAF8AYABhAGIAYwBkAGUAZgBnAGgAaQBqAGsAbABtAG4AbwBwAHEAcgBzAHQAdQB2AHcAeAB5AHoAewB8AH0AfgB/AIAAgQCCAIMAhACFAIYAhwCIAIkAigCLAIwAjQCOAI8AkACRAJIAkwCUAJUAlgCXAJgAmQCaAJsAnACdAJ4AnwCgAKEAogCjAKQApQCmAKcAqACpAKoAqwCsAK0ArgCvALAAsQCyALMAtAC1ALYAtwC4ALkAugC7ALwAvQC+AL8AwADBAMIAwwDEAMUAxgDHAMgAyQDKAMsAzADNAM4AzwDQANEA0gDTANQA1QDWANcA2ADZANoA2wDcAN0A3gDfAOAA4QDiAOMA5ADlAOYA5wDoAOkA6gDrAOwA7QDuAO8A8ADxAPIA8wD0APUA9gD3APgA+QD6APsA/AD9AP4A/wAAAQEBAgEDAQQBBQEGAQcBCAEJAQoBCwEMAQ0BDgEPARABEQESARMBFAEVARYBFwEYARkBGgEbARwBHQEeAR8B",
          "dtype": "i2"
         },
         "y": {
          "bdata": "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",
          "dtype": "f8"
         }
        },
        {
         "line": {
          "color": "rgba(69, 65, 57, 0.9)",
          "width": 2
         },
         "mode": "lines",
         "name": "caria (mean)",
         "type": "scatter",
         "x": {
          "bdata": "AAABAAIAAwAEAAUABgAHAAgACQAKAAsADAANAA4ADwAQABEAEgATABQAFQAWABcAGAAZABoAGwAcAB0AHgAfACAAIQAiACMAJAAlACYAJwAoACkAKgArACwALQAuAC8AMAAxADIAMwA0ADUANgA3ADgAOQA6ADsAPAA9AD4APwBAAEEAQgBDAEQARQBGAEcASABJAEoASwBMAE0ATgBPAFAAUQBSAFMAVABVAFYAVwBYAFkAWgBbAFwAXQBeAF8AYABhAGIAYwBkAGUAZgBnAGgAaQBqAGsAbABtAG4AbwBwAHEAcgBzAHQAdQB2AHcAeAB5AHoAewB8AH0AfgB/AIAAgQCCAIMAhACFAIYAhwCIAIkAigCLAIwAjQCOAI8AkACRAJIAkwCUAJUAlgCXAJgAmQCaAJsAnACdAJ4AnwCgAKEAogCjAKQApQCmAKcAqACpAKoAqwCsAK0ArgCvALAAsQCyALMAtAC1ALYAtwC4ALkAugC7ALwAvQC+AL8AwADBAMIAwwDEAMUAxgDHAMgAyQDKAMsAzADNAM4AzwDQANEA0gDTANQA1QDWANcA2ADZANoA2wDcAN0A3gDfAOAA4QDiAOMA5ADlAOYA5wDoAOkA6gDrAOwA7QDuAO8A8ADxAPIA8wD0APUA9gD3APgA+QD6APsA/AD9AP4A/wAAAQEBAgEDAQQBBQEGAQcBCAEJAQoBCwEMAQ0BDgEPARABEQESARMBFAEVARYBFwEYARkBGgEbARwBHQEeAR8B",
          "dtype": "i2"
         },
         "y": {
          "bdata": "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",
          "dtype": "f8"
         }
        },
        {
         "hoverinfo": "skip",
         "line": {
          "width": 0
         },
         "mode": "lines",
         "showlegend": false,
         "type": "scatter",
         "x": {
          "bdata": "AAABAAIAAwAEAAUABgAHAAgACQAKAAsADAANAA4ADwAQABEAEgATABQAFQAWABcAGAAZABoAGwAcAB0AHgAfACAAIQAiACMAJAAlACYAJwAoACkAKgArACwALQAuAC8AMAAxADIAMwA0ADUANgA3ADgAOQA6ADsAPAA9AD4APwBAAEEAQgBDAEQARQBGAEcASABJAEoASwBMAE0ATgBPAFAAUQBSAFMAVABVAFYAVwBYAFkAWgBbAFwAXQBeAF8AYABhAGIAYwBkAGUAZgBnAGgAaQBqAGsAbABtAG4AbwBwAHEAcgBzAHQAdQB2AHcAeAB5AHoAewB8AH0AfgB/AIAAgQCCAIMAhACFAIYAhwCIAIkAigCLAIwAjQCOAI8AkACRAJIAkwCUAJUAlgCXAJgAmQCaAJsAnACdAJ4AnwCgAKEAogCjAKQApQCmAKcAqACpAKoAqwCsAK0ArgCvALAAsQCyALMAtAC1ALYAtwC4ALkAugC7ALwAvQC+AL8AwADBAMIAwwDEAMUAxgDHAMgAyQDKAMsAzADNAM4AzwDQANEA0gDTANQA1QDWANcA2ADZANoA2wDcAN0A3gDfAOAA4QDiAOMA5ADlAOYA5wDoAOkA6gDrAOwA7QDuAO8A8ADxAPIA8wD0APUA9gD3APgA+QD6APsA/AD9AP4A/wAAAQEBAgEDAQQBBQEGAQcBCAEJAQoBCwEMAQ0BDgEPARABEQESARMBFAEVARYBFwEYARkBGgEbARwBHQEeAR8B",
          "dtype": "i2"
         },
         "y": {
          "bdata": "RCaE7JUUoT/uftyDoEmYPwQ+IJlfU6E/kLTmVbhjoT8CQtT9B4avP3ogCWUZN5o/J2D4cKdDpT9qp7IytuuTP6NSnGXeZpk/ih8pmlVXnT/alov5k2+hP3ZX94AHAak/3pBHc78xmj+3rj0/2/2dP6eIvFrZAKc/APj/DkINmD8izODcqLqgPwQvpDfEqqM/zKxwtwj2mD8i3bqgCkGhPwb3GxBQH6A/QDok+AcYoD/vg46KglCjP0JIdSi73pc/2awg/pDinj9Bg3lPFdSfP4pYMRYZQKU/DFk8CFlbnz/8vnMC29qhP67lT/Ym5KA/SuxUXjeVoD9YqzbfSGaaPxBCr7pYp5s/DAL8xTsioj+3vQo9cJqZP7OAPBRRVqE/MGhS2JbxnT+w+TwxzZCbPwTxtRFxJKE/Z3rt4/+znz+UpVAPGr+jP7D2+A45iaU/G5Ng34GPmj8frJWlp+KkP5RN9vXlBKI/F2YHt6jMlz8k22ubWL+iPyg4GcQh5po/pDNBS8oToD/BHC/hd6mhPw6P5rpCHqI/P6NEO2FXnz9gUblhqpKTP9gFITGIZKA/kvkwTwdroT8Mi8HKwYSZP7MV+yimCak/6oHSoNCJoD+KaFlMu02hP3RTtYeKfaI/Bnfx5WB3pT+2Zj3ZBDKoPx82bXfqELQ/zcf9mZzMwT/qhai0pAzLP9r2Mqj2edU/NjLdo9uD3j+SpFXAzTPkP+/lDhm2leg/0CdkzX7k6z97NjuO17buPwrPLooRjO8/aAU1mkoJ8D/toDkR7AnwP05GqAMFxO8/3WGAVtDm7j8qZuTJKWTuP+QjBalBfu0/+jHaT/xN7T8E65NuDDXsP0YP3NN8l+w/lEwKVGQQ7D82o2QSJr3rP8VY9OmFxus/RQifB2ZF6z8Dys4RHavqP7csWZ+hLuo/idLBlMxb6T+InnKDLmjoPze9Kwy5gec/SkAxIAfQ5j89nWD6AYHmP7nBLCx+i+U/CA2npOZm5T9aoOm1nFjkP8TUgg2D6+M/4XEsjJJK4z+TODHgB6/iP3i6D5Te6uE/Xgech99d4T9uujXPqxjhP/q31gh6POA//IbFFrkN4D9MDry0zgzfPzQCS28+D98/7r260cna3T+FYPSSkvPcP5TlLoULCd0/zEROPdD02z901rpEpEXbP0GW3h0eUNs/gxGUZsm92T/vjrdp2tHZP2kValwQV9k/0DJnRA8J2D/vF585gi7YP7HkEesK0NY/CJXgbWgp1z/Ya6V5ML/WP6oI+azCktU/Nw7VBTS21T9urH6xZzLVPxzcviWeINQ/NPn1dHwK1D8mXj5M2qXTP0Qtw8fJOdM/+lm3T/Ya0z+cI867joDSPwy4bnAcSdM/qzTSe53x0T84OJpdEAzRPzox4ZXEV9E/YYFuE3Eg0D8okAmteTzQP+zlkD+w5NA/A8IorV4R0D9nqewUoC/QP9KwbQjvJtE/J6LEm95A0j8HReQm/MvSPzWNbbdeLtQ/4BagJAbh1T9KC76SNB/ZPwm2wiS+Mts/XHXbaeCL3j8uyCBPm4HgPwLsXoLXjeE/k1VwksTL4j+zuCJMGVHjPw/OBPInjuM/ui2tN2Ln4z8S9Pb3Z6biP1nqDjtqzOE/x+q0Bixx4D8bIb+8tUbeP1/NkXETD9w/zwhJtwnf2D+i/PQJdInWP7XCI3FWxtU/034RwX9y0z/IzVMJM/7SP5qaS0QVpNI/huk69f5i0j9HIVAhN2DSP/SKR09ZhtA/A+PlvpO6zz9WpOTEVhTQPzYQquZqss8/YUzMKaryzj+OaY0fc7/NPxST8rWz/co/suhqvc1fzD9UMSl5OMPLP0zC1P5oHMs/nopH+61nyj/rsVAeb8jHP2n6ibXvXsg//7eWKKc/xz9ulVv00o/EP+Q0/oufccU/owtoKuJ5xD/phfgQ1jDDPzt0VVttj8Q/uzbsmOpiwT9U9c3nZdrAPxoZxXOVUMA/G74W4vizvz9OYTIuD6a/P43/uon32rw/jCKBdRE4uz96RBVZQkPAP1a+xDTph7o/awSGHw4Buj+7zbYkrpW4P7yglI5jFbg/viFWftSRtz87DP61RdS5P7HKZ7DYo8E/C84fHzWgtz+0iCMKNby0Pwu6FzMUrLM/w6fzG8Fzsz/eHoY4oHaxP6P6o1HmQ7Q/Dg5yrTNAsT+ZRAs3iPaxP5Fyycm087A/W8OSPLbzsT9WGKgh5U2xP/iMwiMjfK4/5PxaW37Orz9KtXJAauCuP2x3AwfYJa4/hHHiI0jDsT+h2RRV8MqvP2YZbKJ/Ha0/cnQFC1jWqz/Dt2u+sE2qP1ge+E2y+as/ltCV8lKPrD+SZaHSfoWoP7y/pB9Nga0/v48a04xRpj8/mXBpvF6oPxuimNa6gas/co6Nh3q8qj8+rYVPrx2tP8f75tYC2Ks/kD2QV18eqD9o/ot5zl2oP+oq7mKTtrI/OSFjZRbnpz+wccGKdqKmP2y53+LRf6Y/bJduA/EyoT8GswiDt/amP5eXlLIKjqY/Wzr0Ih6HoT/IbL53F+GkP9EskWY/+6E/HCBo+TQHpD8xTeCjpu6iP8mCf7Je36U/SBgu7StVqj8XJSLQIaOmP7azrQaCIqY/m+y4iSX5qj+I+S+XUqSkP2hTHeSfcqg/CHlYeR3Upj9LRdr59kKkP0dLfYen2ag//93uNr4bpT9wlHe7m3SkPwAMYhNfpqo/Up4ykLgtoT9wEiWalOyjP3otgcNhnac/aPktj3Z0pT9eDW0lQHmsP/4f67BXZqs/tZwn2dZhqT+GJVbvCyGrP01y9IlHQKg/zG0nb4Kmqz+VqMLbaV2nP6aHTaJXp7A/vxjUnp9GqD+114Lr95OnPwxEOlg+bqg//1HLYsWUqD9Cq0iryVquP+4KGxqJY6s/JsHf/0+Xqj8DAwYt84ijPxpRPh84Pac/0uB8Z+k1pj8z7zeJP8+kP47tTsFLWag/mO//xoeqpD/b9mpP2+2tPzfx+GC5Wao/xJhXh+R3oT8hdOSW3SGwP9I9eSOupa8/9ae59CYLpz+wfmn1h4KvP3p4EORv8qc/",
          "dtype": "f8"
         }
        },
        {
         "fill": "tonexty",
         "fillcolor": "rgba(0, 48, 73, 0.2)",
         "hoverinfo": "skip",
         "line": {
          "width": 0
         },
         "mode": "lines",
         "name": "especial ±1σ",
         "type": "scatter",
         "x": {
          "bdata": "AAABAAIAAwAEAAUABgAHAAgACQAKAAsADAANAA4ADwAQABEAEgATABQAFQAWABcAGAAZABoAGwAcAB0AHgAfACAAIQAiACMAJAAlACYAJwAoACkAKgArACwALQAuAC8AMAAxADIAMwA0ADUANgA3ADgAOQA6ADsAPAA9AD4APwBAAEEAQgBDAEQARQBGAEcASABJAEoASwBMAE0ATgBPAFAAUQBSAFMAVABVAFYAVwBYAFkAWgBbAFwAXQBeAF8AYABhAGIAYwBkAGUAZgBnAGgAaQBqAGsAbABtAG4AbwBwAHEAcgBzAHQAdQB2AHcAeAB5AHoAewB8AH0AfgB/AIAAgQCCAIMAhACFAIYAhwCIAIkAigCLAIwAjQCOAI8AkACRAJIAkwCUAJUAlgCXAJgAmQCaAJsAnACdAJ4AnwCgAKEAogCjAKQApQCmAKcAqACpAKoAqwCsAK0ArgCvALAAsQCyALMAtAC1ALYAtwC4ALkAugC7ALwAvQC+AL8AwADBAMIAwwDEAMUAxgDHAMgAyQDKAMsAzADNAM4AzwDQANEA0gDTANQA1QDWANcA2ADZANoA2wDcAN0A3gDfAOAA4QDiAOMA5ADlAOYA5wDoAOkA6gDrAOwA7QDuAO8A8ADxAPIA8wD0APUA9gD3APgA+QD6APsA/AD9AP4A/wAAAQEBAgEDAQQBBQEGAQcBCAEJAQoBCwEMAQ0BDgEPARABEQESARMBFAEVARYBFwEYARkBGgEbARwBHQEeAR8B",
          "dtype": "i2"
         },
         "y": {
          "bdata": "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",
          "dtype": "f8"
         }
        },
        {
         "line": {
          "color": "rgba(0, 48, 73, 0.9)",
          "width": 2
         },
         "mode": "lines",
         "name": "especial (mean)",
         "type": "scatter",
         "x": {
          "bdata": "AAABAAIAAwAEAAUABgAHAAgACQAKAAsADAANAA4ADwAQABEAEgATABQAFQAWABcAGAAZABoAGwAcAB0AHgAfACAAIQAiACMAJAAlACYAJwAoACkAKgArACwALQAuAC8AMAAxADIAMwA0ADUANgA3ADgAOQA6ADsAPAA9AD4APwBAAEEAQgBDAEQARQBGAEcASABJAEoASwBMAE0ATgBPAFAAUQBSAFMAVABVAFYAVwBYAFkAWgBbAFwAXQBeAF8AYABhAGIAYwBkAGUAZgBnAGgAaQBqAGsAbABtAG4AbwBwAHEAcgBzAHQAdQB2AHcAeAB5AHoAewB8AH0AfgB/AIAAgQCCAIMAhACFAIYAhwCIAIkAigCLAIwAjQCOAI8AkACRAJIAkwCUAJUAlgCXAJgAmQCaAJsAnACdAJ4AnwCgAKEAogCjAKQApQCmAKcAqACpAKoAqwCsAK0ArgCvALAAsQCyALMAtAC1ALYAtwC4ALkAugC7ALwAvQC+AL8AwADBAMIAwwDEAMUAxgDHAMgAyQDKAMsAzADNAM4AzwDQANEA0gDTANQA1QDWANcA2ADZANoA2wDcAN0A3gDfAOAA4QDiAOMA5ADlAOYA5wDoAOkA6gDrAOwA7QDuAO8A8ADxAPIA8wD0APUA9gD3APgA+QD6APsA/AD9AP4A/wAAAQEBAgEDAQQBBQEGAQcBCAEJAQoBCwEMAQ0BDgEPARABEQESARMBFAEVARYBFwEYARkBGgEbARwBHQEeAR8B",
          "dtype": "i2"
         },
         "y": {
          "bdata": "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",
          "dtype": "f8"
         }
        },
        {
         "hoverinfo": "skip",
         "line": {
          "width": 0
         },
         "mode": "lines",
         "showlegend": false,
         "type": "scatter",
         "x": {
          "bdata": "AAABAAIAAwAEAAUABgAHAAgACQAKAAsADAANAA4ADwAQABEAEgATABQAFQAWABcAGAAZABoAGwAcAB0AHgAfACAAIQAiACMAJAAlACYAJwAoACkAKgArACwALQAuAC8AMAAxADIAMwA0ADUANgA3ADgAOQA6ADsAPAA9AD4APwBAAEEAQgBDAEQARQBGAEcASABJAEoASwBMAE0ATgBPAFAAUQBSAFMAVABVAFYAVwBYAFkAWgBbAFwAXQBeAF8AYABhAGIAYwBkAGUAZgBnAGgAaQBqAGsAbABtAG4AbwBwAHEAcgBzAHQAdQB2AHcAeAB5AHoAewB8AH0AfgB/AIAAgQCCAIMAhACFAIYAhwCIAIkAigCLAIwAjQCOAI8AkACRAJIAkwCUAJUAlgCXAJgAmQCaAJsAnACdAJ4AnwCgAKEAogCjAKQApQCmAKcAqACpAKoAqwCsAK0ArgCvALAAsQCyALMAtAC1ALYAtwC4ALkAugC7ALwAvQC+AL8AwADBAMIAwwDEAMUAxgDHAMgAyQDKAMsAzADNAM4AzwDQANEA0gDTANQA1QDWANcA2ADZANoA2wDcAN0A3gDfAOAA4QDiAOMA5ADlAOYA5wDoAOkA6gDrAOwA7QDuAO8A8ADxAPIA8wD0APUA9gD3APgA+QD6APsA/AD9AP4A/wAAAQEBAgEDAQQBBQEGAQcBCAEJAQoBCwEMAQ0BDgEPARABEQESARMBFAEVARYBFwEYARkBGgEbARwBHQEeAR8B",
          "dtype": "i2"
         },
         "y": {
          "bdata": "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",
          "dtype": "f8"
         }
        },
        {
         "fill": "tonexty",
         "fillcolor": "rgba(120, 0, 0, 0.2)",
         "hoverinfo": "skip",
         "line": {
          "width": 0
         },
         "mode": "lines",
         "name": "neutro ±1σ",
         "type": "scatter",
         "x": {
          "bdata": "AAABAAIAAwAEAAUABgAHAAgACQAKAAsADAANAA4ADwAQABEAEgATABQAFQAWABcAGAAZABoAGwAcAB0AHgAfACAAIQAiACMAJAAlACYAJwAoACkAKgArACwALQAuAC8AMAAxADIAMwA0ADUANgA3ADgAOQA6ADsAPAA9AD4APwBAAEEAQgBDAEQARQBGAEcASABJAEoASwBMAE0ATgBPAFAAUQBSAFMAVABVAFYAVwBYAFkAWgBbAFwAXQBeAF8AYABhAGIAYwBkAGUAZgBnAGgAaQBqAGsAbABtAG4AbwBwAHEAcgBzAHQAdQB2AHcAeAB5AHoAewB8AH0AfgB/AIAAgQCCAIMAhACFAIYAhwCIAIkAigCLAIwAjQCOAI8AkACRAJIAkwCUAJUAlgCXAJgAmQCaAJsAnACdAJ4AnwCgAKEAogCjAKQApQCmAKcAqACpAKoAqwCsAK0ArgCvALAAsQCyALMAtAC1ALYAtwC4ALkAugC7ALwAvQC+AL8AwADBAMIAwwDEAMUAxgDHAMgAyQDKAMsAzADNAM4AzwDQANEA0gDTANQA1QDWANcA2ADZANoA2wDcAN0A3gDfAOAA4QDiAOMA5ADlAOYA5wDoAOkA6gDrAOwA7QDuAO8A8ADxAPIA8wD0APUA9gD3APgA+QD6APsA/AD9AP4A/wAAAQEBAgEDAQQBBQEGAQcBCAEJAQoBCwEMAQ0BDgEPARABEQESARMBFAEVARYBFwEYARkBGgEbARwBHQEeAR8B",
          "dtype": "i2"
         },
         "y": {
          "bdata": "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",
          "dtype": "f8"
         }
        },
        {
         "line": {
          "color": "rgba(120, 0, 0, 0.9)",
          "width": 2
         },
         "mode": "lines",
         "name": "neutro (mean)",
         "type": "scatter",
         "x": {
          "bdata": "AAABAAIAAwAEAAUABgAHAAgACQAKAAsADAANAA4ADwAQABEAEgATABQAFQAWABcAGAAZABoAGwAcAB0AHgAfACAAIQAiACMAJAAlACYAJwAoACkAKgArACwALQAuAC8AMAAxADIAMwA0ADUANgA3ADgAOQA6ADsAPAA9AD4APwBAAEEAQgBDAEQARQBGAEcASABJAEoASwBMAE0ATgBPAFAAUQBSAFMAVABVAFYAVwBYAFkAWgBbAFwAXQBeAF8AYABhAGIAYwBkAGUAZgBnAGgAaQBqAGsAbABtAG4AbwBwAHEAcgBzAHQAdQB2AHcAeAB5AHoAewB8AH0AfgB/AIAAgQCCAIMAhACFAIYAhwCIAIkAigCLAIwAjQCOAI8AkACRAJIAkwCUAJUAlgCXAJgAmQCaAJsAnACdAJ4AnwCgAKEAogCjAKQApQCmAKcAqACpAKoAqwCsAK0ArgCvALAAsQCyALMAtAC1ALYAtwC4ALkAugC7ALwAvQC+AL8AwADBAMIAwwDEAMUAxgDHAMgAyQDKAMsAzADNAM4AzwDQANEA0gDTANQA1QDWANcA2ADZANoA2wDcAN0A3gDfAOAA4QDiAOMA5ADlAOYA5wDoAOkA6gDrAOwA7QDuAO8A8ADxAPIA8wD0APUA9gD3APgA+QD6APsA/AD9AP4A/wAAAQEBAgEDAQQBBQEGAQcBCAEJAQoBCwEMAQ0BDgEPARABEQESARMBFAEVARYBFwEYARkBGgEbARwBHQEeAR8B",
          "dtype": "i2"
         },
         "y": {
          "bdata": "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",
          "dtype": "f8"
         }
        }
       ],
       "layout": {
        "template": {
         "data": {
          "bar": [
           {
            "error_x": {
             "color": "#2a3f5f"
            },
            "error_y": {
             "color": "#2a3f5f"
            },
            "marker": {
             "line": {
              "color": "white",
              "width": 0.5
             },
             "pattern": {
              "fillmode": "overlay",
              "size": 10,
              "solidity": 0.2
             }
            },
            "type": "bar"
           }
          ],
          "barpolar": [
           {
            "marker": {
             "line": {
              "color": "white",
              "width": 0.5
             },
             "pattern": {
              "fillmode": "overlay",
              "size": 10,
              "solidity": 0.2
             }
            },
            "type": "barpolar"
           }
          ],
          "carpet": [
           {
            "aaxis": {
             "endlinecolor": "#2a3f5f",
             "gridcolor": "#C8D4E3",
             "linecolor": "#C8D4E3",
             "minorgridcolor": "#C8D4E3",
             "startlinecolor": "#2a3f5f"
            },
            "baxis": {
             "endlinecolor": "#2a3f5f",
             "gridcolor": "#C8D4E3",
             "linecolor": "#C8D4E3",
             "minorgridcolor": "#C8D4E3",
             "startlinecolor": "#2a3f5f"
            },
            "type": "carpet"
           }
          ],
          "choropleth": [
           {
            "colorbar": {
             "outlinewidth": 0,
             "ticks": ""
            },
            "type": "choropleth"
           }
          ],
          "contour": [
           {
            "colorbar": {
             "outlinewidth": 0,
             "ticks": ""
            },
            "colorscale": [
             [
              0,
              "#0d0887"
             ],
             [
              0.1111111111111111,
              "#46039f"
             ],
             [
              0.2222222222222222,
              "#7201a8"
             ],
             [
              0.3333333333333333,
              "#9c179e"
             ],
             [
              0.4444444444444444,
              "#bd3786"
             ],
             [
              0.5555555555555556,
              "#d8576b"
             ],
             [
              0.6666666666666666,
              "#ed7953"
             ],
             [
              0.7777777777777778,
              "#fb9f3a"
             ],
             [
              0.8888888888888888,
              "#fdca26"
             ],
             [
              1,
              "#f0f921"
             ]
            ],
            "type": "contour"
           }
          ],
          "contourcarpet": [
           {
            "colorbar": {
             "outlinewidth": 0,
             "ticks": ""
            },
            "type": "contourcarpet"
           }
          ],
          "heatmap": [
           {
            "colorbar": {
             "outlinewidth": 0,
             "ticks": ""
            },
            "colorscale": [
             [
              0,
              "#0d0887"
             ],
             [
              0.1111111111111111,
              "#46039f"
             ],
             [
              0.2222222222222222,
              "#7201a8"
             ],
             [
              0.3333333333333333,
              "#9c179e"
             ],
             [
              0.4444444444444444,
              "#bd3786"
             ],
             [
              0.5555555555555556,
              "#d8576b"
             ],
             [
              0.6666666666666666,
              "#ed7953"
             ],
             [
              0.7777777777777778,
              "#fb9f3a"
             ],
             [
              0.8888888888888888,
              "#fdca26"
             ],
             [
              1,
              "#f0f921"
             ]
            ],
            "type": "heatmap"
           }
          ],
          "histogram": [
           {
            "marker": {
             "pattern": {
              "fillmode": "overlay",
              "size": 10,
              "solidity": 0.2
             }
            },
            "type": "histogram"
           }
          ],
          "histogram2d": [
           {
            "colorbar": {
             "outlinewidth": 0,
             "ticks": ""
            },
            "colorscale": [
             [
              0,
              "#0d0887"
             ],
             [
              0.1111111111111111,
              "#46039f"
             ],
             [
              0.2222222222222222,
              "#7201a8"
             ],
             [
              0.3333333333333333,
              "#9c179e"
             ],
             [
              0.4444444444444444,
              "#bd3786"
             ],
             [
              0.5555555555555556,
              "#d8576b"
             ],
             [
              0.6666666666666666,
              "#ed7953"
             ],
             [
              0.7777777777777778,
              "#fb9f3a"
             ],
             [
              0.8888888888888888,
              "#fdca26"
             ],
             [
              1,
              "#f0f921"
             ]
            ],
            "type": "histogram2d"
           }
          ],
          "histogram2dcontour": [
           {
            "colorbar": {
             "outlinewidth": 0,
             "ticks": ""
            },
            "colorscale": [
             [
              0,
              "#0d0887"
             ],
             [
              0.1111111111111111,
              "#46039f"
             ],
             [
              0.2222222222222222,
              "#7201a8"
             ],
             [
              0.3333333333333333,
              "#9c179e"
             ],
             [
              0.4444444444444444,
              "#bd3786"
             ],
             [
              0.5555555555555556,
              "#d8576b"
             ],
             [
              0.6666666666666666,
              "#ed7953"
             ],
             [
              0.7777777777777778,
              "#fb9f3a"
             ],
             [
              0.8888888888888888,
              "#fdca26"
             ],
             [
              1,
              "#f0f921"
             ]
            ],
            "type": "histogram2dcontour"
           }
          ],
          "mesh3d": [
           {
            "colorbar": {
             "outlinewidth": 0,
             "ticks": ""
            },
            "type": "mesh3d"
           }
          ],
          "parcoords": [
           {
            "line": {
             "colorbar": {
              "outlinewidth": 0,
              "ticks": ""
             }
            },
            "type": "parcoords"
           }
          ],
          "pie": [
           {
            "automargin": true,
            "type": "pie"
           }
          ],
          "scatter": [
           {
            "fillpattern": {
             "fillmode": "overlay",
             "size": 10,
             "solidity": 0.2
            },
            "type": "scatter"
           }
          ],
          "scatter3d": [
           {
            "line": {
             "colorbar": {
              "outlinewidth": 0,
              "ticks": ""
             }
            },
            "marker": {
             "colorbar": {
              "outlinewidth": 0,
              "ticks": ""
             }
            },
            "type": "scatter3d"
           }
          ],
          "scattercarpet": [
           {
            "marker": {
             "colorbar": {
              "outlinewidth": 0,
              "ticks": ""
             }
            },
            "type": "scattercarpet"
           }
          ],
          "scattergeo": [
           {
            "marker": {
             "colorbar": {
              "outlinewidth": 0,
              "ticks": ""
             }
            },
            "type": "scattergeo"
           }
          ],
          "scattergl": [
           {
            "marker": {
             "colorbar": {
              "outlinewidth": 0,
              "ticks": ""
             }
            },
            "type": "scattergl"
           }
          ],
          "scattermap": [
           {
            "marker": {
             "colorbar": {
              "outlinewidth": 0,
              "ticks": ""
             }
            },
            "type": "scattermap"
           }
          ],
          "scattermapbox": [
           {
            "marker": {
             "colorbar": {
              "outlinewidth": 0,
              "ticks": ""
             }
            },
            "type": "scattermapbox"
           }
          ],
          "scatterpolar": [
           {
            "marker": {
             "colorbar": {
              "outlinewidth": 0,
              "ticks": ""
             }
            },
            "type": "scatterpolar"
           }
          ],
          "scatterpolargl": [
           {
            "marker": {
             "colorbar": {
              "outlinewidth": 0,
              "ticks": ""
             }
            },
            "type": "scatterpolargl"
           }
          ],
          "scatterternary": [
           {
            "marker": {
             "colorbar": {
              "outlinewidth": 0,
              "ticks": ""
             }
            },
            "type": "scatterternary"
           }
          ],
          "surface": [
           {
            "colorbar": {
             "outlinewidth": 0,
             "ticks": ""
            },
            "colorscale": [
             [
              0,
              "#0d0887"
             ],
             [
              0.1111111111111111,
              "#46039f"
             ],
             [
              0.2222222222222222,
              "#7201a8"
             ],
             [
              0.3333333333333333,
              "#9c179e"
             ],
             [
              0.4444444444444444,
              "#bd3786"
             ],
             [
              0.5555555555555556,
              "#d8576b"
             ],
             [
              0.6666666666666666,
              "#ed7953"
             ],
             [
              0.7777777777777778,
              "#fb9f3a"
             ],
             [
              0.8888888888888888,
              "#fdca26"
             ],
             [
              1,
              "#f0f921"
             ]
            ],
            "type": "surface"
           }
          ],
          "table": [
           {
            "cells": {
             "fill": {
              "color": "#EBF0F8"
             },
             "line": {
              "color": "white"
             }
            },
            "header": {
             "fill": {
              "color": "#C8D4E3"
             },
             "line": {
              "color": "white"
             }
            },
            "type": "table"
           }
          ]
         },
         "layout": {
          "annotationdefaults": {
           "arrowcolor": "#2a3f5f",
           "arrowhead": 0,
           "arrowwidth": 1
          },
          "autotypenumbers": "strict",
          "coloraxis": {
           "colorbar": {
            "outlinewidth": 0,
            "ticks": ""
           }
          },
          "colorscale": {
           "diverging": [
            [
             0,
             "#8e0152"
            ],
            [
             0.1,
             "#c51b7d"
            ],
            [
             0.2,
             "#de77ae"
            ],
            [
             0.3,
             "#f1b6da"
            ],
            [
             0.4,
             "#fde0ef"
            ],
            [
             0.5,
             "#f7f7f7"
            ],
            [
             0.6,
             "#e6f5d0"
            ],
            [
             0.7,
             "#b8e186"
            ],
            [
             0.8,
             "#7fbc41"
            ],
            [
             0.9,
             "#4d9221"
            ],
            [
             1,
             "#276419"
            ]
           ],
           "sequential": [
            [
             0,
             "#0d0887"
            ],
            [
             0.1111111111111111,
             "#46039f"
            ],
            [
             0.2222222222222222,
             "#7201a8"
            ],
            [
             0.3333333333333333,
             "#9c179e"
            ],
            [
             0.4444444444444444,
             "#bd3786"
            ],
            [
             0.5555555555555556,
             "#d8576b"
            ],
            [
             0.6666666666666666,
             "#ed7953"
            ],
            [
             0.7777777777777778,
             "#fb9f3a"
            ],
            [
             0.8888888888888888,
             "#fdca26"
            ],
            [
             1,
             "#f0f921"
            ]
           ],
           "sequentialminus": [
            [
             0,
             "#0d0887"
            ],
            [
             0.1111111111111111,
             "#46039f"
            ],
            [
             0.2222222222222222,
             "#7201a8"
            ],
            [
             0.3333333333333333,
             "#9c179e"
            ],
            [
             0.4444444444444444,
             "#bd3786"
            ],
            [
             0.5555555555555556,
             "#d8576b"
            ],
            [
             0.6666666666666666,
             "#ed7953"
            ],
            [
             0.7777777777777778,
             "#fb9f3a"
            ],
            [
             0.8888888888888888,
             "#fdca26"
            ],
            [
             1,
             "#f0f921"
            ]
           ]
          },
          "colorway": [
           "#636efa",
           "#EF553B",
           "#00cc96",
           "#ab63fa",
           "#FFA15A",
           "#19d3f3",
           "#FF6692",
           "#B6E880",
           "#FF97FF",
           "#FECB52"
          ],
          "font": {
           "color": "#2a3f5f"
          },
          "geo": {
           "bgcolor": "white",
           "lakecolor": "white",
           "landcolor": "white",
           "showlakes": true,
           "showland": true,
           "subunitcolor": "#C8D4E3"
          },
          "hoverlabel": {
           "align": "left"
          },
          "hovermode": "closest",
          "mapbox": {
           "style": "light"
          },
          "paper_bgcolor": "white",
          "plot_bgcolor": "white",
          "polar": {
           "angularaxis": {
            "gridcolor": "#EBF0F8",
            "linecolor": "#EBF0F8",
            "ticks": ""
           },
           "bgcolor": "white",
           "radialaxis": {
            "gridcolor": "#EBF0F8",
            "linecolor": "#EBF0F8",
            "ticks": ""
           }
          },
          "scene": {
           "xaxis": {
            "backgroundcolor": "white",
            "gridcolor": "#DFE8F3",
            "gridwidth": 2,
            "linecolor": "#EBF0F8",
            "showbackground": true,
            "ticks": "",
            "zerolinecolor": "#EBF0F8"
           },
           "yaxis": {
            "backgroundcolor": "white",
            "gridcolor": "#DFE8F3",
            "gridwidth": 2,
            "linecolor": "#EBF0F8",
            "showbackground": true,
            "ticks": "",
            "zerolinecolor": "#EBF0F8"
           },
           "zaxis": {
            "backgroundcolor": "white",
            "gridcolor": "#DFE8F3",
            "gridwidth": 2,
            "linecolor": "#EBF0F8",
            "showbackground": true,
            "ticks": "",
            "zerolinecolor": "#EBF0F8"
           }
          },
          "shapedefaults": {
           "line": {
            "color": "#2a3f5f"
           }
          },
          "ternary": {
           "aaxis": {
            "gridcolor": "#DFE8F3",
            "linecolor": "#A2B1C6",
            "ticks": ""
           },
           "baxis": {
            "gridcolor": "#DFE8F3",
            "linecolor": "#A2B1C6",
            "ticks": ""
           },
           "bgcolor": "white",
           "caxis": {
            "gridcolor": "#DFE8F3",
            "linecolor": "#A2B1C6",
            "ticks": ""
           }
          },
          "title": {
           "x": 0.05
          },
          "xaxis": {
           "automargin": true,
           "gridcolor": "#EBF0F8",
           "linecolor": "#EBF0F8",
           "ticks": "",
           "title": {
            "standoff": 15
           },
           "zerolinecolor": "#EBF0F8",
           "zerolinewidth": 2
          },
          "yaxis": {
           "automargin": true,
           "gridcolor": "#EBF0F8",
           "linecolor": "#EBF0F8",
           "ticks": "",
           "title": {
            "standoff": 15
           },
           "zerolinecolor": "#EBF0F8",
           "zerolinewidth": 2
          }
         }
        },
        "title": {
         "text": "Espectros Médios por Tipo de Bebida"
        },
        "xaxis": {
         "title": {
          "text": "Índice de Banda"
         }
        },
        "yaxis": {
         "title": {
          "text": "Intensidade"
         }
        }
       }
      }
     },
     "metadata": {},
     "output_type": "display_data"
    }
   ],
   "source": [
    "n_bands = np.arange(288)\n",
    "\n",
    "fig = go.Figure()\n",
    "for beverage in mean_spec1:\n",
    "    y_mean = mean_spec1[beverage]\n",
    "    y_std = std_spec[beverage]\n",
    "    color = COLORS['beverage_type'].get(beverage, '#999999')\n",
    "    \n",
    "    def _hex_to_rgb(hex_color):\n",
    "        hex_color = hex_color.lstrip(\"#\")\n",
    "        return (\"rgba\" + str(tuple(int(hex_color[i:i+2], 16) for i in (0, 2, 4)))).replace(\")\", ', 0.9)')\n",
    "    \n",
    "    color = _hex_to_rgb(color)\n",
    "    \n",
    "    fig.add_trace(go.Scatter(\n",
    "        x=n_bands, y=y_mean + y_std,\n",
    "        mode='lines',\n",
    "        line=dict(width=0),\n",
    "        showlegend=False,\n",
    "        hoverinfo='skip'\n",
    "    ))\n",
    "\n",
    "    fig.add_trace(go.Scatter(\n",
    "        x=n_bands, y=y_mean - y_std,\n",
    "        fill='tonexty',  # preenche entre esse trace e o anterior\n",
    "        fillcolor=color.replace(\"0.9\", '0.2'),\n",
    "        line=dict(width=0),\n",
    "        mode='lines',\n",
    "        name=f\"{beverage} ±1σ\",\n",
    "        hoverinfo='skip'\n",
    "    ))\n",
    "\n",
    "    # Curva da média\n",
    "    fig.add_trace(go.Scatter(\n",
    "        x=n_bands, y=y_mean,\n",
    "        mode='lines',\n",
    "        name=f\"{beverage} (mean)\",\n",
    "        line=dict(color=color, width=2),\n",
    "    ))\n",
    "\n",
    "# Layout\n",
    "fig.update_layout(\n",
    "    title=\"Espectros Médios por Tipo de Bebida\",\n",
    "    xaxis_title=\"Índice de Banda\",\n",
    "    yaxis_title=\"Intensidade\",\n",
    "    template=\"plotly_white\"\n",
    ")\n",
    "\n",
    "fig.show()\n"
   ]
  },
  {
   "cell_type": "code",
   "execution_count": 220,
   "id": "a1f53cd3",
   "metadata": {},
   "outputs": [],
   "source": [
    "mean_spec2, std_spec2 = {}, {}\n",
    "\n",
    "for beverage, specs in df2.groupby('beverage_type')['spectrum']:\n",
    "    stack = np.vstack(specs.values)\n",
    "    mean_spec2[beverage] = stack.mean(axis=0)\n",
    "    # Desvio padrão amostral\n",
    "    std_spec2[beverage] = stack.std(axis=0, ddof=1)"
   ]
  },
  {
   "cell_type": "code",
   "execution_count": 219,
   "id": "1ed3a267",
   "metadata": {},
   "outputs": [
    {
     "data": {
      "text/plain": [
       "(420, 5)"
      ]
     },
     "execution_count": 219,
     "metadata": {},
     "output_type": "execute_result"
    }
   ],
   "source": [
    "df3.shape"
   ]
  },
  {
   "cell_type": "code",
   "execution_count": 221,
   "id": "5ccdc5d2",
   "metadata": {},
   "outputs": [
    {
     "data": {
      "application/vnd.plotly.v1+json": {
       "config": {
        "plotlyServerURL": "https://plot.ly"
       },
       "data": [
        {
         "hoverinfo": "skip",
         "line": {
          "width": 0
         },
         "mode": "lines",
         "showlegend": false,
         "type": "scatter",
         "x": {
          "bdata": "AAABAAIAAwAEAAUABgAHAAgACQAKAAsADAANAA4ADwAQABEAEgATABQAFQAWABcAGAAZABoAGwAcAB0AHgAfACAAIQAiACMAJAAlACYAJwAoACkAKgArACwALQAuAC8AMAAxADIAMwA0ADUANgA3ADgAOQA6ADsAPAA9AD4APwBAAEEAQgBDAEQARQBGAEcASABJAEoASwBMAE0ATgBPAFAAUQBSAFMAVABVAFYAVwBYAFkAWgBbAFwAXQBeAF8AYABhAGIAYwBkAGUAZgBnAGgAaQBqAGsAbABtAG4AbwBwAHEAcgBzAHQAdQB2AHcAeAB5AHoAewB8AH0AfgB/AIAAgQCCAIMAhACFAIYAhwCIAIkAigCLAIwAjQCOAI8AkACRAJIAkwCUAJUAlgCXAJgAmQCaAJsAnACdAJ4AnwCgAKEAogCjAKQApQCmAKcAqACpAKoAqwCsAK0ArgCvALAAsQCyALMAtAC1ALYAtwC4ALkAugC7ALwAvQC+AL8AwADBAMIAwwDEAMUAxgDHAMgAyQDKAMsAzADNAM4AzwDQANEA0gDTANQA1QDWANcA2ADZANoA2wDcAN0A3gDfAOAA4QDiAOMA5ADlAOYA5wDoAOkA6gDrAOwA7QDuAO8A8ADxAPIA8wD0APUA9gD3APgA+QD6APsA/AD9AP4A/wAAAQEBAgEDAQQBBQEGAQcBCAEJAQoBCwEMAQ0BDgEPARABEQESARMBFAEVARYBFwEYARkBGgEbARwBHQEeAR8B",
          "dtype": "i2"
         },
         "y": {
          "bdata": "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",
          "dtype": "f8"
         }
        },
        {
         "fill": "tonexty",
         "fillcolor": "rgba(102, 155, 188, 0.2)",
         "hoverinfo": "skip",
         "line": {
          "width": 0
         },
         "mode": "lines",
         "name": "blend ±1σ",
         "type": "scatter",
         "x": {
          "bdata": "AAABAAIAAwAEAAUABgAHAAgACQAKAAsADAANAA4ADwAQABEAEgATABQAFQAWABcAGAAZABoAGwAcAB0AHgAfACAAIQAiACMAJAAlACYAJwAoACkAKgArACwALQAuAC8AMAAxADIAMwA0ADUANgA3ADgAOQA6ADsAPAA9AD4APwBAAEEAQgBDAEQARQBGAEcASABJAEoASwBMAE0ATgBPAFAAUQBSAFMAVABVAFYAVwBYAFkAWgBbAFwAXQBeAF8AYABhAGIAYwBkAGUAZgBnAGgAaQBqAGsAbABtAG4AbwBwAHEAcgBzAHQAdQB2AHcAeAB5AHoAewB8AH0AfgB/AIAAgQCCAIMAhACFAIYAhwCIAIkAigCLAIwAjQCOAI8AkACRAJIAkwCUAJUAlgCXAJgAmQCaAJsAnACdAJ4AnwCgAKEAogCjAKQApQCmAKcAqACpAKoAqwCsAK0ArgCvALAAsQCyALMAtAC1ALYAtwC4ALkAugC7ALwAvQC+AL8AwADBAMIAwwDEAMUAxgDHAMgAyQDKAMsAzADNAM4AzwDQANEA0gDTANQA1QDWANcA2ADZANoA2wDcAN0A3gDfAOAA4QDiAOMA5ADlAOYA5wDoAOkA6gDrAOwA7QDuAO8A8ADxAPIA8wD0APUA9gD3APgA+QD6APsA/AD9AP4A/wAAAQEBAgEDAQQBBQEGAQcBCAEJAQoBCwEMAQ0BDgEPARABEQESARMBFAEVARYBFwEYARkBGgEbARwBHQEeAR8B",
          "dtype": "i2"
         },
         "y": {
          "bdata": "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",
          "dtype": "f8"
         }
        },
        {
         "line": {
          "color": "rgba(102, 155, 188, 0.9)",
          "width": 2
         },
         "mode": "lines",
         "name": "blend (mean)",
         "type": "scatter",
         "x": {
          "bdata": "AAABAAIAAwAEAAUABgAHAAgACQAKAAsADAANAA4ADwAQABEAEgATABQAFQAWABcAGAAZABoAGwAcAB0AHgAfACAAIQAiACMAJAAlACYAJwAoACkAKgArACwALQAuAC8AMAAxADIAMwA0ADUANgA3ADgAOQA6ADsAPAA9AD4APwBAAEEAQgBDAEQARQBGAEcASABJAEoASwBMAE0ATgBPAFAAUQBSAFMAVABVAFYAVwBYAFkAWgBbAFwAXQBeAF8AYABhAGIAYwBkAGUAZgBnAGgAaQBqAGsAbABtAG4AbwBwAHEAcgBzAHQAdQB2AHcAeAB5AHoAewB8AH0AfgB/AIAAgQCCAIMAhACFAIYAhwCIAIkAigCLAIwAjQCOAI8AkACRAJIAkwCUAJUAlgCXAJgAmQCaAJsAnACdAJ4AnwCgAKEAogCjAKQApQCmAKcAqACpAKoAqwCsAK0ArgCvALAAsQCyALMAtAC1ALYAtwC4ALkAugC7ALwAvQC+AL8AwADBAMIAwwDEAMUAxgDHAMgAyQDKAMsAzADNAM4AzwDQANEA0gDTANQA1QDWANcA2ADZANoA2wDcAN0A3gDfAOAA4QDiAOMA5ADlAOYA5wDoAOkA6gDrAOwA7QDuAO8A8ADxAPIA8wD0APUA9gD3APgA+QD6APsA/AD9AP4A/wAAAQEBAgEDAQQBBQEGAQcBCAEJAQoBCwEMAQ0BDgEPARABEQESARMBFAEVARYBFwEYARkBGgEbARwBHQEeAR8B",
          "dtype": "i2"
         },
         "y": {
          "bdata": "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",
          "dtype": "f8"
         }
        },
        {
         "hoverinfo": "skip",
         "line": {
          "width": 0
         },
         "mode": "lines",
         "showlegend": false,
         "type": "scatter",
         "x": {
          "bdata": "AAABAAIAAwAEAAUABgAHAAgACQAKAAsADAANAA4ADwAQABEAEgATABQAFQAWABcAGAAZABoAGwAcAB0AHgAfACAAIQAiACMAJAAlACYAJwAoACkAKgArACwALQAuAC8AMAAxADIAMwA0ADUANgA3ADgAOQA6ADsAPAA9AD4APwBAAEEAQgBDAEQARQBGAEcASABJAEoASwBMAE0ATgBPAFAAUQBSAFMAVABVAFYAVwBYAFkAWgBbAFwAXQBeAF8AYABhAGIAYwBkAGUAZgBnAGgAaQBqAGsAbABtAG4AbwBwAHEAcgBzAHQAdQB2AHcAeAB5AHoAewB8AH0AfgB/AIAAgQCCAIMAhACFAIYAhwCIAIkAigCLAIwAjQCOAI8AkACRAJIAkwCUAJUAlgCXAJgAmQCaAJsAnACdAJ4AnwCgAKEAogCjAKQApQCmAKcAqACpAKoAqwCsAK0ArgCvALAAsQCyALMAtAC1ALYAtwC4ALkAugC7ALwAvQC+AL8AwADBAMIAwwDEAMUAxgDHAMgAyQDKAMsAzADNAM4AzwDQANEA0gDTANQA1QDWANcA2ADZANoA2wDcAN0A3gDfAOAA4QDiAOMA5ADlAOYA5wDoAOkA6gDrAOwA7QDuAO8A8ADxAPIA8wD0APUA9gD3APgA+QD6APsA/AD9AP4A/wAAAQEBAgEDAQQBBQEGAQcBCAEJAQoBCwEMAQ0BDgEPARABEQESARMBFAEVARYBFwEYARkBGgEbARwBHQEeAR8B",
          "dtype": "i2"
         },
         "y": {
          "bdata": "QrUg8rNHqT8f6JB92b+nP1IeI8mw1aQ/Fq53E/ohpj+fcVS0a3SsP+qhgEBg46M/5szubR2dqz8lwn+sXRWmP6lChCFZHKc/tOsF54CwpT++8HOlvMGjP25r2d89za0/8A9n2v/jpD82QyHYgnukP/5EhSjch64/Om2zbllYoj9LcbYrRcKqP5pjBi+vf6c/sEw4Xk/Qoz+wQE+Plk6pPzuahM3tv6k/rgR801q0pD88m7po87ixP2/anvfumrI/aWYJ6Rojwj8lKVuBwonNP8Z4o13909I/LJR1cnjk1D/36/WnUKzRPzDyRqe69co/vqECPvGmxz/QRFfYM13FP/lW/s4Tv8g/NEFU0ChwyD9S7CmA4tXEP+xwqBKjOcQ/REjJxMwQvj/qH2wVM225P55JnUmJhLc/LJutrsydsz8aAUcp9M+yP8qW+I/oN7M/4H131HASrD/cwPhhX9+wP9Q8RB1/oK4/tGxuYpAGrD/cEFWzea6xPyuhKO1sAKo/lxpGvsXCrT+cnJSotQirP8AcXRw2NKk/XJy2nL3drT9OLOyeD9yrP7izuvu/Vqw/s7oVrXcrsz+8CJyqTqqtP660PzjskLY/wUgjH9XCvT8+LFYpV3nDP8u/Tdonj88/+o4WRUn20z9S6gEmcp/VPyKCEztL/tU/CqHSl0XO0j/pobchKhjQP1wEG5Nus84/sns8k9whzz/SG5qctorRP8sGYZb0gNQ//8XpWOmN2D/3tjv0D/DfP0qC7E1j9uI/vlYPrJg05z888ArrZ0vqP/1KJaQ8wuw/zyXGVJeF7j9hyeUuiHbvP1w/0txIoe8/fU1R1Tnj7z/OltlBVWTvPyTykoVwD/A/kxSEOyPQ7z/cskRGJdTuP0gmqvcUT+4/BRFwU9QW7T+QgRc3E1DrPwSEdFCoMuo/lPE6NIm66D/ZcSys5nvnPx2ROzIANOY/SvYbWxMu5T/Mw9loppflPwCHlcusFOU/5jLbvjdU5T+NiSjzNHvlPxsiEV4sRuU/TIIZUjnX5T8D1iSfutzlP6poex1bWeU/dYr/FppS5T8PZ9m+fzHlP2oLaTbnFOQ/p9Pedvse5D8Ii+7+NiTjP4AygDId0eI/z2+DWlUW4j/OFJbFZjXhP9Z7tXT7LeE/fiNNjneR4D/fsCdvT8bfP2ZnIQx+feA/vrqHMkmE3j96VNGTqk3fP++keW6X+94/HiSun8Un3T+6rdjIV03ePyBLYnfjWNw/NbEpHTNC3D8qeTXHrr3cP7R9D3gBANs/T8TP1EBJ2j+qh0W/ESHaPz2nC5U7h9g/HC+i5JKZ2D8msvF/pXvXP4HGEBJaedY/eRWFag1J1j8paqFoAcbUP0EtVcY+89Q/RLNgZNqI0z9ufV0yTX7SP88k3stYPdM/c4TFZV5c0j+TZLDe/aXRP2DDQ+tjJNI/R2cDJsmB0T88e2ASjc/RP4ZNLo9KldI/VI3yOOpx0j9RgQoIrWPUP1G9LJk+ctU/yDBihWJ11j9qfLz1C8fZPzvoHCvbB9s/rQ9gdvV33j+ercEeXBHgPwW1EUUM6uA/wqWYJ2VP4j+5McWk5G/iP16DP4A0OeI/N8uKSEaf4j8+k2dK0t3gP0P3ql2KrOA/CPK7kiGn3j+o0C0D19TbP4ASw7Iehto/h/6snxi01z9BgR3yOrLVP60XMER5kNU/9v2Inzfu0j8VIkzh05vSP0i4xMquBNI/8e5eKU9t0T/Z+SsiTpbRP2DY+K4t5M8/LMAdKP17zz+3kxUtGVrQP5OYkphEPc8//ZgtwE+xzz/69C9xu3jOP1wRIPiNDMw/AmHSTE3XzT9rsVwQ3n7MP6q4ez2MKcs/N9vaMtZQzT8bfHDg4XrIP8veKiu3iso/ARLJkMmUyT8uTaIWjJPHP/l+W4rE8Mg/12JgBJEyxz+zGH3CX2XFPyCX0bZOSMg/YU56hBxOxT+fL/s4FxfGPzRsPN0W5cQ/2CeC1ntvwj+vkrQi13rEPyoSzs2LZcI/PrgDQtawwT8UTG/x1W/DP06ZtmWsfcE/aSJcy9AkwT+3q+uztynBP4cZ9VwJEcA/5/WIaaJ+wD8mAZ7ljqq+P6lfiDoKzLw/noBacgBkvj/dCvIcS3u7P3u+q1ZWRro/tPoBUmAQuz9LeYzeTrG3PwO6TLwpb7k/n6W4EozSuD+HnN6I5iy3P40TMmNGCrk/zNTJgT+vsz+siJ/92BW3P5usUxRTFbY/QjDIZeErtD/qemkhHZq2P5WLYe1+7LQ/fVVAwBmYsz88lhNK/XS1P9iBBdqFlrE/hMpOSXAYtD+mpqBKb4+zPy1l3o/RKbA/GLdKZxmMsz+xYJ6Fl52wP8TVYEDqCbE/t7Qe8SJ6sT+qwlTApkawPy6mSBNWN7I/s1FqNdT9sD/G0NaqPdauP+1md/EhNLI/YDC6In01qj9cdFCUVNatP4GnJJIcXLM/S14vg0Kwrj8GHDWv9GSwP8LfD5mGCa4/ELE3RVtNqz/K910oz2GvPxHZbK261K8/aom8RnxGpz8poByHXQ+xPyyNE3HUQak/jfz9uaDNrD/CgEOafPyuP8BseWe+t6s/RkaI30hGsD8Ul0IVVAmtPw4elY1x9qs/TEiUsP0osT8v7n4CHyuoP5DuVKQSu6o/EHSCgLyzqz+fQQzaZmKrPxSw7ClXr7A/+hDxI3HnqT9qVazzvRSsP6jAojxN9K4/0f1k/Quqpz/yXrEijxyvP+sSZXYgGKs/muXxigrjqD/2Hk2ddOmvP0dbYEUJwK4/dvX/3+EuqT+qyuqZb8yrPzjKPXTyD6k/nFNVooIMrz8wE7j5NjSqP5oVjQOVGKs/R/FwHL6cqj9kpwGZw92pP/o89GAgeao/7EAenYiDsD9GfgCOA1qsP9o3AiVGsK0/LI7BBJSzrD/u4SgXz6GkP4ybNxRkSK0/ImiwDWf7qD9w3RB4gR+oP9BEmxyKc68/EtjmSTGxqD+G95DIziSuPygJm6Qpeq0/lPAjHRBXpj/2uKgHn2CvPxZwiyk30as/viHsS1sDrD/8BkBH42GyP3CJLPLJ6qU/",
          "dtype": "f8"
         }
        },
        {
         "fill": "tonexty",
         "fillcolor": "rgba(120, 0, 0, 0.2)",
         "hoverinfo": "skip",
         "line": {
          "width": 0
         },
         "mode": "lines",
         "name": "cagour ±1σ",
         "type": "scatter",
         "x": {
          "bdata": "AAABAAIAAwAEAAUABgAHAAgACQAKAAsADAANAA4ADwAQABEAEgATABQAFQAWABcAGAAZABoAGwAcAB0AHgAfACAAIQAiACMAJAAlACYAJwAoACkAKgArACwALQAuAC8AMAAxADIAMwA0ADUANgA3ADgAOQA6ADsAPAA9AD4APwBAAEEAQgBDAEQARQBGAEcASABJAEoASwBMAE0ATgBPAFAAUQBSAFMAVABVAFYAVwBYAFkAWgBbAFwAXQBeAF8AYABhAGIAYwBkAGUAZgBnAGgAaQBqAGsAbABtAG4AbwBwAHEAcgBzAHQAdQB2AHcAeAB5AHoAewB8AH0AfgB/AIAAgQCCAIMAhACFAIYAhwCIAIkAigCLAIwAjQCOAI8AkACRAJIAkwCUAJUAlgCXAJgAmQCaAJsAnACdAJ4AnwCgAKEAogCjAKQApQCmAKcAqACpAKoAqwCsAK0ArgCvALAAsQCyALMAtAC1ALYAtwC4ALkAugC7ALwAvQC+AL8AwADBAMIAwwDEAMUAxgDHAMgAyQDKAMsAzADNAM4AzwDQANEA0gDTANQA1QDWANcA2ADZANoA2wDcAN0A3gDfAOAA4QDiAOMA5ADlAOYA5wDoAOkA6gDrAOwA7QDuAO8A8ADxAPIA8wD0APUA9gD3APgA+QD6APsA/AD9AP4A/wAAAQEBAgEDAQQBBQEGAQcBCAEJAQoBCwEMAQ0BDgEPARABEQESARMBFAEVARYBFwEYARkBGgEbARwBHQEeAR8B",
          "dtype": "i2"
         },
         "y": {
          "bdata": "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",
          "dtype": "f8"
         }
        },
        {
         "line": {
          "color": "rgba(120, 0, 0, 0.9)",
          "width": 2
         },
         "mode": "lines",
         "name": "cagour (mean)",
         "type": "scatter",
         "x": {
          "bdata": "AAABAAIAAwAEAAUABgAHAAgACQAKAAsADAANAA4ADwAQABEAEgATABQAFQAWABcAGAAZABoAGwAcAB0AHgAfACAAIQAiACMAJAAlACYAJwAoACkAKgArACwALQAuAC8AMAAxADIAMwA0ADUANgA3ADgAOQA6ADsAPAA9AD4APwBAAEEAQgBDAEQARQBGAEcASABJAEoASwBMAE0ATgBPAFAAUQBSAFMAVABVAFYAVwBYAFkAWgBbAFwAXQBeAF8AYABhAGIAYwBkAGUAZgBnAGgAaQBqAGsAbABtAG4AbwBwAHEAcgBzAHQAdQB2AHcAeAB5AHoAewB8AH0AfgB/AIAAgQCCAIMAhACFAIYAhwCIAIkAigCLAIwAjQCOAI8AkACRAJIAkwCUAJUAlgCXAJgAmQCaAJsAnACdAJ4AnwCgAKEAogCjAKQApQCmAKcAqACpAKoAqwCsAK0ArgCvALAAsQCyALMAtAC1ALYAtwC4ALkAugC7ALwAvQC+AL8AwADBAMIAwwDEAMUAxgDHAMgAyQDKAMsAzADNAM4AzwDQANEA0gDTANQA1QDWANcA2ADZANoA2wDcAN0A3gDfAOAA4QDiAOMA5ADlAOYA5wDoAOkA6gDrAOwA7QDuAO8A8ADxAPIA8wD0APUA9gD3APgA+QD6APsA/AD9AP4A/wAAAQEBAgEDAQQBBQEGAQcBCAEJAQoBCwEMAQ0BDgEPARABEQESARMBFAEVARYBFwEYARkBGgEbARwBHQEeAR8B",
          "dtype": "i2"
         },
         "y": {
          "bdata": "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",
          "dtype": "f8"
         }
        },
        {
         "hoverinfo": "skip",
         "line": {
          "width": 0
         },
         "mode": "lines",
         "showlegend": false,
         "type": "scatter",
         "x": {
          "bdata": "AAABAAIAAwAEAAUABgAHAAgACQAKAAsADAANAA4ADwAQABEAEgATABQAFQAWABcAGAAZABoAGwAcAB0AHgAfACAAIQAiACMAJAAlACYAJwAoACkAKgArACwALQAuAC8AMAAxADIAMwA0ADUANgA3ADgAOQA6ADsAPAA9AD4APwBAAEEAQgBDAEQARQBGAEcASABJAEoASwBMAE0ATgBPAFAAUQBSAFMAVABVAFYAVwBYAFkAWgBbAFwAXQBeAF8AYABhAGIAYwBkAGUAZgBnAGgAaQBqAGsAbABtAG4AbwBwAHEAcgBzAHQAdQB2AHcAeAB5AHoAewB8AH0AfgB/AIAAgQCCAIMAhACFAIYAhwCIAIkAigCLAIwAjQCOAI8AkACRAJIAkwCUAJUAlgCXAJgAmQCaAJsAnACdAJ4AnwCgAKEAogCjAKQApQCmAKcAqACpAKoAqwCsAK0ArgCvALAAsQCyALMAtAC1ALYAtwC4ALkAugC7ALwAvQC+AL8AwADBAMIAwwDEAMUAxgDHAMgAyQDKAMsAzADNAM4AzwDQANEA0gDTANQA1QDWANcA2ADZANoA2wDcAN0A3gDfAOAA4QDiAOMA5ADlAOYA5wDoAOkA6gDrAOwA7QDuAO8A8ADxAPIA8wD0APUA9gD3APgA+QD6APsA/AD9AP4A/wAAAQEBAgEDAQQBBQEGAQcBCAEJAQoBCwEMAQ0BDgEPARABEQESARMBFAEVARYBFwEYARkBGgEbARwBHQEeAR8B",
          "dtype": "i2"
         },
         "y": {
          "bdata": "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",
          "dtype": "f8"
         }
        },
        {
         "fill": "tonexty",
         "fillcolor": "rgba(193, 18, 31, 0.2)",
         "hoverinfo": "skip",
         "line": {
          "width": 0
         },
         "mode": "lines",
         "name": "cari ±1σ",
         "type": "scatter",
         "x": {
          "bdata": "AAABAAIAAwAEAAUABgAHAAgACQAKAAsADAANAA4ADwAQABEAEgATABQAFQAWABcAGAAZABoAGwAcAB0AHgAfACAAIQAiACMAJAAlACYAJwAoACkAKgArACwALQAuAC8AMAAxADIAMwA0ADUANgA3ADgAOQA6ADsAPAA9AD4APwBAAEEAQgBDAEQARQBGAEcASABJAEoASwBMAE0ATgBPAFAAUQBSAFMAVABVAFYAVwBYAFkAWgBbAFwAXQBeAF8AYABhAGIAYwBkAGUAZgBnAGgAaQBqAGsAbABtAG4AbwBwAHEAcgBzAHQAdQB2AHcAeAB5AHoAewB8AH0AfgB/AIAAgQCCAIMAhACFAIYAhwCIAIkAigCLAIwAjQCOAI8AkACRAJIAkwCUAJUAlgCXAJgAmQCaAJsAnACdAJ4AnwCgAKEAogCjAKQApQCmAKcAqACpAKoAqwCsAK0ArgCvALAAsQCyALMAtAC1ALYAtwC4ALkAugC7ALwAvQC+AL8AwADBAMIAwwDEAMUAxgDHAMgAyQDKAMsAzADNAM4AzwDQANEA0gDTANQA1QDWANcA2ADZANoA2wDcAN0A3gDfAOAA4QDiAOMA5ADlAOYA5wDoAOkA6gDrAOwA7QDuAO8A8ADxAPIA8wD0APUA9gD3APgA+QD6APsA/AD9AP4A/wAAAQEBAgEDAQQBBQEGAQcBCAEJAQoBCwEMAQ0BDgEPARABEQESARMBFAEVARYBFwEYARkBGgEbARwBHQEeAR8B",
          "dtype": "i2"
         },
         "y": {
          "bdata": "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",
          "dtype": "f8"
         }
        },
        {
         "line": {
          "color": "rgba(193, 18, 31, 0.9)",
          "width": 2
         },
         "mode": "lines",
         "name": "cari (mean)",
         "type": "scatter",
         "x": {
          "bdata": "AAABAAIAAwAEAAUABgAHAAgACQAKAAsADAANAA4ADwAQABEAEgATABQAFQAWABcAGAAZABoAGwAcAB0AHgAfACAAIQAiACMAJAAlACYAJwAoACkAKgArACwALQAuAC8AMAAxADIAMwA0ADUANgA3ADgAOQA6ADsAPAA9AD4APwBAAEEAQgBDAEQARQBGAEcASABJAEoASwBMAE0ATgBPAFAAUQBSAFMAVABVAFYAVwBYAFkAWgBbAFwAXQBeAF8AYABhAGIAYwBkAGUAZgBnAGgAaQBqAGsAbABtAG4AbwBwAHEAcgBzAHQAdQB2AHcAeAB5AHoAewB8AH0AfgB/AIAAgQCCAIMAhACFAIYAhwCIAIkAigCLAIwAjQCOAI8AkACRAJIAkwCUAJUAlgCXAJgAmQCaAJsAnACdAJ4AnwCgAKEAogCjAKQApQCmAKcAqACpAKoAqwCsAK0ArgCvALAAsQCyALMAtAC1ALYAtwC4ALkAugC7ALwAvQC+AL8AwADBAMIAwwDEAMUAxgDHAMgAyQDKAMsAzADNAM4AzwDQANEA0gDTANQA1QDWANcA2ADZANoA2wDcAN0A3gDfAOAA4QDiAOMA5ADlAOYA5wDoAOkA6gDrAOwA7QDuAO8A8ADxAPIA8wD0APUA9gD3APgA+QD6APsA/AD9AP4A/wAAAQEBAgEDAQQBBQEGAQcBCAEJAQoBCwEMAQ0BDgEPARABEQESARMBFAEVARYBFwEYARkBGgEbARwBHQEeAR8B",
          "dtype": "i2"
         },
         "y": {
          "bdata": "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",
          "dtype": "f8"
         }
        },
        {
         "hoverinfo": "skip",
         "line": {
          "width": 0
         },
         "mode": "lines",
         "showlegend": false,
         "type": "scatter",
         "x": {
          "bdata": "AAABAAIAAwAEAAUABgAHAAgACQAKAAsADAANAA4ADwAQABEAEgATABQAFQAWABcAGAAZABoAGwAcAB0AHgAfACAAIQAiACMAJAAlACYAJwAoACkAKgArACwALQAuAC8AMAAxADIAMwA0ADUANgA3ADgAOQA6ADsAPAA9AD4APwBAAEEAQgBDAEQARQBGAEcASABJAEoASwBMAE0ATgBPAFAAUQBSAFMAVABVAFYAVwBYAFkAWgBbAFwAXQBeAF8AYABhAGIAYwBkAGUAZgBnAGgAaQBqAGsAbABtAG4AbwBwAHEAcgBzAHQAdQB2AHcAeAB5AHoAewB8AH0AfgB/AIAAgQCCAIMAhACFAIYAhwCIAIkAigCLAIwAjQCOAI8AkACRAJIAkwCUAJUAlgCXAJgAmQCaAJsAnACdAJ4AnwCgAKEAogCjAKQApQCmAKcAqACpAKoAqwCsAK0ArgCvALAAsQCyALMAtAC1ALYAtwC4ALkAugC7ALwAvQC+AL8AwADBAMIAwwDEAMUAxgDHAMgAyQDKAMsAzADNAM4AzwDQANEA0gDTANQA1QDWANcA2ADZANoA2wDcAN0A3gDfAOAA4QDiAOMA5ADlAOYA5wDoAOkA6gDrAOwA7QDuAO8A8ADxAPIA8wD0APUA9gD3APgA+QD6APsA/AD9AP4A/wAAAQEBAgEDAQQBBQEGAQcBCAEJAQoBCwEMAQ0BDgEPARABEQESARMBFAEVARYBFwEYARkBGgEbARwBHQEeAR8B",
          "dtype": "i2"
         },
         "y": {
          "bdata": "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",
          "dtype": "f8"
         }
        },
        {
         "fill": "tonexty",
         "fillcolor": "rgba(69, 65, 57, 0.2)",
         "hoverinfo": "skip",
         "line": {
          "width": 0
         },
         "mode": "lines",
         "name": "caria ±1σ",
         "type": "scatter",
         "x": {
          "bdata": "AAABAAIAAwAEAAUABgAHAAgACQAKAAsADAANAA4ADwAQABEAEgATABQAFQAWABcAGAAZABoAGwAcAB0AHgAfACAAIQAiACMAJAAlACYAJwAoACkAKgArACwALQAuAC8AMAAxADIAMwA0ADUANgA3ADgAOQA6ADsAPAA9AD4APwBAAEEAQgBDAEQARQBGAEcASABJAEoASwBMAE0ATgBPAFAAUQBSAFMAVABVAFYAVwBYAFkAWgBbAFwAXQBeAF8AYABhAGIAYwBkAGUAZgBnAGgAaQBqAGsAbABtAG4AbwBwAHEAcgBzAHQAdQB2AHcAeAB5AHoAewB8AH0AfgB/AIAAgQCCAIMAhACFAIYAhwCIAIkAigCLAIwAjQCOAI8AkACRAJIAkwCUAJUAlgCXAJgAmQCaAJsAnACdAJ4AnwCgAKEAogCjAKQApQCmAKcAqACpAKoAqwCsAK0ArgCvALAAsQCyALMAtAC1ALYAtwC4ALkAugC7ALwAvQC+AL8AwADBAMIAwwDEAMUAxgDHAMgAyQDKAMsAzADNAM4AzwDQANEA0gDTANQA1QDWANcA2ADZANoA2wDcAN0A3gDfAOAA4QDiAOMA5ADlAOYA5wDoAOkA6gDrAOwA7QDuAO8A8ADxAPIA8wD0APUA9gD3APgA+QD6APsA/AD9AP4A/wAAAQEBAgEDAQQBBQEGAQcBCAEJAQoBCwEMAQ0BDgEPARABEQESARMBFAEVARYBFwEYARkBGgEbARwBHQEeAR8B",
          "dtype": "i2"
         },
         "y": {
          "bdata": "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",
          "dtype": "f8"
         }
        },
        {
         "line": {
          "color": "rgba(69, 65, 57, 0.9)",
          "width": 2
         },
         "mode": "lines",
         "name": "caria (mean)",
         "type": "scatter",
         "x": {
          "bdata": "AAABAAIAAwAEAAUABgAHAAgACQAKAAsADAANAA4ADwAQABEAEgATABQAFQAWABcAGAAZABoAGwAcAB0AHgAfACAAIQAiACMAJAAlACYAJwAoACkAKgArACwALQAuAC8AMAAxADIAMwA0ADUANgA3ADgAOQA6ADsAPAA9AD4APwBAAEEAQgBDAEQARQBGAEcASABJAEoASwBMAE0ATgBPAFAAUQBSAFMAVABVAFYAVwBYAFkAWgBbAFwAXQBeAF8AYABhAGIAYwBkAGUAZgBnAGgAaQBqAGsAbABtAG4AbwBwAHEAcgBzAHQAdQB2AHcAeAB5AHoAewB8AH0AfgB/AIAAgQCCAIMAhACFAIYAhwCIAIkAigCLAIwAjQCOAI8AkACRAJIAkwCUAJUAlgCXAJgAmQCaAJsAnACdAJ4AnwCgAKEAogCjAKQApQCmAKcAqACpAKoAqwCsAK0ArgCvALAAsQCyALMAtAC1ALYAtwC4ALkAugC7ALwAvQC+AL8AwADBAMIAwwDEAMUAxgDHAMgAyQDKAMsAzADNAM4AzwDQANEA0gDTANQA1QDWANcA2ADZANoA2wDcAN0A3gDfAOAA4QDiAOMA5ADlAOYA5wDoAOkA6gDrAOwA7QDuAO8A8ADxAPIA8wD0APUA9gD3APgA+QD6APsA/AD9AP4A/wAAAQEBAgEDAQQBBQEGAQcBCAEJAQoBCwEMAQ0BDgEPARABEQESARMBFAEVARYBFwEYARkBGgEbARwBHQEeAR8B",
          "dtype": "i2"
         },
         "y": {
          "bdata": "XndNtvfMoD/zBoU+LVadPwq50cTgs5k/aB/aT3OemT9p/J+UoBOjP6mJAfopqJU/UAypZnSKoT+24H92heacP3HOgTsY850/ttVWtS2+mD93sZ77dcuXP6RRDmP0q6M//B5X+TMelz8/PBWOBFiYP2KkX9AaSqQ/UIqLlrDhlD9xEQe3CsOgPxda/7p1H54/D90we8K5kz/kJBiRPF6iPwau48X2GJ8//lppJ08/lz9e40xVyZGmP8SNVYYH86s/revpdq2Lvz+A2Yy4kznLP1S8myy68tE/T+btEqCb0z/bpIIN273QP2S9SRFjIMk/ChAyPU+yxT+CwgoVZ2XDP6Ef8Kg7zMY/D2wuNugRxj8S+0p/BkLCPyB3Bfr7LME/Lcr6j48nuT8N5fvKdla0P5ZNT+1qj7M/QxuoZHqUqz+bLaNC70SrP2Ak/9N+Law/7QIBbZv0oj9NCEDspvqnP1v0oKUk36M/Ikd2uLALoD8rFBH7dIOnPzt4kEMYQqA/DstxnCJRpD+O8ozLaEOiP9WrIAMHz5w/9Bcunz78pT/tFO1GUZOhPwKXnOu6VaE/deF+Jxztqj+eVHNcE5ijP/OjVnrNS7E/5b4D7Dyktj/XKyGhaBbAP2xpQBRX78o/NQUNRXO70T/pwKGH1yvTP+QwOhJhs9M/D06nnGJm0D/Slusubz/MP87mlT2CzMo/rGkiDX4nyz+EVzXhjPLOP07HweZoZ9I/1d73pVEi1j/X7YnJEWndPxEe9E8MgOE/ZfmIhKmn5T8Y29Ps/tjoP1P5pUW6Y+s/exCzvIpB7T+zElL22kPuP0ouetggie4/i7pkHW4d7z9i9BMiFbPuP2KbiaVox+8/svxOyG8/7z8zD7WerVbuP0GcYdo32e0/+Cpaypem7D96SdMkj9vqP3KcKBqI6+k/+lVacCxk6D9xVudTIx7nP+BC01paBOY/m9ZHZR3w5D98ExSyH4TlP3+WbkIT2uQ/U2suiAox5T+k2Ql6cT/lP73ZlvhVPOU/zjQJBCPH5T8Si8KQn8TlP6zW5TVJTeU/zKCKfnZP5T/LtZdHkTHlP++6ea5XKeQ/C98AYcFA5D+gA53JvSTjP2HtdJy81+I/BgaJAyIn4j9UO4g0ojHhPxvWBX1eSeE/M6e5Cid44D/KZoFj8anfPx02voLwUeA/f6+ljkc53j+woI4DHhffPwV86MMG0N4/fISS8rIk3T98Sv6eMs3dP0U44wkjPdw/n409hBrv2z8wWIgZzaDcP9Mv3fEDlNo/t7A0GOdR2j9vRvaV1svZPyO3lUAzNdg/ronXt95I2D/QCvEj6i7XP32CeGuE39U/jMDVkAW51T8SCY+BQhnUPz3GOmlzhtQ/1ESlnGgH0z+bQ8it/d7RP8IaEe6Cq9I/KlQGQ8DC0T/Ww6am8wXRP9K0jdDaV9E/uSXeKzSO0D+3Z9PO9tHQPy76ZI8AgtE/NqZewIQS0T+Ab6Yfj7zSP/SaubBQXtM/rppKlJsQ1D9JmyExDs7WP4i7EeM1Y9c/Xt/neFIE2j+5mi6m82rbP0nscJWtYdw/PewaYgTc3j/i83gP5KDePw8mu1GwTt4/ioW5rGfp3j/9P9qOfCTcPzDoDaxn69s/Rmx0rZCz2T+dgeDHWRbXP1I9ph04F9Y/BlQX/fi40z/yVkIU8L7RP/EGJzKd7NE/1L2lr4B8zj/lwdAwDyHOP1yxDdKYt8w/VSjtClWpyz/w63rdIWLLPyEOIV6Zscg/jJrKHFv9xz+WmI7Qa1PJP1EYue+i1sc/VTcrv/ZayD/p5lJn1GLHP0ny8WCC18Q/xluEq504xj8d5PI1txLFP1TW/u0nBMQ/xKZEKnbexT+Cbiv6sjrCPx0kuffi38M/LZS8EsIhwz/JFb3kTsvAP5B2/qezicI/niO0eoOpwD/GHe/eSA+/P5NIqH4fYcI/dAUvVRb6vj9ntaAhvibAP0iaiIB8nb4/XU+UGQzHuj89CXT1y9e9PwOAyfrHlbo/NNP0yX1xuD+BbSF3i6i8P+6PF88ys7g/LfRAvkR8uT8R8qBCbLS3PwbR2YPoT7Y/YmrImuoOuD8Q52ILnZa1P8i22VWZMLQ/rSCEDZ+ytT/gzzsJHHCyP06JUtBWtbI/71BSsYDIsj8pMBDNKD2vP8uHcFxe6LE/8O6RXCPRsT9KabuTv/qtP3EtaINgQ7E/JZo2zjHupz8davk3XqWwP7x7lRxoR68/AMC88l7xqT/JUd0J7pWtP+zRKJRw86s/09jhvOoeqj8yz3tFE5OuPz2RAQcrO6c/hZ15GCN2qT8ON5mY56irP2Oz0wxuZqM/Jic4rT6WqT/Qz7fb/hmlP5gekyLPvKU/U3XRXk3Npz8soxd4yTKlP60ZMupz5Kg/HPjvZOhxpD+wounHN8ekP/6hk32I1KY/ovEpevaqoT+1qijl07yiP+/o/NuKwas/ea4zFzefoj+QY4zKB16lP7J0rPGnD6Q/3BilcBr/nz+Am1+szbSkP1IbJdrwHqQ/FI2Ya97KnD/1UteFRZimPwnBn3yNVaA/ZzPVCq76oT94xj89Dv+kP/mkirTv6aA/K7dBRkompj8fg2Vg1DyiPxo4Bs4TiqM/z2FAK90Dpz8nVtzm3UacP+WBUhgSRqE/FJd3lnYQoT9nRN+mZPegP/t/fl+NgKc/fiX/7lzpoD8cx1j0hP+gP6FQCl6PBaY/xwW1QhCBmD/uMnw3rMikPwL8QXrSHZ4/U0sG5jykoD/hLR7JCDClP6bHzc2G8aQ/37baFFMUoD9xIwC5+QWjP9v65mp3t6A/gFCRRli2oj9D/2E555qhP+UFeqQ5MqE/twpWrOBDoz/eflNzVXmgP6vPLqO4VqE/rGAB1BnHpT8kZdCBtCaiP5IA6JU0GKM/pOMHyd75oj/3pr3GXd+aP1W6jw5GY6I/n89Qrt4unz/ZDT3gEneZP9efRCfUfaM/bbC4S8FLnj/cGPE1bB6kP/dbciKoh6I/PTYogG+5mz89kh6nLA+kP/lgKU9ceqE/PmC6+wQXoD/TrN38bb6pP6BKVUwaZZk/",
          "dtype": "f8"
         }
        },
        {
         "hoverinfo": "skip",
         "line": {
          "width": 0
         },
         "mode": "lines",
         "showlegend": false,
         "type": "scatter",
         "x": {
          "bdata": "AAABAAIAAwAEAAUABgAHAAgACQAKAAsADAANAA4ADwAQABEAEgATABQAFQAWABcAGAAZABoAGwAcAB0AHgAfACAAIQAiACMAJAAlACYAJwAoACkAKgArACwALQAuAC8AMAAxADIAMwA0ADUANgA3ADgAOQA6ADsAPAA9AD4APwBAAEEAQgBDAEQARQBGAEcASABJAEoASwBMAE0ATgBPAFAAUQBSAFMAVABVAFYAVwBYAFkAWgBbAFwAXQBeAF8AYABhAGIAYwBkAGUAZgBnAGgAaQBqAGsAbABtAG4AbwBwAHEAcgBzAHQAdQB2AHcAeAB5AHoAewB8AH0AfgB/AIAAgQCCAIMAhACFAIYAhwCIAIkAigCLAIwAjQCOAI8AkACRAJIAkwCUAJUAlgCXAJgAmQCaAJsAnACdAJ4AnwCgAKEAogCjAKQApQCmAKcAqACpAKoAqwCsAK0ArgCvALAAsQCyALMAtAC1ALYAtwC4ALkAugC7ALwAvQC+AL8AwADBAMIAwwDEAMUAxgDHAMgAyQDKAMsAzADNAM4AzwDQANEA0gDTANQA1QDWANcA2ADZANoA2wDcAN0A3gDfAOAA4QDiAOMA5ADlAOYA5wDoAOkA6gDrAOwA7QDuAO8A8ADxAPIA8wD0APUA9gD3APgA+QD6APsA/AD9AP4A/wAAAQEBAgEDAQQBBQEGAQcBCAEJAQoBCwEMAQ0BDgEPARABEQESARMBFAEVARYBFwEYARkBGgEbARwBHQEeAR8B",
          "dtype": "i2"
         },
         "y": {
          "bdata": "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",
          "dtype": "f8"
         }
        },
        {
         "fill": "tonexty",
         "fillcolor": "rgba(0, 48, 73, 0.2)",
         "hoverinfo": "skip",
         "line": {
          "width": 0
         },
         "mode": "lines",
         "name": "especial ±1σ",
         "type": "scatter",
         "x": {
          "bdata": "AAABAAIAAwAEAAUABgAHAAgACQAKAAsADAANAA4ADwAQABEAEgATABQAFQAWABcAGAAZABoAGwAcAB0AHgAfACAAIQAiACMAJAAlACYAJwAoACkAKgArACwALQAuAC8AMAAxADIAMwA0ADUANgA3ADgAOQA6ADsAPAA9AD4APwBAAEEAQgBDAEQARQBGAEcASABJAEoASwBMAE0ATgBPAFAAUQBSAFMAVABVAFYAVwBYAFkAWgBbAFwAXQBeAF8AYABhAGIAYwBkAGUAZgBnAGgAaQBqAGsAbABtAG4AbwBwAHEAcgBzAHQAdQB2AHcAeAB5AHoAewB8AH0AfgB/AIAAgQCCAIMAhACFAIYAhwCIAIkAigCLAIwAjQCOAI8AkACRAJIAkwCUAJUAlgCXAJgAmQCaAJsAnACdAJ4AnwCgAKEAogCjAKQApQCmAKcAqACpAKoAqwCsAK0ArgCvALAAsQCyALMAtAC1ALYAtwC4ALkAugC7ALwAvQC+AL8AwADBAMIAwwDEAMUAxgDHAMgAyQDKAMsAzADNAM4AzwDQANEA0gDTANQA1QDWANcA2ADZANoA2wDcAN0A3gDfAOAA4QDiAOMA5ADlAOYA5wDoAOkA6gDrAOwA7QDuAO8A8ADxAPIA8wD0APUA9gD3APgA+QD6APsA/AD9AP4A/wAAAQEBAgEDAQQBBQEGAQcBCAEJAQoBCwEMAQ0BDgEPARABEQESARMBFAEVARYBFwEYARkBGgEbARwBHQEeAR8B",
          "dtype": "i2"
         },
         "y": {
          "bdata": "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",
          "dtype": "f8"
         }
        },
        {
         "line": {
          "color": "rgba(0, 48, 73, 0.9)",
          "width": 2
         },
         "mode": "lines",
         "name": "especial (mean)",
         "type": "scatter",
         "x": {
          "bdata": "AAABAAIAAwAEAAUABgAHAAgACQAKAAsADAANAA4ADwAQABEAEgATABQAFQAWABcAGAAZABoAGwAcAB0AHgAfACAAIQAiACMAJAAlACYAJwAoACkAKgArACwALQAuAC8AMAAxADIAMwA0ADUANgA3ADgAOQA6ADsAPAA9AD4APwBAAEEAQgBDAEQARQBGAEcASABJAEoASwBMAE0ATgBPAFAAUQBSAFMAVABVAFYAVwBYAFkAWgBbAFwAXQBeAF8AYABhAGIAYwBkAGUAZgBnAGgAaQBqAGsAbABtAG4AbwBwAHEAcgBzAHQAdQB2AHcAeAB5AHoAewB8AH0AfgB/AIAAgQCCAIMAhACFAIYAhwCIAIkAigCLAIwAjQCOAI8AkACRAJIAkwCUAJUAlgCXAJgAmQCaAJsAnACdAJ4AnwCgAKEAogCjAKQApQCmAKcAqACpAKoAqwCsAK0ArgCvALAAsQCyALMAtAC1ALYAtwC4ALkAugC7ALwAvQC+AL8AwADBAMIAwwDEAMUAxgDHAMgAyQDKAMsAzADNAM4AzwDQANEA0gDTANQA1QDWANcA2ADZANoA2wDcAN0A3gDfAOAA4QDiAOMA5ADlAOYA5wDoAOkA6gDrAOwA7QDuAO8A8ADxAPIA8wD0APUA9gD3APgA+QD6APsA/AD9AP4A/wAAAQEBAgEDAQQBBQEGAQcBCAEJAQoBCwEMAQ0BDgEPARABEQESARMBFAEVARYBFwEYARkBGgEbARwBHQEeAR8B",
          "dtype": "i2"
         },
         "y": {
          "bdata": "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",
          "dtype": "f8"
         }
        },
        {
         "hoverinfo": "skip",
         "line": {
          "width": 0
         },
         "mode": "lines",
         "showlegend": false,
         "type": "scatter",
         "x": {
          "bdata": "AAABAAIAAwAEAAUABgAHAAgACQAKAAsADAANAA4ADwAQABEAEgATABQAFQAWABcAGAAZABoAGwAcAB0AHgAfACAAIQAiACMAJAAlACYAJwAoACkAKgArACwALQAuAC8AMAAxADIAMwA0ADUANgA3ADgAOQA6ADsAPAA9AD4APwBAAEEAQgBDAEQARQBGAEcASABJAEoASwBMAE0ATgBPAFAAUQBSAFMAVABVAFYAVwBYAFkAWgBbAFwAXQBeAF8AYABhAGIAYwBkAGUAZgBnAGgAaQBqAGsAbABtAG4AbwBwAHEAcgBzAHQAdQB2AHcAeAB5AHoAewB8AH0AfgB/AIAAgQCCAIMAhACFAIYAhwCIAIkAigCLAIwAjQCOAI8AkACRAJIAkwCUAJUAlgCXAJgAmQCaAJsAnACdAJ4AnwCgAKEAogCjAKQApQCmAKcAqACpAKoAqwCsAK0ArgCvALAAsQCyALMAtAC1ALYAtwC4ALkAugC7ALwAvQC+AL8AwADBAMIAwwDEAMUAxgDHAMgAyQDKAMsAzADNAM4AzwDQANEA0gDTANQA1QDWANcA2ADZANoA2wDcAN0A3gDfAOAA4QDiAOMA5ADlAOYA5wDoAOkA6gDrAOwA7QDuAO8A8ADxAPIA8wD0APUA9gD3APgA+QD6APsA/AD9AP4A/wAAAQEBAgEDAQQBBQEGAQcBCAEJAQoBCwEMAQ0BDgEPARABEQESARMBFAEVARYBFwEYARkBGgEbARwBHQEeAR8B",
          "dtype": "i2"
         },
         "y": {
          "bdata": "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",
          "dtype": "f8"
         }
        },
        {
         "fill": "tonexty",
         "fillcolor": "rgba(153, 153, 153, 0.2)",
         "hoverinfo": "skip",
         "line": {
          "width": 0
         },
         "mode": "lines",
         "name": "moka ±1σ",
         "type": "scatter",
         "x": {
          "bdata": "AAABAAIAAwAEAAUABgAHAAgACQAKAAsADAANAA4ADwAQABEAEgATABQAFQAWABcAGAAZABoAGwAcAB0AHgAfACAAIQAiACMAJAAlACYAJwAoACkAKgArACwALQAuAC8AMAAxADIAMwA0ADUANgA3ADgAOQA6ADsAPAA9AD4APwBAAEEAQgBDAEQARQBGAEcASABJAEoASwBMAE0ATgBPAFAAUQBSAFMAVABVAFYAVwBYAFkAWgBbAFwAXQBeAF8AYABhAGIAYwBkAGUAZgBnAGgAaQBqAGsAbABtAG4AbwBwAHEAcgBzAHQAdQB2AHcAeAB5AHoAewB8AH0AfgB/AIAAgQCCAIMAhACFAIYAhwCIAIkAigCLAIwAjQCOAI8AkACRAJIAkwCUAJUAlgCXAJgAmQCaAJsAnACdAJ4AnwCgAKEAogCjAKQApQCmAKcAqACpAKoAqwCsAK0ArgCvALAAsQCyALMAtAC1ALYAtwC4ALkAugC7ALwAvQC+AL8AwADBAMIAwwDEAMUAxgDHAMgAyQDKAMsAzADNAM4AzwDQANEA0gDTANQA1QDWANcA2ADZANoA2wDcAN0A3gDfAOAA4QDiAOMA5ADlAOYA5wDoAOkA6gDrAOwA7QDuAO8A8ADxAPIA8wD0APUA9gD3APgA+QD6APsA/AD9AP4A/wAAAQEBAgEDAQQBBQEGAQcBCAEJAQoBCwEMAQ0BDgEPARABEQESARMBFAEVARYBFwEYARkBGgEbARwBHQEeAR8B",
          "dtype": "i2"
         },
         "y": {
          "bdata": "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",
          "dtype": "f8"
         }
        },
        {
         "line": {
          "color": "rgba(153, 153, 153, 0.9)",
          "width": 2
         },
         "mode": "lines",
         "name": "moka (mean)",
         "type": "scatter",
         "x": {
          "bdata": "AAABAAIAAwAEAAUABgAHAAgACQAKAAsADAANAA4ADwAQABEAEgATABQAFQAWABcAGAAZABoAGwAcAB0AHgAfACAAIQAiACMAJAAlACYAJwAoACkAKgArACwALQAuAC8AMAAxADIAMwA0ADUANgA3ADgAOQA6ADsAPAA9AD4APwBAAEEAQgBDAEQARQBGAEcASABJAEoASwBMAE0ATgBPAFAAUQBSAFMAVABVAFYAVwBYAFkAWgBbAFwAXQBeAF8AYABhAGIAYwBkAGUAZgBnAGgAaQBqAGsAbABtAG4AbwBwAHEAcgBzAHQAdQB2AHcAeAB5AHoAewB8AH0AfgB/AIAAgQCCAIMAhACFAIYAhwCIAIkAigCLAIwAjQCOAI8AkACRAJIAkwCUAJUAlgCXAJgAmQCaAJsAnACdAJ4AnwCgAKEAogCjAKQApQCmAKcAqACpAKoAqwCsAK0ArgCvALAAsQCyALMAtAC1ALYAtwC4ALkAugC7ALwAvQC+AL8AwADBAMIAwwDEAMUAxgDHAMgAyQDKAMsAzADNAM4AzwDQANEA0gDTANQA1QDWANcA2ADZANoA2wDcAN0A3gDfAOAA4QDiAOMA5ADlAOYA5wDoAOkA6gDrAOwA7QDuAO8A8ADxAPIA8wD0APUA9gD3APgA+QD6APsA/AD9AP4A/wAAAQEBAgEDAQQBBQEGAQcBCAEJAQoBCwEMAQ0BDgEPARABEQESARMBFAEVARYBFwEYARkBGgEbARwBHQEeAR8B",
          "dtype": "i2"
         },
         "y": {
          "bdata": "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",
          "dtype": "f8"
         }
        },
        {
         "hoverinfo": "skip",
         "line": {
          "width": 0
         },
         "mode": "lines",
         "showlegend": false,
         "type": "scatter",
         "x": {
          "bdata": "AAABAAIAAwAEAAUABgAHAAgACQAKAAsADAANAA4ADwAQABEAEgATABQAFQAWABcAGAAZABoAGwAcAB0AHgAfACAAIQAiACMAJAAlACYAJwAoACkAKgArACwALQAuAC8AMAAxADIAMwA0ADUANgA3ADgAOQA6ADsAPAA9AD4APwBAAEEAQgBDAEQARQBGAEcASABJAEoASwBMAE0ATgBPAFAAUQBSAFMAVABVAFYAVwBYAFkAWgBbAFwAXQBeAF8AYABhAGIAYwBkAGUAZgBnAGgAaQBqAGsAbABtAG4AbwBwAHEAcgBzAHQAdQB2AHcAeAB5AHoAewB8AH0AfgB/AIAAgQCCAIMAhACFAIYAhwCIAIkAigCLAIwAjQCOAI8AkACRAJIAkwCUAJUAlgCXAJgAmQCaAJsAnACdAJ4AnwCgAKEAogCjAKQApQCmAKcAqACpAKoAqwCsAK0ArgCvALAAsQCyALMAtAC1ALYAtwC4ALkAugC7ALwAvQC+AL8AwADBAMIAwwDEAMUAxgDHAMgAyQDKAMsAzADNAM4AzwDQANEA0gDTANQA1QDWANcA2ADZANoA2wDcAN0A3gDfAOAA4QDiAOMA5ADlAOYA5wDoAOkA6gDrAOwA7QDuAO8A8ADxAPIA8wD0APUA9gD3APgA+QD6APsA/AD9AP4A/wAAAQEBAgEDAQQBBQEGAQcBCAEJAQoBCwEMAQ0BDgEPARABEQESARMBFAEVARYBFwEYARkBGgEbARwBHQEeAR8B",
          "dtype": "i2"
         },
         "y": {
          "bdata": "PiJEsnOquD98cAyuQNa3P57m06hO9rU/3jpTG+b4tj+AKjpbmRe8P8S+3r1kNbE/xEGps3Gruz9oaSmtvdK0PygFKNDiqrc/miBlRE7WtD8HxHryfe+zPxwWNYbVS74/pUV9eRkTtD+83lYcNMC0Pzl8jStAUL0/rjR9q4Kgsz+x/88bpAG6P5LLAu0EVrg/FVCA5PjZsj8g0S59yVy6P0T1IP6V37g/ntIY0Z4ktT9wCh0HfwLAP3Z5mMTphcE/xv638cjn0D+LedRxk87bP1iFRo+BXuE/Lg8DjsdC4z+M9plle0LgP7jppX83+9g/8Q1t+8aM1j/0oW8lCW7UP1CO2I29Qdg/DzMjIGuG1z95G58npWbUPxxLaL1I5tI/5EhLQ1fRzT+zlniOkp3HP80vy5nxxsc/TFyVU6D1wj9YPwrbBNTBP9mRCKsxTcQ/tG9r6rQHvD+iZGlCwuzAP+BzNsmiWL4/Tudyc5Riuj+zTIuuHG7APxgQGDVeorg/HG7w2j0ouz/IRmMyr3i8P3gRUyYhrrg/aqShKLQ0vz8ZMjtFUaK5P/zuGN1fPbk/TtdLTxIbwj8aUlCTzny7P2bkNoErLsQ/jqY2HzOixT/ox+THhWfIP7OUPI4IkNI/KtUX4HTp1T+pl3wjjCXXP/43MW6B1Ng/Fbftj/EW1T/ggbPKZLjSP5jlP3WVRtI/t8LP1HWq0T8/glSh2uPTP8Rg/FeC/dU/CwbDMfNv2D8M4v51K0jgP98LwHiw/eE/KoRdmVQf5j9KCeQO4vvoP14fYVZCseo/PN00fu8T7T+CLsOHcKrtP8EU1Aih2u0/Skg4gdeC7j+6QdCJrAjuP/bCxsgOce8/yRuDA+jc7j8j6L1x0srtP7BLCEdn1e0/TvwERxd+7D+o0kL8YdnqP/wV+Mb6Q+o/tIwRDVS06D+DR02FTMrnP8KzSYMrs+Y/19+Lnt0z5T8QYyp1TuTmP+D9Fyel9eU/3+S3JVpU5j+3GK+Sqo3mPwZL/iKmXuY/sflRqSo35z9v4gtxpnjnP3FKYXDsW+Y/H2dqWRXg5j/4SA3yX+PmPySfgDbS4+U/mVNL0L915j+w+0whvQblP7A9o28MDuU//cqnN4Fi5D8Eag1aAWLjP/r2Iiqr2uM/6worjOPF4j8BOaNchxziP2QSUShsPOM/7rfafMo/4T+ap+4QsRPiPxJutQgvQuI/akYQkm7Z4D/rcj2GlhDiP5yMpI535uA/lnreO9qg4D98Pj78evbhP4xEdDMxEuA/Aq3aeMZd4D/Fb5Ur9SDgP8fQgcmO290/OEOlpbfo3j+XLddEt03dP+XCDGvRFdw/1AsCelpE3D/oUqq3E/nZP1ZSdamFb9s/EvE3mi2S2T9ROirFHY3XP6O5YqyK6tk/UP6MEKJf2D8gK6HH+X7XP2LLyXiYKdk/TV2/mB+f1z9EKCgsjA/ZP3Brju6n5No/tCtxPOJJ2j/+vDkgyd3dP7qWlZeIe98/5BlGs+vT4D9+NXMtGqfjPxl2wPvBwuQ/pAbwaWv65z9fUVj9zbnpP8x5XUThles/SQtNkWlr7j/3D46vekLvP5Itl8r8W+8/tUbEJdgd8D9biyWFq0nuPypIbULOCu4/TPzJIZNN7D+IKed5KIfpPxOrsFkXVOg/LwC0H3re5T/QhiO3ruvjPzFZnagqWeQ/pvN9TGu94T+08ercJa3hP4Wcw41vDOE/oJ6IcTb64D/iUY6FwOrgP+kb3b+4ht8/ZB05ghHp3j81oWjwTjXgP5KR+xlX494/bQenFjc13z+8pwvrZF3eP+PPDCAip9s/gBC5zAFr3T9i1Xf08EbbP8MK1jwD79k/cC29CrJW3D/YU2hmFU/YP9vqvSzW6tk/KtCvsgGu2D/Zc/hJsDHWP0rYgfRR1Nc/0liEImDp1T+c4+OUmE3VPzMjxSt5RNc/vrtY6KOO1D9ZRVCX+CDVP5nFSx61dNQ/YYm+L5Yn0j/JBtw+ge3TP/AfRoP4k9E/DFf8vLqp0D+Xwgs0+TzTP/MRHfqHfNA//YviI5hd0T8dKW724GfQP26ApkjPPs8/fZDpNn5F0D+hGEod1d3OPwec3aY/FMw/krOa0FlVzj8rc76N6tzJP+y0yp3bR8o/emPQ/3B9yj/kDY/pEGnHP9lgENF91sg/NmDnyQDlyD+wUUQRiyjHP1x+gXz08Mc/s2KoCZv6wz9f6Ec8H93GP6OBqxLuPcU/nvglAtXHwz/uZpdAy+LFP3rcrdCSo8Q/HDDHznznwz+xz5XvT0/FP0mhp7mnqcE/uodP88bUwz9+fLLT3B/DP4M7tEuOB8A/zmYuhH8Owz+1biaTGe7BPzAJ193oEcE/ko3o+ZDIwT+p4HlWY9PAP9bs8Ou0bsI/XRwT5w2YwD9yFlRULB7AP1tFP6WvZME/lJGoO8a7vD+l06DnKJG9P8AT4QLZe8M/FLJMkumfvj+c9EbzmIC/P8vE1fKPTcA/2H7KC1lauj/WqeQxLx2/P5Lyfk6QTr8/iaQEhl1kuD8FuvKID3DAP3LvWIAVobk/4Vd9l2WZuz9zskQ4YJ6/P9iVlMzO2Lo/5nE07c99wD8Wy2uTUqO6P+N/tZWXgb4/puv8ZqOAwD8FWXvZWWi3P73DeHFx0Lo/Bfespk86uz/Ks/RGjCG8P4YkXCktD8E/zGexeM/quz9KsEzdIda5PzbtHNLyxcA/GauSidKVtj93UZk9D26/P2YMkJT8X7s/nozJDgDUuD9m+pQcNEHAP7UVEqQPa74/+HLs5cuSuT+iocIrYFW9P8zTymwaz7o/HgIPBQ5TvT8wXjshlpS7P3x3tunrqrs/8PKdBbmPvT/IgfSwdc66P8jfBTRbh7s/WZ+4lw6fwD9fPz06IFe7P6Qfe6FCL70/HTiQ4anovT/xpuOif5e2Pwxju8+X570/jHkypRO1uj+0lk4FUYa3PwSkXQxS57s/lET9VYHluT8hc/Q0pL7AP1xiCFRS8r4/hRQLMSbxtj/UU9elx5e/P0yz2kaRhrs/7Ly0pJvsuz99+9Nbv1DCPxy5xujmJbc/",
          "dtype": "f8"
         }
        },
        {
         "fill": "tonexty",
         "fillcolor": "rgba(120, 0, 0, 0.2)",
         "hoverinfo": "skip",
         "line": {
          "width": 0
         },
         "mode": "lines",
         "name": "neutro ±1σ",
         "type": "scatter",
         "x": {
          "bdata": "AAABAAIAAwAEAAUABgAHAAgACQAKAAsADAANAA4ADwAQABEAEgATABQAFQAWABcAGAAZABoAGwAcAB0AHgAfACAAIQAiACMAJAAlACYAJwAoACkAKgArACwALQAuAC8AMAAxADIAMwA0ADUANgA3ADgAOQA6ADsAPAA9AD4APwBAAEEAQgBDAEQARQBGAEcASABJAEoASwBMAE0ATgBPAFAAUQBSAFMAVABVAFYAVwBYAFkAWgBbAFwAXQBeAF8AYABhAGIAYwBkAGUAZgBnAGgAaQBqAGsAbABtAG4AbwBwAHEAcgBzAHQAdQB2AHcAeAB5AHoAewB8AH0AfgB/AIAAgQCCAIMAhACFAIYAhwCIAIkAigCLAIwAjQCOAI8AkACRAJIAkwCUAJUAlgCXAJgAmQCaAJsAnACdAJ4AnwCgAKEAogCjAKQApQCmAKcAqACpAKoAqwCsAK0ArgCvALAAsQCyALMAtAC1ALYAtwC4ALkAugC7ALwAvQC+AL8AwADBAMIAwwDEAMUAxgDHAMgAyQDKAMsAzADNAM4AzwDQANEA0gDTANQA1QDWANcA2ADZANoA2wDcAN0A3gDfAOAA4QDiAOMA5ADlAOYA5wDoAOkA6gDrAOwA7QDuAO8A8ADxAPIA8wD0APUA9gD3APgA+QD6APsA/AD9AP4A/wAAAQEBAgEDAQQBBQEGAQcBCAEJAQoBCwEMAQ0BDgEPARABEQESARMBFAEVARYBFwEYARkBGgEbARwBHQEeAR8B",
          "dtype": "i2"
         },
         "y": {
          "bdata": "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",
          "dtype": "f8"
         }
        },
        {
         "line": {
          "color": "rgba(120, 0, 0, 0.9)",
          "width": 2
         },
         "mode": "lines",
         "name": "neutro (mean)",
         "type": "scatter",
         "x": {
          "bdata": "AAABAAIAAwAEAAUABgAHAAgACQAKAAsADAANAA4ADwAQABEAEgATABQAFQAWABcAGAAZABoAGwAcAB0AHgAfACAAIQAiACMAJAAlACYAJwAoACkAKgArACwALQAuAC8AMAAxADIAMwA0ADUANgA3ADgAOQA6ADsAPAA9AD4APwBAAEEAQgBDAEQARQBGAEcASABJAEoASwBMAE0ATgBPAFAAUQBSAFMAVABVAFYAVwBYAFkAWgBbAFwAXQBeAF8AYABhAGIAYwBkAGUAZgBnAGgAaQBqAGsAbABtAG4AbwBwAHEAcgBzAHQAdQB2AHcAeAB5AHoAewB8AH0AfgB/AIAAgQCCAIMAhACFAIYAhwCIAIkAigCLAIwAjQCOAI8AkACRAJIAkwCUAJUAlgCXAJgAmQCaAJsAnACdAJ4AnwCgAKEAogCjAKQApQCmAKcAqACpAKoAqwCsAK0ArgCvALAAsQCyALMAtAC1ALYAtwC4ALkAugC7ALwAvQC+AL8AwADBAMIAwwDEAMUAxgDHAMgAyQDKAMsAzADNAM4AzwDQANEA0gDTANQA1QDWANcA2ADZANoA2wDcAN0A3gDfAOAA4QDiAOMA5ADlAOYA5wDoAOkA6gDrAOwA7QDuAO8A8ADxAPIA8wD0APUA9gD3APgA+QD6APsA/AD9AP4A/wAAAQEBAgEDAQQBBQEGAQcBCAEJAQoBCwEMAQ0BDgEPARABEQESARMBFAEVARYBFwEYARkBGgEbARwBHQEeAR8B",
          "dtype": "i2"
         },
         "y": {
          "bdata": "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",
          "dtype": "f8"
         }
        }
       ],
       "layout": {
        "template": {
         "data": {
          "bar": [
           {
            "error_x": {
             "color": "#2a3f5f"
            },
            "error_y": {
             "color": "#2a3f5f"
            },
            "marker": {
             "line": {
              "color": "white",
              "width": 0.5
             },
             "pattern": {
              "fillmode": "overlay",
              "size": 10,
              "solidity": 0.2
             }
            },
            "type": "bar"
           }
          ],
          "barpolar": [
           {
            "marker": {
             "line": {
              "color": "white",
              "width": 0.5
             },
             "pattern": {
              "fillmode": "overlay",
              "size": 10,
              "solidity": 0.2
             }
            },
            "type": "barpolar"
           }
          ],
          "carpet": [
           {
            "aaxis": {
             "endlinecolor": "#2a3f5f",
             "gridcolor": "#C8D4E3",
             "linecolor": "#C8D4E3",
             "minorgridcolor": "#C8D4E3",
             "startlinecolor": "#2a3f5f"
            },
            "baxis": {
             "endlinecolor": "#2a3f5f",
             "gridcolor": "#C8D4E3",
             "linecolor": "#C8D4E3",
             "minorgridcolor": "#C8D4E3",
             "startlinecolor": "#2a3f5f"
            },
            "type": "carpet"
           }
          ],
          "choropleth": [
           {
            "colorbar": {
             "outlinewidth": 0,
             "ticks": ""
            },
            "type": "choropleth"
           }
          ],
          "contour": [
           {
            "colorbar": {
             "outlinewidth": 0,
             "ticks": ""
            },
            "colorscale": [
             [
              0,
              "#0d0887"
             ],
             [
              0.1111111111111111,
              "#46039f"
             ],
             [
              0.2222222222222222,
              "#7201a8"
             ],
             [
              0.3333333333333333,
              "#9c179e"
             ],
             [
              0.4444444444444444,
              "#bd3786"
             ],
             [
              0.5555555555555556,
              "#d8576b"
             ],
             [
              0.6666666666666666,
              "#ed7953"
             ],
             [
              0.7777777777777778,
              "#fb9f3a"
             ],
             [
              0.8888888888888888,
              "#fdca26"
             ],
             [
              1,
              "#f0f921"
             ]
            ],
            "type": "contour"
           }
          ],
          "contourcarpet": [
           {
            "colorbar": {
             "outlinewidth": 0,
             "ticks": ""
            },
            "type": "contourcarpet"
           }
          ],
          "heatmap": [
           {
            "colorbar": {
             "outlinewidth": 0,
             "ticks": ""
            },
            "colorscale": [
             [
              0,
              "#0d0887"
             ],
             [
              0.1111111111111111,
              "#46039f"
             ],
             [
              0.2222222222222222,
              "#7201a8"
             ],
             [
              0.3333333333333333,
              "#9c179e"
             ],
             [
              0.4444444444444444,
              "#bd3786"
             ],
             [
              0.5555555555555556,
              "#d8576b"
             ],
             [
              0.6666666666666666,
              "#ed7953"
             ],
             [
              0.7777777777777778,
              "#fb9f3a"
             ],
             [
              0.8888888888888888,
              "#fdca26"
             ],
             [
              1,
              "#f0f921"
             ]
            ],
            "type": "heatmap"
           }
          ],
          "histogram": [
           {
            "marker": {
             "pattern": {
              "fillmode": "overlay",
              "size": 10,
              "solidity": 0.2
             }
            },
            "type": "histogram"
           }
          ],
          "histogram2d": [
           {
            "colorbar": {
             "outlinewidth": 0,
             "ticks": ""
            },
            "colorscale": [
             [
              0,
              "#0d0887"
             ],
             [
              0.1111111111111111,
              "#46039f"
             ],
             [
              0.2222222222222222,
              "#7201a8"
             ],
             [
              0.3333333333333333,
              "#9c179e"
             ],
             [
              0.4444444444444444,
              "#bd3786"
             ],
             [
              0.5555555555555556,
              "#d8576b"
             ],
             [
              0.6666666666666666,
              "#ed7953"
             ],
             [
              0.7777777777777778,
              "#fb9f3a"
             ],
             [
              0.8888888888888888,
              "#fdca26"
             ],
             [
              1,
              "#f0f921"
             ]
            ],
            "type": "histogram2d"
           }
          ],
          "histogram2dcontour": [
           {
            "colorbar": {
             "outlinewidth": 0,
             "ticks": ""
            },
            "colorscale": [
             [
              0,
              "#0d0887"
             ],
             [
              0.1111111111111111,
              "#46039f"
             ],
             [
              0.2222222222222222,
              "#7201a8"
             ],
             [
              0.3333333333333333,
              "#9c179e"
             ],
             [
              0.4444444444444444,
              "#bd3786"
             ],
             [
              0.5555555555555556,
              "#d8576b"
             ],
             [
              0.6666666666666666,
              "#ed7953"
             ],
             [
              0.7777777777777778,
              "#fb9f3a"
             ],
             [
              0.8888888888888888,
              "#fdca26"
             ],
             [
              1,
              "#f0f921"
             ]
            ],
            "type": "histogram2dcontour"
           }
          ],
          "mesh3d": [
           {
            "colorbar": {
             "outlinewidth": 0,
             "ticks": ""
            },
            "type": "mesh3d"
           }
          ],
          "parcoords": [
           {
            "line": {
             "colorbar": {
              "outlinewidth": 0,
              "ticks": ""
             }
            },
            "type": "parcoords"
           }
          ],
          "pie": [
           {
            "automargin": true,
            "type": "pie"
           }
          ],
          "scatter": [
           {
            "fillpattern": {
             "fillmode": "overlay",
             "size": 10,
             "solidity": 0.2
            },
            "type": "scatter"
           }
          ],
          "scatter3d": [
           {
            "line": {
             "colorbar": {
              "outlinewidth": 0,
              "ticks": ""
             }
            },
            "marker": {
             "colorbar": {
              "outlinewidth": 0,
              "ticks": ""
             }
            },
            "type": "scatter3d"
           }
          ],
          "scattercarpet": [
           {
            "marker": {
             "colorbar": {
              "outlinewidth": 0,
              "ticks": ""
             }
            },
            "type": "scattercarpet"
           }
          ],
          "scattergeo": [
           {
            "marker": {
             "colorbar": {
              "outlinewidth": 0,
              "ticks": ""
             }
            },
            "type": "scattergeo"
           }
          ],
          "scattergl": [
           {
            "marker": {
             "colorbar": {
              "outlinewidth": 0,
              "ticks": ""
             }
            },
            "type": "scattergl"
           }
          ],
          "scattermap": [
           {
            "marker": {
             "colorbar": {
              "outlinewidth": 0,
              "ticks": ""
             }
            },
            "type": "scattermap"
           }
          ],
          "scattermapbox": [
           {
            "marker": {
             "colorbar": {
              "outlinewidth": 0,
              "ticks": ""
             }
            },
            "type": "scattermapbox"
           }
          ],
          "scatterpolar": [
           {
            "marker": {
             "colorbar": {
              "outlinewidth": 0,
              "ticks": ""
             }
            },
            "type": "scatterpolar"
           }
          ],
          "scatterpolargl": [
           {
            "marker": {
             "colorbar": {
              "outlinewidth": 0,
              "ticks": ""
             }
            },
            "type": "scatterpolargl"
           }
          ],
          "scatterternary": [
           {
            "marker": {
             "colorbar": {
              "outlinewidth": 0,
              "ticks": ""
             }
            },
            "type": "scatterternary"
           }
          ],
          "surface": [
           {
            "colorbar": {
             "outlinewidth": 0,
             "ticks": ""
            },
            "colorscale": [
             [
              0,
              "#0d0887"
             ],
             [
              0.1111111111111111,
              "#46039f"
             ],
             [
              0.2222222222222222,
              "#7201a8"
             ],
             [
              0.3333333333333333,
              "#9c179e"
             ],
             [
              0.4444444444444444,
              "#bd3786"
             ],
             [
              0.5555555555555556,
              "#d8576b"
             ],
             [
              0.6666666666666666,
              "#ed7953"
             ],
             [
              0.7777777777777778,
              "#fb9f3a"
             ],
             [
              0.8888888888888888,
              "#fdca26"
             ],
             [
              1,
              "#f0f921"
             ]
            ],
            "type": "surface"
           }
          ],
          "table": [
           {
            "cells": {
             "fill": {
              "color": "#EBF0F8"
             },
             "line": {
              "color": "white"
             }
            },
            "header": {
             "fill": {
              "color": "#C8D4E3"
             },
             "line": {
              "color": "white"
             }
            },
            "type": "table"
           }
          ]
         },
         "layout": {
          "annotationdefaults": {
           "arrowcolor": "#2a3f5f",
           "arrowhead": 0,
           "arrowwidth": 1
          },
          "autotypenumbers": "strict",
          "coloraxis": {
           "colorbar": {
            "outlinewidth": 0,
            "ticks": ""
           }
          },
          "colorscale": {
           "diverging": [
            [
             0,
             "#8e0152"
            ],
            [
             0.1,
             "#c51b7d"
            ],
            [
             0.2,
             "#de77ae"
            ],
            [
             0.3,
             "#f1b6da"
            ],
            [
             0.4,
             "#fde0ef"
            ],
            [
             0.5,
             "#f7f7f7"
            ],
            [
             0.6,
             "#e6f5d0"
            ],
            [
             0.7,
             "#b8e186"
            ],
            [
             0.8,
             "#7fbc41"
            ],
            [
             0.9,
             "#4d9221"
            ],
            [
             1,
             "#276419"
            ]
           ],
           "sequential": [
            [
             0,
             "#0d0887"
            ],
            [
             0.1111111111111111,
             "#46039f"
            ],
            [
             0.2222222222222222,
             "#7201a8"
            ],
            [
             0.3333333333333333,
             "#9c179e"
            ],
            [
             0.4444444444444444,
             "#bd3786"
            ],
            [
             0.5555555555555556,
             "#d8576b"
            ],
            [
             0.6666666666666666,
             "#ed7953"
            ],
            [
             0.7777777777777778,
             "#fb9f3a"
            ],
            [
             0.8888888888888888,
             "#fdca26"
            ],
            [
             1,
             "#f0f921"
            ]
           ],
           "sequentialminus": [
            [
             0,
             "#0d0887"
            ],
            [
             0.1111111111111111,
             "#46039f"
            ],
            [
             0.2222222222222222,
             "#7201a8"
            ],
            [
             0.3333333333333333,
             "#9c179e"
            ],
            [
             0.4444444444444444,
             "#bd3786"
            ],
            [
             0.5555555555555556,
             "#d8576b"
            ],
            [
             0.6666666666666666,
             "#ed7953"
            ],
            [
             0.7777777777777778,
             "#fb9f3a"
            ],
            [
             0.8888888888888888,
             "#fdca26"
            ],
            [
             1,
             "#f0f921"
            ]
           ]
          },
          "colorway": [
           "#636efa",
           "#EF553B",
           "#00cc96",
           "#ab63fa",
           "#FFA15A",
           "#19d3f3",
           "#FF6692",
           "#B6E880",
           "#FF97FF",
           "#FECB52"
          ],
          "font": {
           "color": "#2a3f5f"
          },
          "geo": {
           "bgcolor": "white",
           "lakecolor": "white",
           "landcolor": "white",
           "showlakes": true,
           "showland": true,
           "subunitcolor": "#C8D4E3"
          },
          "hoverlabel": {
           "align": "left"
          },
          "hovermode": "closest",
          "mapbox": {
           "style": "light"
          },
          "paper_bgcolor": "white",
          "plot_bgcolor": "white",
          "polar": {
           "angularaxis": {
            "gridcolor": "#EBF0F8",
            "linecolor": "#EBF0F8",
            "ticks": ""
           },
           "bgcolor": "white",
           "radialaxis": {
            "gridcolor": "#EBF0F8",
            "linecolor": "#EBF0F8",
            "ticks": ""
           }
          },
          "scene": {
           "xaxis": {
            "backgroundcolor": "white",
            "gridcolor": "#DFE8F3",
            "gridwidth": 2,
            "linecolor": "#EBF0F8",
            "showbackground": true,
            "ticks": "",
            "zerolinecolor": "#EBF0F8"
           },
           "yaxis": {
            "backgroundcolor": "white",
            "gridcolor": "#DFE8F3",
            "gridwidth": 2,
            "linecolor": "#EBF0F8",
            "showbackground": true,
            "ticks": "",
            "zerolinecolor": "#EBF0F8"
           },
           "zaxis": {
            "backgroundcolor": "white",
            "gridcolor": "#DFE8F3",
            "gridwidth": 2,
            "linecolor": "#EBF0F8",
            "showbackground": true,
            "ticks": "",
            "zerolinecolor": "#EBF0F8"
           }
          },
          "shapedefaults": {
           "line": {
            "color": "#2a3f5f"
           }
          },
          "ternary": {
           "aaxis": {
            "gridcolor": "#DFE8F3",
            "linecolor": "#A2B1C6",
            "ticks": ""
           },
           "baxis": {
            "gridcolor": "#DFE8F3",
            "linecolor": "#A2B1C6",
            "ticks": ""
           },
           "bgcolor": "white",
           "caxis": {
            "gridcolor": "#DFE8F3",
            "linecolor": "#A2B1C6",
            "ticks": ""
           }
          },
          "title": {
           "x": 0.05
          },
          "xaxis": {
           "automargin": true,
           "gridcolor": "#EBF0F8",
           "linecolor": "#EBF0F8",
           "ticks": "",
           "title": {
            "standoff": 15
           },
           "zerolinecolor": "#EBF0F8",
           "zerolinewidth": 2
          },
          "yaxis": {
           "automargin": true,
           "gridcolor": "#EBF0F8",
           "linecolor": "#EBF0F8",
           "ticks": "",
           "title": {
            "standoff": 15
           },
           "zerolinecolor": "#EBF0F8",
           "zerolinewidth": 2
          }
         }
        },
        "title": {
         "text": "Espectros Médios por Tipo de Bebida"
        },
        "xaxis": {
         "title": {
          "text": "Índice de Banda"
         }
        },
        "yaxis": {
         "title": {
          "text": "Intensidade"
         }
        }
       }
      }
     },
     "metadata": {},
     "output_type": "display_data"
    }
   ],
   "source": [
    "n_bands = np.arange(288)\n",
    "\n",
    "fig = go.Figure()\n",
    "for beverage in mean_spec2:\n",
    "    y_mean = mean_spec2[beverage]\n",
    "    y_std = std_spec2[beverage]\n",
    "    color = COLORS['beverage_type'].get(beverage, '#999999')\n",
    "    \n",
    "    def _hex_to_rgb(hex_color):\n",
    "        hex_color = hex_color.lstrip(\"#\")\n",
    "        return (\"rgba\" + str(tuple(int(hex_color[i:i+2], 16) for i in (0, 2, 4)))).replace(\")\", ', 0.9)')\n",
    "    \n",
    "    color = _hex_to_rgb(color)\n",
    "    \n",
    "    fig.add_trace(go.Scatter(\n",
    "        x=n_bands, y=y_mean + y_std,\n",
    "        mode='lines',\n",
    "        line=dict(width=0),\n",
    "        showlegend=False,\n",
    "        hoverinfo='skip'\n",
    "    ))\n",
    "\n",
    "    fig.add_trace(go.Scatter(\n",
    "        x=n_bands, y=y_mean - y_std,\n",
    "        fill='tonexty',  # preenche entre esse trace e o anterior\n",
    "        fillcolor=color.replace(\"0.9\", '0.2'),\n",
    "        line=dict(width=0),\n",
    "        mode='lines',\n",
    "        name=f\"{beverage} ±1σ\",\n",
    "        hoverinfo='skip'\n",
    "    ))\n",
    "\n",
    "    # Curva da média\n",
    "    fig.add_trace(go.Scatter(\n",
    "        x=n_bands, y=y_mean,\n",
    "        mode='lines',\n",
    "        name=f\"{beverage} (mean)\",\n",
    "        line=dict(color=color, width=2),\n",
    "    ))\n",
    "\n",
    "# Layout\n",
    "fig.update_layout(\n",
    "    title=\"Espectros Médios por Tipo de Bebida\",\n",
    "    xaxis_title=\"Índice de Banda\",\n",
    "    yaxis_title=\"Intensidade\",\n",
    "    template=\"plotly_white\"\n",
    ")\n",
    "\n",
    "fig.show()\n"
   ]
  },
  {
   "cell_type": "code",
   "execution_count": null,
   "id": "f55b4b27",
   "metadata": {},
   "outputs": [],
   "source": []
  },
  {
   "cell_type": "markdown",
   "id": "5c3a6561",
   "metadata": {},
   "source": [
    "### EDA - gourmet"
   ]
  },
  {
   "cell_type": "code",
   "execution_count": 145,
   "id": "f5644311",
   "metadata": {},
   "outputs": [],
   "source": [
    "gourmet = df[df['beverage_type'] == 'cagour']\n",
    "\n",
    "mean_spec_gourmet, std_spec_gourmet = {}, {}\n",
    "\n",
    "for region, specs in gourmet.groupby('region')['spectrum']:\n",
    "    stack = np.vstack(specs.values)\n",
    "    mean_spec_gourmet[region] = stack.mean(axis=0)\n",
    "    # Desvio padrão amostral\n",
    "    std_spec_gourmet[region] = stack.std(axis=0, ddof=1)"
   ]
  },
  {
   "cell_type": "code",
   "execution_count": 146,
   "id": "6d6691b2",
   "metadata": {},
   "outputs": [
    {
     "data": {
      "application/vnd.plotly.v1+json": {
       "config": {
        "plotlyServerURL": "https://plot.ly"
       },
       "data": [
        {
         "hoverinfo": "skip",
         "line": {
          "width": 0
         },
         "mode": "lines",
         "showlegend": false,
         "type": "scatter",
         "x": {
          "bdata": "AAABAAIAAwAEAAUABgAHAAgACQAKAAsADAANAA4ADwAQABEAEgATABQAFQAWABcAGAAZABoAGwAcAB0AHgAfACAAIQAiACMAJAAlACYAJwAoACkAKgArACwALQAuAC8AMAAxADIAMwA0ADUANgA3ADgAOQA6ADsAPAA9AD4APwBAAEEAQgBDAEQARQBGAEcASABJAEoASwBMAE0ATgBPAFAAUQBSAFMAVABVAFYAVwBYAFkAWgBbAFwAXQBeAF8AYABhAGIAYwBkAGUAZgBnAGgAaQBqAGsAbABtAG4AbwBwAHEAcgBzAHQAdQB2AHcAeAB5AHoAewB8AH0AfgB/AIAAgQCCAIMAhACFAIYAhwCIAIkAigCLAIwAjQCOAI8AkACRAJIAkwCUAJUAlgCXAJgAmQCaAJsAnACdAJ4AnwCgAKEAogCjAKQApQCmAKcAqACpAKoAqwCsAK0ArgCvALAAsQCyALMAtAC1ALYAtwC4ALkAugC7ALwAvQC+AL8AwADBAMIAwwDEAMUAxgDHAMgAyQDKAMsAzADNAM4AzwDQANEA0gDTANQA1QDWANcA2ADZANoA2wDcAN0A3gDfAOAA4QDiAOMA5ADlAOYA5wDoAOkA6gDrAOwA7QDuAO8A8ADxAPIA8wD0APUA9gD3APgA+QD6APsA/AD9AP4A/wAAAQEBAgEDAQQBBQEGAQcBCAEJAQoBCwEMAQ0BDgEPARABEQESARMBFAEVARYBFwEYARkBGgEbARwBHQEeAR8B",
          "dtype": "i2"
         },
         "y": {
          "bdata": "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",
          "dtype": "f8"
         }
        },
        {
         "fill": "tonexty",
         "fillcolor": "rgba(62, 86, 65, 0.2)",
         "hoverinfo": "skip",
         "line": {
          "width": 0
         },
         "mode": "lines",
         "name": "florão ±1σ",
         "type": "scatter",
         "x": {
          "bdata": "AAABAAIAAwAEAAUABgAHAAgACQAKAAsADAANAA4ADwAQABEAEgATABQAFQAWABcAGAAZABoAGwAcAB0AHgAfACAAIQAiACMAJAAlACYAJwAoACkAKgArACwALQAuAC8AMAAxADIAMwA0ADUANgA3ADgAOQA6ADsAPAA9AD4APwBAAEEAQgBDAEQARQBGAEcASABJAEoASwBMAE0ATgBPAFAAUQBSAFMAVABVAFYAVwBYAFkAWgBbAFwAXQBeAF8AYABhAGIAYwBkAGUAZgBnAGgAaQBqAGsAbABtAG4AbwBwAHEAcgBzAHQAdQB2AHcAeAB5AHoAewB8AH0AfgB/AIAAgQCCAIMAhACFAIYAhwCIAIkAigCLAIwAjQCOAI8AkACRAJIAkwCUAJUAlgCXAJgAmQCaAJsAnACdAJ4AnwCgAKEAogCjAKQApQCmAKcAqACpAKoAqwCsAK0ArgCvALAAsQCyALMAtAC1ALYAtwC4ALkAugC7ALwAvQC+AL8AwADBAMIAwwDEAMUAxgDHAMgAyQDKAMsAzADNAM4AzwDQANEA0gDTANQA1QDWANcA2ADZANoA2wDcAN0A3gDfAOAA4QDiAOMA5ADlAOYA5wDoAOkA6gDrAOwA7QDuAO8A8ADxAPIA8wD0APUA9gD3APgA+QD6APsA/AD9AP4A/wAAAQEBAgEDAQQBBQEGAQcBCAEJAQoBCwEMAQ0BDgEPARABEQESARMBFAEVARYBFwEYARkBGgEbARwBHQEeAR8B",
          "dtype": "i2"
         },
         "y": {
          "bdata": "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",
          "dtype": "f8"
         }
        },
        {
         "line": {
          "color": "rgba(62, 86, 65, 0.9)",
          "width": 2
         },
         "mode": "lines",
         "name": "florão (mean)",
         "type": "scatter",
         "x": {
          "bdata": "AAABAAIAAwAEAAUABgAHAAgACQAKAAsADAANAA4ADwAQABEAEgATABQAFQAWABcAGAAZABoAGwAcAB0AHgAfACAAIQAiACMAJAAlACYAJwAoACkAKgArACwALQAuAC8AMAAxADIAMwA0ADUANgA3ADgAOQA6ADsAPAA9AD4APwBAAEEAQgBDAEQARQBGAEcASABJAEoASwBMAE0ATgBPAFAAUQBSAFMAVABVAFYAVwBYAFkAWgBbAFwAXQBeAF8AYABhAGIAYwBkAGUAZgBnAGgAaQBqAGsAbABtAG4AbwBwAHEAcgBzAHQAdQB2AHcAeAB5AHoAewB8AH0AfgB/AIAAgQCCAIMAhACFAIYAhwCIAIkAigCLAIwAjQCOAI8AkACRAJIAkwCUAJUAlgCXAJgAmQCaAJsAnACdAJ4AnwCgAKEAogCjAKQApQCmAKcAqACpAKoAqwCsAK0ArgCvALAAsQCyALMAtAC1ALYAtwC4ALkAugC7ALwAvQC+AL8AwADBAMIAwwDEAMUAxgDHAMgAyQDKAMsAzADNAM4AzwDQANEA0gDTANQA1QDWANcA2ADZANoA2wDcAN0A3gDfAOAA4QDiAOMA5ADlAOYA5wDoAOkA6gDrAOwA7QDuAO8A8ADxAPIA8wD0APUA9gD3APgA+QD6APsA/AD9AP4A/wAAAQEBAgEDAQQBBQEGAQcBCAEJAQoBCwEMAQ0BDgEPARABEQESARMBFAEVARYBFwEYARkBGgEbARwBHQEeAR8B",
          "dtype": "i2"
         },
         "y": {
          "bdata": "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",
          "dtype": "f8"
         }
        },
        {
         "hoverinfo": "skip",
         "line": {
          "width": 0
         },
         "mode": "lines",
         "showlegend": false,
         "type": "scatter",
         "x": {
          "bdata": "AAABAAIAAwAEAAUABgAHAAgACQAKAAsADAANAA4ADwAQABEAEgATABQAFQAWABcAGAAZABoAGwAcAB0AHgAfACAAIQAiACMAJAAlACYAJwAoACkAKgArACwALQAuAC8AMAAxADIAMwA0ADUANgA3ADgAOQA6ADsAPAA9AD4APwBAAEEAQgBDAEQARQBGAEcASABJAEoASwBMAE0ATgBPAFAAUQBSAFMAVABVAFYAVwBYAFkAWgBbAFwAXQBeAF8AYABhAGIAYwBkAGUAZgBnAGgAaQBqAGsAbABtAG4AbwBwAHEAcgBzAHQAdQB2AHcAeAB5AHoAewB8AH0AfgB/AIAAgQCCAIMAhACFAIYAhwCIAIkAigCLAIwAjQCOAI8AkACRAJIAkwCUAJUAlgCXAJgAmQCaAJsAnACdAJ4AnwCgAKEAogCjAKQApQCmAKcAqACpAKoAqwCsAK0ArgCvALAAsQCyALMAtAC1ALYAtwC4ALkAugC7ALwAvQC+AL8AwADBAMIAwwDEAMUAxgDHAMgAyQDKAMsAzADNAM4AzwDQANEA0gDTANQA1QDWANcA2ADZANoA2wDcAN0A3gDfAOAA4QDiAOMA5ADlAOYA5wDoAOkA6gDrAOwA7QDuAO8A8ADxAPIA8wD0APUA9gD3APgA+QD6APsA/AD9AP4A/wAAAQEBAgEDAQQBBQEGAQcBCAEJAQoBCwEMAQ0BDgEPARABEQESARMBFAEVARYBFwEYARkBGgEbARwBHQEeAR8B",
          "dtype": "i2"
         },
         "y": {
          "bdata": "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",
          "dtype": "f8"
         }
        },
        {
         "fill": "tonexty",
         "fillcolor": "rgba(40, 43, 40, 0.2)",
         "hoverinfo": "skip",
         "line": {
          "width": 0
         },
         "mode": "lines",
         "name": "minas gerais ±1σ",
         "type": "scatter",
         "x": {
          "bdata": "AAABAAIAAwAEAAUABgAHAAgACQAKAAsADAANAA4ADwAQABEAEgATABQAFQAWABcAGAAZABoAGwAcAB0AHgAfACAAIQAiACMAJAAlACYAJwAoACkAKgArACwALQAuAC8AMAAxADIAMwA0ADUANgA3ADgAOQA6ADsAPAA9AD4APwBAAEEAQgBDAEQARQBGAEcASABJAEoASwBMAE0ATgBPAFAAUQBSAFMAVABVAFYAVwBYAFkAWgBbAFwAXQBeAF8AYABhAGIAYwBkAGUAZgBnAGgAaQBqAGsAbABtAG4AbwBwAHEAcgBzAHQAdQB2AHcAeAB5AHoAewB8AH0AfgB/AIAAgQCCAIMAhACFAIYAhwCIAIkAigCLAIwAjQCOAI8AkACRAJIAkwCUAJUAlgCXAJgAmQCaAJsAnACdAJ4AnwCgAKEAogCjAKQApQCmAKcAqACpAKoAqwCsAK0ArgCvALAAsQCyALMAtAC1ALYAtwC4ALkAugC7ALwAvQC+AL8AwADBAMIAwwDEAMUAxgDHAMgAyQDKAMsAzADNAM4AzwDQANEA0gDTANQA1QDWANcA2ADZANoA2wDcAN0A3gDfAOAA4QDiAOMA5ADlAOYA5wDoAOkA6gDrAOwA7QDuAO8A8ADxAPIA8wD0APUA9gD3APgA+QD6APsA/AD9AP4A/wAAAQEBAgEDAQQBBQEGAQcBCAEJAQoBCwEMAQ0BDgEPARABEQESARMBFAEVARYBFwEYARkBGgEbARwBHQEeAR8B",
          "dtype": "i2"
         },
         "y": {
          "bdata": "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",
          "dtype": "f8"
         }
        },
        {
         "line": {
          "color": "rgba(40, 43, 40, 0.9)",
          "width": 2
         },
         "mode": "lines",
         "name": "minas gerais (mean)",
         "type": "scatter",
         "x": {
          "bdata": "AAABAAIAAwAEAAUABgAHAAgACQAKAAsADAANAA4ADwAQABEAEgATABQAFQAWABcAGAAZABoAGwAcAB0AHgAfACAAIQAiACMAJAAlACYAJwAoACkAKgArACwALQAuAC8AMAAxADIAMwA0ADUANgA3ADgAOQA6ADsAPAA9AD4APwBAAEEAQgBDAEQARQBGAEcASABJAEoASwBMAE0ATgBPAFAAUQBSAFMAVABVAFYAVwBYAFkAWgBbAFwAXQBeAF8AYABhAGIAYwBkAGUAZgBnAGgAaQBqAGsAbABtAG4AbwBwAHEAcgBzAHQAdQB2AHcAeAB5AHoAewB8AH0AfgB/AIAAgQCCAIMAhACFAIYAhwCIAIkAigCLAIwAjQCOAI8AkACRAJIAkwCUAJUAlgCXAJgAmQCaAJsAnACdAJ4AnwCgAKEAogCjAKQApQCmAKcAqACpAKoAqwCsAK0ArgCvALAAsQCyALMAtAC1ALYAtwC4ALkAugC7ALwAvQC+AL8AwADBAMIAwwDEAMUAxgDHAMgAyQDKAMsAzADNAM4AzwDQANEA0gDTANQA1QDWANcA2ADZANoA2wDcAN0A3gDfAOAA4QDiAOMA5ADlAOYA5wDoAOkA6gDrAOwA7QDuAO8A8ADxAPIA8wD0APUA9gD3APgA+QD6APsA/AD9AP4A/wAAAQEBAgEDAQQBBQEGAQcBCAEJAQoBCwEMAQ0BDgEPARABEQESARMBFAEVARYBFwEYARkBGgEbARwBHQEeAR8B",
          "dtype": "i2"
         },
         "y": {
          "bdata": "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",
          "dtype": "f8"
         }
        },
        {
         "hoverinfo": "skip",
         "line": {
          "width": 0
         },
         "mode": "lines",
         "showlegend": false,
         "type": "scatter",
         "x": {
          "bdata": "AAABAAIAAwAEAAUABgAHAAgACQAKAAsADAANAA4ADwAQABEAEgATABQAFQAWABcAGAAZABoAGwAcAB0AHgAfACAAIQAiACMAJAAlACYAJwAoACkAKgArACwALQAuAC8AMAAxADIAMwA0ADUANgA3ADgAOQA6ADsAPAA9AD4APwBAAEEAQgBDAEQARQBGAEcASABJAEoASwBMAE0ATgBPAFAAUQBSAFMAVABVAFYAVwBYAFkAWgBbAFwAXQBeAF8AYABhAGIAYwBkAGUAZgBnAGgAaQBqAGsAbABtAG4AbwBwAHEAcgBzAHQAdQB2AHcAeAB5AHoAewB8AH0AfgB/AIAAgQCCAIMAhACFAIYAhwCIAIkAigCLAIwAjQCOAI8AkACRAJIAkwCUAJUAlgCXAJgAmQCaAJsAnACdAJ4AnwCgAKEAogCjAKQApQCmAKcAqACpAKoAqwCsAK0ArgCvALAAsQCyALMAtAC1ALYAtwC4ALkAugC7ALwAvQC+AL8AwADBAMIAwwDEAMUAxgDHAMgAyQDKAMsAzADNAM4AzwDQANEA0gDTANQA1QDWANcA2ADZANoA2wDcAN0A3gDfAOAA4QDiAOMA5ADlAOYA5wDoAOkA6gDrAOwA7QDuAO8A8ADxAPIA8wD0APUA9gD3APgA+QD6APsA/AD9AP4A/wAAAQEBAgEDAQQBBQEGAQcBCAEJAQoBCwEMAQ0BDgEPARABEQESARMBFAEVARYBFwEYARkBGgEbARwBHQEeAR8B",
          "dtype": "i2"
         },
         "y": {
          "bdata": "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",
          "dtype": "f8"
         }
        },
        {
         "fill": "tonexty",
         "fillcolor": "rgba(162, 73, 54, 0.2)",
         "hoverinfo": "skip",
         "line": {
          "width": 0
         },
         "mode": "lines",
         "name": "mogiana ±1σ",
         "type": "scatter",
         "x": {
          "bdata": "AAABAAIAAwAEAAUABgAHAAgACQAKAAsADAANAA4ADwAQABEAEgATABQAFQAWABcAGAAZABoAGwAcAB0AHgAfACAAIQAiACMAJAAlACYAJwAoACkAKgArACwALQAuAC8AMAAxADIAMwA0ADUANgA3ADgAOQA6ADsAPAA9AD4APwBAAEEAQgBDAEQARQBGAEcASABJAEoASwBMAE0ATgBPAFAAUQBSAFMAVABVAFYAVwBYAFkAWgBbAFwAXQBeAF8AYABhAGIAYwBkAGUAZgBnAGgAaQBqAGsAbABtAG4AbwBwAHEAcgBzAHQAdQB2AHcAeAB5AHoAewB8AH0AfgB/AIAAgQCCAIMAhACFAIYAhwCIAIkAigCLAIwAjQCOAI8AkACRAJIAkwCUAJUAlgCXAJgAmQCaAJsAnACdAJ4AnwCgAKEAogCjAKQApQCmAKcAqACpAKoAqwCsAK0ArgCvALAAsQCyALMAtAC1ALYAtwC4ALkAugC7ALwAvQC+AL8AwADBAMIAwwDEAMUAxgDHAMgAyQDKAMsAzADNAM4AzwDQANEA0gDTANQA1QDWANcA2ADZANoA2wDcAN0A3gDfAOAA4QDiAOMA5ADlAOYA5wDoAOkA6gDrAOwA7QDuAO8A8ADxAPIA8wD0APUA9gD3APgA+QD6APsA/AD9AP4A/wAAAQEBAgEDAQQBBQEGAQcBCAEJAQoBCwEMAQ0BDgEPARABEQESARMBFAEVARYBFwEYARkBGgEbARwBHQEeAR8B",
          "dtype": "i2"
         },
         "y": {
          "bdata": "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",
          "dtype": "f8"
         }
        },
        {
         "line": {
          "color": "rgba(162, 73, 54, 0.9)",
          "width": 2
         },
         "mode": "lines",
         "name": "mogiana (mean)",
         "type": "scatter",
         "x": {
          "bdata": "AAABAAIAAwAEAAUABgAHAAgACQAKAAsADAANAA4ADwAQABEAEgATABQAFQAWABcAGAAZABoAGwAcAB0AHgAfACAAIQAiACMAJAAlACYAJwAoACkAKgArACwALQAuAC8AMAAxADIAMwA0ADUANgA3ADgAOQA6ADsAPAA9AD4APwBAAEEAQgBDAEQARQBGAEcASABJAEoASwBMAE0ATgBPAFAAUQBSAFMAVABVAFYAVwBYAFkAWgBbAFwAXQBeAF8AYABhAGIAYwBkAGUAZgBnAGgAaQBqAGsAbABtAG4AbwBwAHEAcgBzAHQAdQB2AHcAeAB5AHoAewB8AH0AfgB/AIAAgQCCAIMAhACFAIYAhwCIAIkAigCLAIwAjQCOAI8AkACRAJIAkwCUAJUAlgCXAJgAmQCaAJsAnACdAJ4AnwCgAKEAogCjAKQApQCmAKcAqACpAKoAqwCsAK0ArgCvALAAsQCyALMAtAC1ALYAtwC4ALkAugC7ALwAvQC+AL8AwADBAMIAwwDEAMUAxgDHAMgAyQDKAMsAzADNAM4AzwDQANEA0gDTANQA1QDWANcA2ADZANoA2wDcAN0A3gDfAOAA4QDiAOMA5ADlAOYA5wDoAOkA6gDrAOwA7QDuAO8A8ADxAPIA8wD0APUA9gD3APgA+QD6APsA/AD9AP4A/wAAAQEBAgEDAQQBBQEGAQcBCAEJAQoBCwEMAQ0BDgEPARABEQESARMBFAEVARYBFwEYARkBGgEbARwBHQEeAR8B",
          "dtype": "i2"
         },
         "y": {
          "bdata": "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",
          "dtype": "f8"
         }
        },
        {
         "hoverinfo": "skip",
         "line": {
          "width": 0
         },
         "mode": "lines",
         "showlegend": false,
         "type": "scatter",
         "x": {
          "bdata": "AAABAAIAAwAEAAUABgAHAAgACQAKAAsADAANAA4ADwAQABEAEgATABQAFQAWABcAGAAZABoAGwAcAB0AHgAfACAAIQAiACMAJAAlACYAJwAoACkAKgArACwALQAuAC8AMAAxADIAMwA0ADUANgA3ADgAOQA6ADsAPAA9AD4APwBAAEEAQgBDAEQARQBGAEcASABJAEoASwBMAE0ATgBPAFAAUQBSAFMAVABVAFYAVwBYAFkAWgBbAFwAXQBeAF8AYABhAGIAYwBkAGUAZgBnAGgAaQBqAGsAbABtAG4AbwBwAHEAcgBzAHQAdQB2AHcAeAB5AHoAewB8AH0AfgB/AIAAgQCCAIMAhACFAIYAhwCIAIkAigCLAIwAjQCOAI8AkACRAJIAkwCUAJUAlgCXAJgAmQCaAJsAnACdAJ4AnwCgAKEAogCjAKQApQCmAKcAqACpAKoAqwCsAK0ArgCvALAAsQCyALMAtAC1ALYAtwC4ALkAugC7ALwAvQC+AL8AwADBAMIAwwDEAMUAxgDHAMgAyQDKAMsAzADNAM4AzwDQANEA0gDTANQA1QDWANcA2ADZANoA2wDcAN0A3gDfAOAA4QDiAOMA5ADlAOYA5wDoAOkA6gDrAOwA7QDuAO8A8ADxAPIA8wD0APUA9gD3APgA+QD6APsA/AD9AP4A/wAAAQEBAgEDAQQBBQEGAQcBCAEJAQoBCwEMAQ0BDgEPARABEQESARMBFAEVARYBFwEYARkBGgEbARwBHQEeAR8B",
          "dtype": "i2"
         },
         "y": {
          "bdata": "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",
          "dtype": "f8"
         }
        },
        {
         "fill": "tonexty",
         "fillcolor": "rgba(153, 153, 153, 0.2)",
         "hoverinfo": "skip",
         "line": {
          "width": 0
         },
         "mode": "lines",
         "name": "nao informado ±1σ",
         "type": "scatter",
         "x": {
          "bdata": "AAABAAIAAwAEAAUABgAHAAgACQAKAAsADAANAA4ADwAQABEAEgATABQAFQAWABcAGAAZABoAGwAcAB0AHgAfACAAIQAiACMAJAAlACYAJwAoACkAKgArACwALQAuAC8AMAAxADIAMwA0ADUANgA3ADgAOQA6ADsAPAA9AD4APwBAAEEAQgBDAEQARQBGAEcASABJAEoASwBMAE0ATgBPAFAAUQBSAFMAVABVAFYAVwBYAFkAWgBbAFwAXQBeAF8AYABhAGIAYwBkAGUAZgBnAGgAaQBqAGsAbABtAG4AbwBwAHEAcgBzAHQAdQB2AHcAeAB5AHoAewB8AH0AfgB/AIAAgQCCAIMAhACFAIYAhwCIAIkAigCLAIwAjQCOAI8AkACRAJIAkwCUAJUAlgCXAJgAmQCaAJsAnACdAJ4AnwCgAKEAogCjAKQApQCmAKcAqACpAKoAqwCsAK0ArgCvALAAsQCyALMAtAC1ALYAtwC4ALkAugC7ALwAvQC+AL8AwADBAMIAwwDEAMUAxgDHAMgAyQDKAMsAzADNAM4AzwDQANEA0gDTANQA1QDWANcA2ADZANoA2wDcAN0A3gDfAOAA4QDiAOMA5ADlAOYA5wDoAOkA6gDrAOwA7QDuAO8A8ADxAPIA8wD0APUA9gD3APgA+QD6APsA/AD9AP4A/wAAAQEBAgEDAQQBBQEGAQcBCAEJAQoBCwEMAQ0BDgEPARABEQESARMBFAEVARYBFwEYARkBGgEbARwBHQEeAR8B",
          "dtype": "i2"
         },
         "y": {
          "bdata": "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",
          "dtype": "f8"
         }
        },
        {
         "line": {
          "color": "rgba(153, 153, 153, 0.9)",
          "width": 2
         },
         "mode": "lines",
         "name": "nao informado (mean)",
         "type": "scatter",
         "x": {
          "bdata": "AAABAAIAAwAEAAUABgAHAAgACQAKAAsADAANAA4ADwAQABEAEgATABQAFQAWABcAGAAZABoAGwAcAB0AHgAfACAAIQAiACMAJAAlACYAJwAoACkAKgArACwALQAuAC8AMAAxADIAMwA0ADUANgA3ADgAOQA6ADsAPAA9AD4APwBAAEEAQgBDAEQARQBGAEcASABJAEoASwBMAE0ATgBPAFAAUQBSAFMAVABVAFYAVwBYAFkAWgBbAFwAXQBeAF8AYABhAGIAYwBkAGUAZgBnAGgAaQBqAGsAbABtAG4AbwBwAHEAcgBzAHQAdQB2AHcAeAB5AHoAewB8AH0AfgB/AIAAgQCCAIMAhACFAIYAhwCIAIkAigCLAIwAjQCOAI8AkACRAJIAkwCUAJUAlgCXAJgAmQCaAJsAnACdAJ4AnwCgAKEAogCjAKQApQCmAKcAqACpAKoAqwCsAK0ArgCvALAAsQCyALMAtAC1ALYAtwC4ALkAugC7ALwAvQC+AL8AwADBAMIAwwDEAMUAxgDHAMgAyQDKAMsAzADNAM4AzwDQANEA0gDTANQA1QDWANcA2ADZANoA2wDcAN0A3gDfAOAA4QDiAOMA5ADlAOYA5wDoAOkA6gDrAOwA7QDuAO8A8ADxAPIA8wD0APUA9gD3APgA+QD6APsA/AD9AP4A/wAAAQEBAgEDAQQBBQEGAQcBCAEJAQoBCwEMAQ0BDgEPARABEQESARMBFAEVARYBFwEYARkBGgEbARwBHQEeAR8B",
          "dtype": "i2"
         },
         "y": {
          "bdata": "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",
          "dtype": "f8"
         }
        }
       ],
       "layout": {
        "template": {
         "data": {
          "bar": [
           {
            "error_x": {
             "color": "#2a3f5f"
            },
            "error_y": {
             "color": "#2a3f5f"
            },
            "marker": {
             "line": {
              "color": "white",
              "width": 0.5
             },
             "pattern": {
              "fillmode": "overlay",
              "size": 10,
              "solidity": 0.2
             }
            },
            "type": "bar"
           }
          ],
          "barpolar": [
           {
            "marker": {
             "line": {
              "color": "white",
              "width": 0.5
             },
             "pattern": {
              "fillmode": "overlay",
              "size": 10,
              "solidity": 0.2
             }
            },
            "type": "barpolar"
           }
          ],
          "carpet": [
           {
            "aaxis": {
             "endlinecolor": "#2a3f5f",
             "gridcolor": "#C8D4E3",
             "linecolor": "#C8D4E3",
             "minorgridcolor": "#C8D4E3",
             "startlinecolor": "#2a3f5f"
            },
            "baxis": {
             "endlinecolor": "#2a3f5f",
             "gridcolor": "#C8D4E3",
             "linecolor": "#C8D4E3",
             "minorgridcolor": "#C8D4E3",
             "startlinecolor": "#2a3f5f"
            },
            "type": "carpet"
           }
          ],
          "choropleth": [
           {
            "colorbar": {
             "outlinewidth": 0,
             "ticks": ""
            },
            "type": "choropleth"
           }
          ],
          "contour": [
           {
            "colorbar": {
             "outlinewidth": 0,
             "ticks": ""
            },
            "colorscale": [
             [
              0,
              "#0d0887"
             ],
             [
              0.1111111111111111,
              "#46039f"
             ],
             [
              0.2222222222222222,
              "#7201a8"
             ],
             [
              0.3333333333333333,
              "#9c179e"
             ],
             [
              0.4444444444444444,
              "#bd3786"
             ],
             [
              0.5555555555555556,
              "#d8576b"
             ],
             [
              0.6666666666666666,
              "#ed7953"
             ],
             [
              0.7777777777777778,
              "#fb9f3a"
             ],
             [
              0.8888888888888888,
              "#fdca26"
             ],
             [
              1,
              "#f0f921"
             ]
            ],
            "type": "contour"
           }
          ],
          "contourcarpet": [
           {
            "colorbar": {
             "outlinewidth": 0,
             "ticks": ""
            },
            "type": "contourcarpet"
           }
          ],
          "heatmap": [
           {
            "colorbar": {
             "outlinewidth": 0,
             "ticks": ""
            },
            "colorscale": [
             [
              0,
              "#0d0887"
             ],
             [
              0.1111111111111111,
              "#46039f"
             ],
             [
              0.2222222222222222,
              "#7201a8"
             ],
             [
              0.3333333333333333,
              "#9c179e"
             ],
             [
              0.4444444444444444,
              "#bd3786"
             ],
             [
              0.5555555555555556,
              "#d8576b"
             ],
             [
              0.6666666666666666,
              "#ed7953"
             ],
             [
              0.7777777777777778,
              "#fb9f3a"
             ],
             [
              0.8888888888888888,
              "#fdca26"
             ],
             [
              1,
              "#f0f921"
             ]
            ],
            "type": "heatmap"
           }
          ],
          "histogram": [
           {
            "marker": {
             "pattern": {
              "fillmode": "overlay",
              "size": 10,
              "solidity": 0.2
             }
            },
            "type": "histogram"
           }
          ],
          "histogram2d": [
           {
            "colorbar": {
             "outlinewidth": 0,
             "ticks": ""
            },
            "colorscale": [
             [
              0,
              "#0d0887"
             ],
             [
              0.1111111111111111,
              "#46039f"
             ],
             [
              0.2222222222222222,
              "#7201a8"
             ],
             [
              0.3333333333333333,
              "#9c179e"
             ],
             [
              0.4444444444444444,
              "#bd3786"
             ],
             [
              0.5555555555555556,
              "#d8576b"
             ],
             [
              0.6666666666666666,
              "#ed7953"
             ],
             [
              0.7777777777777778,
              "#fb9f3a"
             ],
             [
              0.8888888888888888,
              "#fdca26"
             ],
             [
              1,
              "#f0f921"
             ]
            ],
            "type": "histogram2d"
           }
          ],
          "histogram2dcontour": [
           {
            "colorbar": {
             "outlinewidth": 0,
             "ticks": ""
            },
            "colorscale": [
             [
              0,
              "#0d0887"
             ],
             [
              0.1111111111111111,
              "#46039f"
             ],
             [
              0.2222222222222222,
              "#7201a8"
             ],
             [
              0.3333333333333333,
              "#9c179e"
             ],
             [
              0.4444444444444444,
              "#bd3786"
             ],
             [
              0.5555555555555556,
              "#d8576b"
             ],
             [
              0.6666666666666666,
              "#ed7953"
             ],
             [
              0.7777777777777778,
              "#fb9f3a"
             ],
             [
              0.8888888888888888,
              "#fdca26"
             ],
             [
              1,
              "#f0f921"
             ]
            ],
            "type": "histogram2dcontour"
           }
          ],
          "mesh3d": [
           {
            "colorbar": {
             "outlinewidth": 0,
             "ticks": ""
            },
            "type": "mesh3d"
           }
          ],
          "parcoords": [
           {
            "line": {
             "colorbar": {
              "outlinewidth": 0,
              "ticks": ""
             }
            },
            "type": "parcoords"
           }
          ],
          "pie": [
           {
            "automargin": true,
            "type": "pie"
           }
          ],
          "scatter": [
           {
            "fillpattern": {
             "fillmode": "overlay",
             "size": 10,
             "solidity": 0.2
            },
            "type": "scatter"
           }
          ],
          "scatter3d": [
           {
            "line": {
             "colorbar": {
              "outlinewidth": 0,
              "ticks": ""
             }
            },
            "marker": {
             "colorbar": {
              "outlinewidth": 0,
              "ticks": ""
             }
            },
            "type": "scatter3d"
           }
          ],
          "scattercarpet": [
           {
            "marker": {
             "colorbar": {
              "outlinewidth": 0,
              "ticks": ""
             }
            },
            "type": "scattercarpet"
           }
          ],
          "scattergeo": [
           {
            "marker": {
             "colorbar": {
              "outlinewidth": 0,
              "ticks": ""
             }
            },
            "type": "scattergeo"
           }
          ],
          "scattergl": [
           {
            "marker": {
             "colorbar": {
              "outlinewidth": 0,
              "ticks": ""
             }
            },
            "type": "scattergl"
           }
          ],
          "scattermap": [
           {
            "marker": {
             "colorbar": {
              "outlinewidth": 0,
              "ticks": ""
             }
            },
            "type": "scattermap"
           }
          ],
          "scattermapbox": [
           {
            "marker": {
             "colorbar": {
              "outlinewidth": 0,
              "ticks": ""
             }
            },
            "type": "scattermapbox"
           }
          ],
          "scatterpolar": [
           {
            "marker": {
             "colorbar": {
              "outlinewidth": 0,
              "ticks": ""
             }
            },
            "type": "scatterpolar"
           }
          ],
          "scatterpolargl": [
           {
            "marker": {
             "colorbar": {
              "outlinewidth": 0,
              "ticks": ""
             }
            },
            "type": "scatterpolargl"
           }
          ],
          "scatterternary": [
           {
            "marker": {
             "colorbar": {
              "outlinewidth": 0,
              "ticks": ""
             }
            },
            "type": "scatterternary"
           }
          ],
          "surface": [
           {
            "colorbar": {
             "outlinewidth": 0,
             "ticks": ""
            },
            "colorscale": [
             [
              0,
              "#0d0887"
             ],
             [
              0.1111111111111111,
              "#46039f"
             ],
             [
              0.2222222222222222,
              "#7201a8"
             ],
             [
              0.3333333333333333,
              "#9c179e"
             ],
             [
              0.4444444444444444,
              "#bd3786"
             ],
             [
              0.5555555555555556,
              "#d8576b"
             ],
             [
              0.6666666666666666,
              "#ed7953"
             ],
             [
              0.7777777777777778,
              "#fb9f3a"
             ],
             [
              0.8888888888888888,
              "#fdca26"
             ],
             [
              1,
              "#f0f921"
             ]
            ],
            "type": "surface"
           }
          ],
          "table": [
           {
            "cells": {
             "fill": {
              "color": "#EBF0F8"
             },
             "line": {
              "color": "white"
             }
            },
            "header": {
             "fill": {
              "color": "#C8D4E3"
             },
             "line": {
              "color": "white"
             }
            },
            "type": "table"
           }
          ]
         },
         "layout": {
          "annotationdefaults": {
           "arrowcolor": "#2a3f5f",
           "arrowhead": 0,
           "arrowwidth": 1
          },
          "autotypenumbers": "strict",
          "coloraxis": {
           "colorbar": {
            "outlinewidth": 0,
            "ticks": ""
           }
          },
          "colorscale": {
           "diverging": [
            [
             0,
             "#8e0152"
            ],
            [
             0.1,
             "#c51b7d"
            ],
            [
             0.2,
             "#de77ae"
            ],
            [
             0.3,
             "#f1b6da"
            ],
            [
             0.4,
             "#fde0ef"
            ],
            [
             0.5,
             "#f7f7f7"
            ],
            [
             0.6,
             "#e6f5d0"
            ],
            [
             0.7,
             "#b8e186"
            ],
            [
             0.8,
             "#7fbc41"
            ],
            [
             0.9,
             "#4d9221"
            ],
            [
             1,
             "#276419"
            ]
           ],
           "sequential": [
            [
             0,
             "#0d0887"
            ],
            [
             0.1111111111111111,
             "#46039f"
            ],
            [
             0.2222222222222222,
             "#7201a8"
            ],
            [
             0.3333333333333333,
             "#9c179e"
            ],
            [
             0.4444444444444444,
             "#bd3786"
            ],
            [
             0.5555555555555556,
             "#d8576b"
            ],
            [
             0.6666666666666666,
             "#ed7953"
            ],
            [
             0.7777777777777778,
             "#fb9f3a"
            ],
            [
             0.8888888888888888,
             "#fdca26"
            ],
            [
             1,
             "#f0f921"
            ]
           ],
           "sequentialminus": [
            [
             0,
             "#0d0887"
            ],
            [
             0.1111111111111111,
             "#46039f"
            ],
            [
             0.2222222222222222,
             "#7201a8"
            ],
            [
             0.3333333333333333,
             "#9c179e"
            ],
            [
             0.4444444444444444,
             "#bd3786"
            ],
            [
             0.5555555555555556,
             "#d8576b"
            ],
            [
             0.6666666666666666,
             "#ed7953"
            ],
            [
             0.7777777777777778,
             "#fb9f3a"
            ],
            [
             0.8888888888888888,
             "#fdca26"
            ],
            [
             1,
             "#f0f921"
            ]
           ]
          },
          "colorway": [
           "#636efa",
           "#EF553B",
           "#00cc96",
           "#ab63fa",
           "#FFA15A",
           "#19d3f3",
           "#FF6692",
           "#B6E880",
           "#FF97FF",
           "#FECB52"
          ],
          "font": {
           "color": "#2a3f5f"
          },
          "geo": {
           "bgcolor": "white",
           "lakecolor": "white",
           "landcolor": "white",
           "showlakes": true,
           "showland": true,
           "subunitcolor": "#C8D4E3"
          },
          "hoverlabel": {
           "align": "left"
          },
          "hovermode": "closest",
          "mapbox": {
           "style": "light"
          },
          "paper_bgcolor": "white",
          "plot_bgcolor": "white",
          "polar": {
           "angularaxis": {
            "gridcolor": "#EBF0F8",
            "linecolor": "#EBF0F8",
            "ticks": ""
           },
           "bgcolor": "white",
           "radialaxis": {
            "gridcolor": "#EBF0F8",
            "linecolor": "#EBF0F8",
            "ticks": ""
           }
          },
          "scene": {
           "xaxis": {
            "backgroundcolor": "white",
            "gridcolor": "#DFE8F3",
            "gridwidth": 2,
            "linecolor": "#EBF0F8",
            "showbackground": true,
            "ticks": "",
            "zerolinecolor": "#EBF0F8"
           },
           "yaxis": {
            "backgroundcolor": "white",
            "gridcolor": "#DFE8F3",
            "gridwidth": 2,
            "linecolor": "#EBF0F8",
            "showbackground": true,
            "ticks": "",
            "zerolinecolor": "#EBF0F8"
           },
           "zaxis": {
            "backgroundcolor": "white",
            "gridcolor": "#DFE8F3",
            "gridwidth": 2,
            "linecolor": "#EBF0F8",
            "showbackground": true,
            "ticks": "",
            "zerolinecolor": "#EBF0F8"
           }
          },
          "shapedefaults": {
           "line": {
            "color": "#2a3f5f"
           }
          },
          "ternary": {
           "aaxis": {
            "gridcolor": "#DFE8F3",
            "linecolor": "#A2B1C6",
            "ticks": ""
           },
           "baxis": {
            "gridcolor": "#DFE8F3",
            "linecolor": "#A2B1C6",
            "ticks": ""
           },
           "bgcolor": "white",
           "caxis": {
            "gridcolor": "#DFE8F3",
            "linecolor": "#A2B1C6",
            "ticks": ""
           }
          },
          "title": {
           "x": 0.05
          },
          "xaxis": {
           "automargin": true,
           "gridcolor": "#EBF0F8",
           "linecolor": "#EBF0F8",
           "ticks": "",
           "title": {
            "standoff": 15
           },
           "zerolinecolor": "#EBF0F8",
           "zerolinewidth": 2
          },
          "yaxis": {
           "automargin": true,
           "gridcolor": "#EBF0F8",
           "linecolor": "#EBF0F8",
           "ticks": "",
           "title": {
            "standoff": 15
           },
           "zerolinecolor": "#EBF0F8",
           "zerolinewidth": 2
          }
         }
        },
        "title": {
         "text": "Espectros Médios por Tipo da região"
        },
        "xaxis": {
         "title": {
          "text": "Índice de Banda"
         }
        },
        "yaxis": {
         "title": {
          "text": "Intensidade"
         }
        }
       }
      }
     },
     "metadata": {},
     "output_type": "display_data"
    }
   ],
   "source": [
    "n_bands = np.arange(288)\n",
    "\n",
    "fig = go.Figure()\n",
    "for region in mean_spec_gourmet:\n",
    "    y_mean = mean_spec_gourmet[region]\n",
    "    y_std = std_spec_gourmet[region]\n",
    "    color = COLORS['region'].get(region, '#999999')\n",
    "    \n",
    "    def _hex_to_rgb(hex_color):\n",
    "        hex_color = hex_color.lstrip(\"#\")\n",
    "        return (\"rgba\" + str(tuple(int(hex_color[i:i+2], 16) for i in (0, 2, 4)))).replace(\")\", ', 0.9)')\n",
    "    \n",
    "    color = _hex_to_rgb(color)\n",
    "    \n",
    "    fig.add_trace(go.Scatter(\n",
    "        x=n_bands, y=y_mean + y_std,\n",
    "        mode='lines',\n",
    "        line=dict(width=0),\n",
    "        showlegend=False,\n",
    "        hoverinfo='skip'\n",
    "    ))\n",
    "\n",
    "    fig.add_trace(go.Scatter(\n",
    "        x=n_bands, y=y_mean - y_std,\n",
    "        fill='tonexty',  # preenche entre esse trace e o anterior\n",
    "        fillcolor=color.replace(\"0.9\", '0.2'),\n",
    "        line=dict(width=0),\n",
    "        mode='lines',\n",
    "        name=f\"{region} ±1σ\",\n",
    "        hoverinfo='skip'\n",
    "    ))\n",
    "\n",
    "    # Curva da média\n",
    "    fig.add_trace(go.Scatter(\n",
    "        x=n_bands, y=y_mean,\n",
    "        mode='lines',\n",
    "        name=f\"{region} (mean)\",\n",
    "        line=dict(color=color, width=2),\n",
    "    ))\n",
    "\n",
    "# Layout\n",
    "fig.update_layout(\n",
    "    title=\"Espectros Médios por Tipo da região\",\n",
    "    xaxis_title=\"Índice de Banda\",\n",
    "    yaxis_title=\"Intensidade\",\n",
    "    template=\"plotly_white\"\n",
    ")\n",
    "\n",
    "fig.show()\n"
   ]
  },
  {
   "cell_type": "code",
   "execution_count": 135,
   "id": "28c6978c",
   "metadata": {},
   "outputs": [
    {
     "data": {
      "text/plain": [
       "region\n",
       "minas gerais     40\n",
       "florão           35\n",
       "nao informado    15\n",
       "mogiana          15\n",
       "Name: count, dtype: int64"
      ]
     },
     "execution_count": 135,
     "metadata": {},
     "output_type": "execute_result"
    }
   ],
   "source": [
    "gourmet['region'].value_counts()"
   ]
  },
  {
   "cell_type": "code",
   "execution_count": 152,
   "id": "2d91c43a",
   "metadata": {},
   "outputs": [],
   "source": [
    "gourmet = df[df['beverage_type'] == 'especial']\n",
    "\n",
    "mean_spec_gourmet, std_spec_gourmet = {}, {}\n",
    "\n",
    "for region, specs in gourmet.groupby('region')['spectrum']:\n",
    "    stack = np.vstack(specs.values)\n",
    "    mean_spec_gourmet[region] = stack.mean(axis=0)\n",
    "    # Desvio padrão amostral\n",
    "    std_spec_gourmet[region] = stack.std(axis=0, ddof=1)"
   ]
  },
  {
   "cell_type": "code",
   "execution_count": 153,
   "id": "f3b4de96",
   "metadata": {},
   "outputs": [
    {
     "data": {
      "application/vnd.plotly.v1+json": {
       "config": {
        "plotlyServerURL": "https://plot.ly"
       },
       "data": [
        {
         "hoverinfo": "skip",
         "line": {
          "width": 0
         },
         "mode": "lines",
         "showlegend": false,
         "type": "scatter",
         "x": {
          "bdata": "AAABAAIAAwAEAAUABgAHAAgACQAKAAsADAANAA4ADwAQABEAEgATABQAFQAWABcAGAAZABoAGwAcAB0AHgAfACAAIQAiACMAJAAlACYAJwAoACkAKgArACwALQAuAC8AMAAxADIAMwA0ADUANgA3ADgAOQA6ADsAPAA9AD4APwBAAEEAQgBDAEQARQBGAEcASABJAEoASwBMAE0ATgBPAFAAUQBSAFMAVABVAFYAVwBYAFkAWgBbAFwAXQBeAF8AYABhAGIAYwBkAGUAZgBnAGgAaQBqAGsAbABtAG4AbwBwAHEAcgBzAHQAdQB2AHcAeAB5AHoAewB8AH0AfgB/AIAAgQCCAIMAhACFAIYAhwCIAIkAigCLAIwAjQCOAI8AkACRAJIAkwCUAJUAlgCXAJgAmQCaAJsAnACdAJ4AnwCgAKEAogCjAKQApQCmAKcAqACpAKoAqwCsAK0ArgCvALAAsQCyALMAtAC1ALYAtwC4ALkAugC7ALwAvQC+AL8AwADBAMIAwwDEAMUAxgDHAMgAyQDKAMsAzADNAM4AzwDQANEA0gDTANQA1QDWANcA2ADZANoA2wDcAN0A3gDfAOAA4QDiAOMA5ADlAOYA5wDoAOkA6gDrAOwA7QDuAO8A8ADxAPIA8wD0APUA9gD3APgA+QD6APsA/AD9AP4A/wAAAQEBAgEDAQQBBQEGAQcBCAEJAQoBCwEMAQ0BDgEPARABEQESARMBFAEVARYBFwEYARkBGgEbARwBHQEeAR8B",
          "dtype": "i2"
         },
         "y": {
          "bdata": "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",
          "dtype": "f8"
         }
        },
        {
         "fill": "tonexty",
         "fillcolor": "rgba(62, 86, 65, 0.2)",
         "hoverinfo": "skip",
         "line": {
          "width": 0
         },
         "mode": "lines",
         "name": "florão ±1σ",
         "type": "scatter",
         "x": {
          "bdata": "AAABAAIAAwAEAAUABgAHAAgACQAKAAsADAANAA4ADwAQABEAEgATABQAFQAWABcAGAAZABoAGwAcAB0AHgAfACAAIQAiACMAJAAlACYAJwAoACkAKgArACwALQAuAC8AMAAxADIAMwA0ADUANgA3ADgAOQA6ADsAPAA9AD4APwBAAEEAQgBDAEQARQBGAEcASABJAEoASwBMAE0ATgBPAFAAUQBSAFMAVABVAFYAVwBYAFkAWgBbAFwAXQBeAF8AYABhAGIAYwBkAGUAZgBnAGgAaQBqAGsAbABtAG4AbwBwAHEAcgBzAHQAdQB2AHcAeAB5AHoAewB8AH0AfgB/AIAAgQCCAIMAhACFAIYAhwCIAIkAigCLAIwAjQCOAI8AkACRAJIAkwCUAJUAlgCXAJgAmQCaAJsAnACdAJ4AnwCgAKEAogCjAKQApQCmAKcAqACpAKoAqwCsAK0ArgCvALAAsQCyALMAtAC1ALYAtwC4ALkAugC7ALwAvQC+AL8AwADBAMIAwwDEAMUAxgDHAMgAyQDKAMsAzADNAM4AzwDQANEA0gDTANQA1QDWANcA2ADZANoA2wDcAN0A3gDfAOAA4QDiAOMA5ADlAOYA5wDoAOkA6gDrAOwA7QDuAO8A8ADxAPIA8wD0APUA9gD3APgA+QD6APsA/AD9AP4A/wAAAQEBAgEDAQQBBQEGAQcBCAEJAQoBCwEMAQ0BDgEPARABEQESARMBFAEVARYBFwEYARkBGgEbARwBHQEeAR8B",
          "dtype": "i2"
         },
         "y": {
          "bdata": "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",
          "dtype": "f8"
         }
        },
        {
         "line": {
          "color": "rgba(62, 86, 65, 0.9)",
          "width": 2
         },
         "mode": "lines",
         "name": "florão (mean)",
         "type": "scatter",
         "x": {
          "bdata": "AAABAAIAAwAEAAUABgAHAAgACQAKAAsADAANAA4ADwAQABEAEgATABQAFQAWABcAGAAZABoAGwAcAB0AHgAfACAAIQAiACMAJAAlACYAJwAoACkAKgArACwALQAuAC8AMAAxADIAMwA0ADUANgA3ADgAOQA6ADsAPAA9AD4APwBAAEEAQgBDAEQARQBGAEcASABJAEoASwBMAE0ATgBPAFAAUQBSAFMAVABVAFYAVwBYAFkAWgBbAFwAXQBeAF8AYABhAGIAYwBkAGUAZgBnAGgAaQBqAGsAbABtAG4AbwBwAHEAcgBzAHQAdQB2AHcAeAB5AHoAewB8AH0AfgB/AIAAgQCCAIMAhACFAIYAhwCIAIkAigCLAIwAjQCOAI8AkACRAJIAkwCUAJUAlgCXAJgAmQCaAJsAnACdAJ4AnwCgAKEAogCjAKQApQCmAKcAqACpAKoAqwCsAK0ArgCvALAAsQCyALMAtAC1ALYAtwC4ALkAugC7ALwAvQC+AL8AwADBAMIAwwDEAMUAxgDHAMgAyQDKAMsAzADNAM4AzwDQANEA0gDTANQA1QDWANcA2ADZANoA2wDcAN0A3gDfAOAA4QDiAOMA5ADlAOYA5wDoAOkA6gDrAOwA7QDuAO8A8ADxAPIA8wD0APUA9gD3APgA+QD6APsA/AD9AP4A/wAAAQEBAgEDAQQBBQEGAQcBCAEJAQoBCwEMAQ0BDgEPARABEQESARMBFAEVARYBFwEYARkBGgEbARwBHQEeAR8B",
          "dtype": "i2"
         },
         "y": {
          "bdata": "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",
          "dtype": "f8"
         }
        },
        {
         "hoverinfo": "skip",
         "line": {
          "width": 0
         },
         "mode": "lines",
         "showlegend": false,
         "type": "scatter",
         "x": {
          "bdata": "AAABAAIAAwAEAAUABgAHAAgACQAKAAsADAANAA4ADwAQABEAEgATABQAFQAWABcAGAAZABoAGwAcAB0AHgAfACAAIQAiACMAJAAlACYAJwAoACkAKgArACwALQAuAC8AMAAxADIAMwA0ADUANgA3ADgAOQA6ADsAPAA9AD4APwBAAEEAQgBDAEQARQBGAEcASABJAEoASwBMAE0ATgBPAFAAUQBSAFMAVABVAFYAVwBYAFkAWgBbAFwAXQBeAF8AYABhAGIAYwBkAGUAZgBnAGgAaQBqAGsAbABtAG4AbwBwAHEAcgBzAHQAdQB2AHcAeAB5AHoAewB8AH0AfgB/AIAAgQCCAIMAhACFAIYAhwCIAIkAigCLAIwAjQCOAI8AkACRAJIAkwCUAJUAlgCXAJgAmQCaAJsAnACdAJ4AnwCgAKEAogCjAKQApQCmAKcAqACpAKoAqwCsAK0ArgCvALAAsQCyALMAtAC1ALYAtwC4ALkAugC7ALwAvQC+AL8AwADBAMIAwwDEAMUAxgDHAMgAyQDKAMsAzADNAM4AzwDQANEA0gDTANQA1QDWANcA2ADZANoA2wDcAN0A3gDfAOAA4QDiAOMA5ADlAOYA5wDoAOkA6gDrAOwA7QDuAO8A8ADxAPIA8wD0APUA9gD3APgA+QD6APsA/AD9AP4A/wAAAQEBAgEDAQQBBQEGAQcBCAEJAQoBCwEMAQ0BDgEPARABEQESARMBFAEVARYBFwEYARkBGgEbARwBHQEeAR8B",
          "dtype": "i2"
         },
         "y": {
          "bdata": "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",
          "dtype": "f8"
         }
        },
        {
         "fill": "tonexty",
         "fillcolor": "rgba(162, 73, 54, 0.2)",
         "hoverinfo": "skip",
         "line": {
          "width": 0
         },
         "mode": "lines",
         "name": "mogiana ±1σ",
         "type": "scatter",
         "x": {
          "bdata": "AAABAAIAAwAEAAUABgAHAAgACQAKAAsADAANAA4ADwAQABEAEgATABQAFQAWABcAGAAZABoAGwAcAB0AHgAfACAAIQAiACMAJAAlACYAJwAoACkAKgArACwALQAuAC8AMAAxADIAMwA0ADUANgA3ADgAOQA6ADsAPAA9AD4APwBAAEEAQgBDAEQARQBGAEcASABJAEoASwBMAE0ATgBPAFAAUQBSAFMAVABVAFYAVwBYAFkAWgBbAFwAXQBeAF8AYABhAGIAYwBkAGUAZgBnAGgAaQBqAGsAbABtAG4AbwBwAHEAcgBzAHQAdQB2AHcAeAB5AHoAewB8AH0AfgB/AIAAgQCCAIMAhACFAIYAhwCIAIkAigCLAIwAjQCOAI8AkACRAJIAkwCUAJUAlgCXAJgAmQCaAJsAnACdAJ4AnwCgAKEAogCjAKQApQCmAKcAqACpAKoAqwCsAK0ArgCvALAAsQCyALMAtAC1ALYAtwC4ALkAugC7ALwAvQC+AL8AwADBAMIAwwDEAMUAxgDHAMgAyQDKAMsAzADNAM4AzwDQANEA0gDTANQA1QDWANcA2ADZANoA2wDcAN0A3gDfAOAA4QDiAOMA5ADlAOYA5wDoAOkA6gDrAOwA7QDuAO8A8ADxAPIA8wD0APUA9gD3APgA+QD6APsA/AD9AP4A/wAAAQEBAgEDAQQBBQEGAQcBCAEJAQoBCwEMAQ0BDgEPARABEQESARMBFAEVARYBFwEYARkBGgEbARwBHQEeAR8B",
          "dtype": "i2"
         },
         "y": {
          "bdata": "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",
          "dtype": "f8"
         }
        },
        {
         "line": {
          "color": "rgba(162, 73, 54, 0.9)",
          "width": 2
         },
         "mode": "lines",
         "name": "mogiana (mean)",
         "type": "scatter",
         "x": {
          "bdata": "AAABAAIAAwAEAAUABgAHAAgACQAKAAsADAANAA4ADwAQABEAEgATABQAFQAWABcAGAAZABoAGwAcAB0AHgAfACAAIQAiACMAJAAlACYAJwAoACkAKgArACwALQAuAC8AMAAxADIAMwA0ADUANgA3ADgAOQA6ADsAPAA9AD4APwBAAEEAQgBDAEQARQBGAEcASABJAEoASwBMAE0ATgBPAFAAUQBSAFMAVABVAFYAVwBYAFkAWgBbAFwAXQBeAF8AYABhAGIAYwBkAGUAZgBnAGgAaQBqAGsAbABtAG4AbwBwAHEAcgBzAHQAdQB2AHcAeAB5AHoAewB8AH0AfgB/AIAAgQCCAIMAhACFAIYAhwCIAIkAigCLAIwAjQCOAI8AkACRAJIAkwCUAJUAlgCXAJgAmQCaAJsAnACdAJ4AnwCgAKEAogCjAKQApQCmAKcAqACpAKoAqwCsAK0ArgCvALAAsQCyALMAtAC1ALYAtwC4ALkAugC7ALwAvQC+AL8AwADBAMIAwwDEAMUAxgDHAMgAyQDKAMsAzADNAM4AzwDQANEA0gDTANQA1QDWANcA2ADZANoA2wDcAN0A3gDfAOAA4QDiAOMA5ADlAOYA5wDoAOkA6gDrAOwA7QDuAO8A8ADxAPIA8wD0APUA9gD3APgA+QD6APsA/AD9AP4A/wAAAQEBAgEDAQQBBQEGAQcBCAEJAQoBCwEMAQ0BDgEPARABEQESARMBFAEVARYBFwEYARkBGgEbARwBHQEeAR8B",
          "dtype": "i2"
         },
         "y": {
          "bdata": "ICr2k5gUkj9IEFvCPp6JPwQNuIUnmZU/RVrfltpRlT8aaPXneUukPwANovmaYYk/4a/ubhvNmz/fUooOMxmFPzA2IO/5Zo4/tmOb68rakD/l3rLjCH2SPw2msG1B6aA/NKaApN3piz8uCWEO3pKRPxIq7VMZZJ0/WMCOw4oriT8BvatazceUP8BE6+fCzpY//L0HHzodiT8vqaFIar2UPxwL+c0t0pI/3Aq9SsVUkj+I/J8e5UKXP0t+2ZZUCYY/wLBB5AWXkD97H+qbn6GSP0JDPk9dE5k/7OvsYqHbkz/1qHfv1sSXPz/3UJXb1pE/ev+lPN/+kz9dUYBB2qyKPzGz9LRXao0/bpcSju6WlT9ZJN3jpfeHP1VK1Us1+ZU/N9gRPS7bkT+/gut/UO6PP6iVhsJ8n5Q/SxuyZkMikT/PjleFs8KYPzGsT9uDfZo/X/Z1oeKAjj/goActwSKYP+0lt+4RYpU/7keobCQbiz/H8tXyXuKWP1CJHHiy9o4/syUFILjmkT+My2dInLiVPyBD+MGyl5Y//Vl7hVLSkT9w2fRkQeCDP8angJQK3pM/mPHGl47wlD8dMgwfGaCLP6/Pvo2JOZ8/tvFqZ0jQlT9FwYLwZJ6WPzhFrfr7mpg/tJmP+v33nD8Z3BQ58uWiP8+7YjSA/LA/sb0L2kTzvz/0dlVAgILJPx2Y/lPp0NQ/fzx9ZffO3T8AW2X2wOrjP7ANS8D8ROg/yFRZ1imV6z/gFYtFlWvuPyJkaoUSLu8/UcCSBBff7z+9/yiITbzvP+ikncMOXu8/NAMtjR6G7j/LORPbSd3tPwdHbitiBe0/m4dbYXaw7D/jtoI9NqfrP32mITSx5es/E5nPCFBV6z8NIlLIJRDrP/2NQ9gU8uo/QjI2OgaA6j86p644RL/pP1SF9Q4GS+k/pvIZ4FWA6D/+WDgcLG/nP3hTzsdEpuY/Fwm7T/vu5T+Jrt+7LaLlP9ZWfQMKoOQ/slnoyBhz5D8A1XY+OG3jP+L4UEXQ/uI/klGU9QlX4j8rtQgP/bfhPwPhVYoMEOE/mCsMDud94D8rdx5J9TjgPyqC+/Nyot4/MaKARwpF3j8iBNkLOVDdP5BLRUv4Pt0/IRdu7vo83D865QpcARTbP3EdCx1UVds/z8GSbNhp2j8JCvDmXarZP8DOkmMmu9k/IWhE584V2D9Cvueux0jYP8Didz2YwNc/oSvL1ExT1j8h8C/nP4DWP2vhWuNvEdU/KixFK+SN1T/lJQv0AwLVP7pzxky//NM/rk7KefIS1D+iX5Zj82bTP5GTZy7Vp9I/HckA3Cxk0j/Y06Ocak7SP+/vooRhmNE/6vvKrPB10T9iIjELCfHQP0/jfP0gVdE/UowZJNdv0D85AFfLe8/OP/fzzPf+Vc8/Dmc0AA46zT9EHo4wCLTMP11kRnBN5s0/I9iIVV0hzD/b2PZ+sCbMPzVWrKuuQs0/MdT6wB6pzj+CLehNHD/PP78l8QRhKdA/0jWE5IMm0T+6wu2o7h/TP0ddHRAMJNQ/zsAbE2/z1T+YBYzBff3WPwVYCRy55tc/RP8HGN/62D9JOBknzSXZP42HUtWPRNk/UOYzRBd82T9iq+G/9LzXP/08uMH/79Y/k3SIGXVk1T9SRCXUGgbUP4ihbHQ9AdM/8iy7Z9YM0T+1ICneIm7PP83Qeqf3Uc8/pIoAG80nzD+DTHdqnh3MP1PIOfmJGMw/HX5ulZfJyz/aBqr+s/HLP+L8V6AwJMk/0Lb3IdRVyD/KMkGj96TIP2765SmMLMg/xAdauD2Jxz/9k0dPxK3GP928Jea/18Q/MjgGso3zxT9ulXscogHFPykKEzwR18Q/JI0aqsICxD9Ker0KLvXBPyj0vRYMPcI/g2T1FfNzwT83cz/+bQm/PwjLbjX0CsA/O8oPJwE9vj93LmWQPqK8P3F73Z9V6L0/uoTHD6Eauj+3pMJUFUm5P8DPAAhlubg/kTLav+PUtz9BmbRHz/+2P/lTU1OhGbY/8deWQ7KjtD/rgq3Fnc+3P/JjmBS/ILQ/J6gpS9xfsz/6+A2bed6xPy5ggmgCPrE/dh6s2rp7sT8UFgk8J4mzP7ceSKnf6rk/KBsR9P95sT+ORKGFY8qtP8GrdRnHaqw/bn/Z1jWUrT91uItWke2pPwKH+tbHOK4/jVfMwQc0qT9/apyAt7+pP0y5DS7V9ac/4xYhGEuKqT891GuJ11KoPwULicfmYqY/AtPV/sQupj9Z7L0SEualP0aJKfnHM6U/SLBRx2igqT+t++eeCoemP9y453ncMqU/3MYPNdo2oz/EvHTQ97aiP6k7StiT7qM/FG9D2mdVpD8uzcD065CgPyLELaUdfKQ/mP5aCS/Ynz9vNxPEQ0+fPwHa+tvvnKI/FsmSolAUoT9nKWyvLoWkPwm8cir+bKM/PlSj2NU1nz/6H/ShcHugPy9BRv4Slak/Lg1hMXcenz8rFbUAxTefPyfNJLtcGJ0/zklZT9fDlj9aH4Q4zkGdP3mEKFA1qZ0/YPE4XEWWlz9b//KnGGabP01XfapI8pc/TzS6JIqxlz9nl0nN5reWP7HBAhcYTZw/CYbJ6C4voD9QVKnzwzeeP9SSqs2+EZs/kmRUrdpgoj9vUvAA8h6YP4u6Yz42P6A/mj9E2PGynz+Bqm+tlaaaP3iRZsVMmaE/sEJf0dUwmD/56EGmOlyYP+PyRrP8NqA/wtB0L7UVkz878gEQNieaP3Gl5fTy4J4/NpCBIQQinD/YDIPFO0+hP1ORPRN9J6E/C8uFeBELoD9hZswiZkiiPyUk9lleiJ4/h72Y6PYSoj/9vJo+YA+dPx6XNTDOnaQ/u9WRSUZAnT9pCohkJ3yeP9cBcNOvMJ8/pdPp6mKunj+QCkY0mpyjP+Cdm5dzDaE/knOAJi3Snz/35lfYDdGWP2gt2sZA7p0/AOqlbC8QnT+dMapGz66ZP5Pbd2lpXZ4/JPOWWr+jmD+DpYO/EE2kPx3XaGjKkKE/2FV0S5d1lT+bho2BYzulP98DOBJHgqQ/LqjE1bIemz/DVCpg/OWkPx9KPHRm/J4/",
          "dtype": "f8"
         }
        },
        {
         "hoverinfo": "skip",
         "line": {
          "width": 0
         },
         "mode": "lines",
         "showlegend": false,
         "type": "scatter",
         "x": {
          "bdata": "AAABAAIAAwAEAAUABgAHAAgACQAKAAsADAANAA4ADwAQABEAEgATABQAFQAWABcAGAAZABoAGwAcAB0AHgAfACAAIQAiACMAJAAlACYAJwAoACkAKgArACwALQAuAC8AMAAxADIAMwA0ADUANgA3ADgAOQA6ADsAPAA9AD4APwBAAEEAQgBDAEQARQBGAEcASABJAEoASwBMAE0ATgBPAFAAUQBSAFMAVABVAFYAVwBYAFkAWgBbAFwAXQBeAF8AYABhAGIAYwBkAGUAZgBnAGgAaQBqAGsAbABtAG4AbwBwAHEAcgBzAHQAdQB2AHcAeAB5AHoAewB8AH0AfgB/AIAAgQCCAIMAhACFAIYAhwCIAIkAigCLAIwAjQCOAI8AkACRAJIAkwCUAJUAlgCXAJgAmQCaAJsAnACdAJ4AnwCgAKEAogCjAKQApQCmAKcAqACpAKoAqwCsAK0ArgCvALAAsQCyALMAtAC1ALYAtwC4ALkAugC7ALwAvQC+AL8AwADBAMIAwwDEAMUAxgDHAMgAyQDKAMsAzADNAM4AzwDQANEA0gDTANQA1QDWANcA2ADZANoA2wDcAN0A3gDfAOAA4QDiAOMA5ADlAOYA5wDoAOkA6gDrAOwA7QDuAO8A8ADxAPIA8wD0APUA9gD3APgA+QD6APsA/AD9AP4A/wAAAQEBAgEDAQQBBQEGAQcBCAEJAQoBCwEMAQ0BDgEPARABEQESARMBFAEVARYBFwEYARkBGgEbARwBHQEeAR8B",
          "dtype": "i2"
         },
         "y": {
          "bdata": "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",
          "dtype": "f8"
         }
        },
        {
         "fill": "tonexty",
         "fillcolor": "rgba(153, 153, 153, 0.2)",
         "hoverinfo": "skip",
         "line": {
          "width": 0
         },
         "mode": "lines",
         "name": "nao informado ±1σ",
         "type": "scatter",
         "x": {
          "bdata": "AAABAAIAAwAEAAUABgAHAAgACQAKAAsADAANAA4ADwAQABEAEgATABQAFQAWABcAGAAZABoAGwAcAB0AHgAfACAAIQAiACMAJAAlACYAJwAoACkAKgArACwALQAuAC8AMAAxADIAMwA0ADUANgA3ADgAOQA6ADsAPAA9AD4APwBAAEEAQgBDAEQARQBGAEcASABJAEoASwBMAE0ATgBPAFAAUQBSAFMAVABVAFYAVwBYAFkAWgBbAFwAXQBeAF8AYABhAGIAYwBkAGUAZgBnAGgAaQBqAGsAbABtAG4AbwBwAHEAcgBzAHQAdQB2AHcAeAB5AHoAewB8AH0AfgB/AIAAgQCCAIMAhACFAIYAhwCIAIkAigCLAIwAjQCOAI8AkACRAJIAkwCUAJUAlgCXAJgAmQCaAJsAnACdAJ4AnwCgAKEAogCjAKQApQCmAKcAqACpAKoAqwCsAK0ArgCvALAAsQCyALMAtAC1ALYAtwC4ALkAugC7ALwAvQC+AL8AwADBAMIAwwDEAMUAxgDHAMgAyQDKAMsAzADNAM4AzwDQANEA0gDTANQA1QDWANcA2ADZANoA2wDcAN0A3gDfAOAA4QDiAOMA5ADlAOYA5wDoAOkA6gDrAOwA7QDuAO8A8ADxAPIA8wD0APUA9gD3APgA+QD6APsA/AD9AP4A/wAAAQEBAgEDAQQBBQEGAQcBCAEJAQoBCwEMAQ0BDgEPARABEQESARMBFAEVARYBFwEYARkBGgEbARwBHQEeAR8B",
          "dtype": "i2"
         },
         "y": {
          "bdata": "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",
          "dtype": "f8"
         }
        },
        {
         "line": {
          "color": "rgba(153, 153, 153, 0.9)",
          "width": 2
         },
         "mode": "lines",
         "name": "nao informado (mean)",
         "type": "scatter",
         "x": {
          "bdata": "AAABAAIAAwAEAAUABgAHAAgACQAKAAsADAANAA4ADwAQABEAEgATABQAFQAWABcAGAAZABoAGwAcAB0AHgAfACAAIQAiACMAJAAlACYAJwAoACkAKgArACwALQAuAC8AMAAxADIAMwA0ADUANgA3ADgAOQA6ADsAPAA9AD4APwBAAEEAQgBDAEQARQBGAEcASABJAEoASwBMAE0ATgBPAFAAUQBSAFMAVABVAFYAVwBYAFkAWgBbAFwAXQBeAF8AYABhAGIAYwBkAGUAZgBnAGgAaQBqAGsAbABtAG4AbwBwAHEAcgBzAHQAdQB2AHcAeAB5AHoAewB8AH0AfgB/AIAAgQCCAIMAhACFAIYAhwCIAIkAigCLAIwAjQCOAI8AkACRAJIAkwCUAJUAlgCXAJgAmQCaAJsAnACdAJ4AnwCgAKEAogCjAKQApQCmAKcAqACpAKoAqwCsAK0ArgCvALAAsQCyALMAtAC1ALYAtwC4ALkAugC7ALwAvQC+AL8AwADBAMIAwwDEAMUAxgDHAMgAyQDKAMsAzADNAM4AzwDQANEA0gDTANQA1QDWANcA2ADZANoA2wDcAN0A3gDfAOAA4QDiAOMA5ADlAOYA5wDoAOkA6gDrAOwA7QDuAO8A8ADxAPIA8wD0APUA9gD3APgA+QD6APsA/AD9AP4A/wAAAQEBAgEDAQQBBQEGAQcBCAEJAQoBCwEMAQ0BDgEPARABEQESARMBFAEVARYBFwEYARkBGgEbARwBHQEeAR8B",
          "dtype": "i2"
         },
         "y": {
          "bdata": "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",
          "dtype": "f8"
         }
        }
       ],
       "layout": {
        "template": {
         "data": {
          "bar": [
           {
            "error_x": {
             "color": "#2a3f5f"
            },
            "error_y": {
             "color": "#2a3f5f"
            },
            "marker": {
             "line": {
              "color": "white",
              "width": 0.5
             },
             "pattern": {
              "fillmode": "overlay",
              "size": 10,
              "solidity": 0.2
             }
            },
            "type": "bar"
           }
          ],
          "barpolar": [
           {
            "marker": {
             "line": {
              "color": "white",
              "width": 0.5
             },
             "pattern": {
              "fillmode": "overlay",
              "size": 10,
              "solidity": 0.2
             }
            },
            "type": "barpolar"
           }
          ],
          "carpet": [
           {
            "aaxis": {
             "endlinecolor": "#2a3f5f",
             "gridcolor": "#C8D4E3",
             "linecolor": "#C8D4E3",
             "minorgridcolor": "#C8D4E3",
             "startlinecolor": "#2a3f5f"
            },
            "baxis": {
             "endlinecolor": "#2a3f5f",
             "gridcolor": "#C8D4E3",
             "linecolor": "#C8D4E3",
             "minorgridcolor": "#C8D4E3",
             "startlinecolor": "#2a3f5f"
            },
            "type": "carpet"
           }
          ],
          "choropleth": [
           {
            "colorbar": {
             "outlinewidth": 0,
             "ticks": ""
            },
            "type": "choropleth"
           }
          ],
          "contour": [
           {
            "colorbar": {
             "outlinewidth": 0,
             "ticks": ""
            },
            "colorscale": [
             [
              0,
              "#0d0887"
             ],
             [
              0.1111111111111111,
              "#46039f"
             ],
             [
              0.2222222222222222,
              "#7201a8"
             ],
             [
              0.3333333333333333,
              "#9c179e"
             ],
             [
              0.4444444444444444,
              "#bd3786"
             ],
             [
              0.5555555555555556,
              "#d8576b"
             ],
             [
              0.6666666666666666,
              "#ed7953"
             ],
             [
              0.7777777777777778,
              "#fb9f3a"
             ],
             [
              0.8888888888888888,
              "#fdca26"
             ],
             [
              1,
              "#f0f921"
             ]
            ],
            "type": "contour"
           }
          ],
          "contourcarpet": [
           {
            "colorbar": {
             "outlinewidth": 0,
             "ticks": ""
            },
            "type": "contourcarpet"
           }
          ],
          "heatmap": [
           {
            "colorbar": {
             "outlinewidth": 0,
             "ticks": ""
            },
            "colorscale": [
             [
              0,
              "#0d0887"
             ],
             [
              0.1111111111111111,
              "#46039f"
             ],
             [
              0.2222222222222222,
              "#7201a8"
             ],
             [
              0.3333333333333333,
              "#9c179e"
             ],
             [
              0.4444444444444444,
              "#bd3786"
             ],
             [
              0.5555555555555556,
              "#d8576b"
             ],
             [
              0.6666666666666666,
              "#ed7953"
             ],
             [
              0.7777777777777778,
              "#fb9f3a"
             ],
             [
              0.8888888888888888,
              "#fdca26"
             ],
             [
              1,
              "#f0f921"
             ]
            ],
            "type": "heatmap"
           }
          ],
          "histogram": [
           {
            "marker": {
             "pattern": {
              "fillmode": "overlay",
              "size": 10,
              "solidity": 0.2
             }
            },
            "type": "histogram"
           }
          ],
          "histogram2d": [
           {
            "colorbar": {
             "outlinewidth": 0,
             "ticks": ""
            },
            "colorscale": [
             [
              0,
              "#0d0887"
             ],
             [
              0.1111111111111111,
              "#46039f"
             ],
             [
              0.2222222222222222,
              "#7201a8"
             ],
             [
              0.3333333333333333,
              "#9c179e"
             ],
             [
              0.4444444444444444,
              "#bd3786"
             ],
             [
              0.5555555555555556,
              "#d8576b"
             ],
             [
              0.6666666666666666,
              "#ed7953"
             ],
             [
              0.7777777777777778,
              "#fb9f3a"
             ],
             [
              0.8888888888888888,
              "#fdca26"
             ],
             [
              1,
              "#f0f921"
             ]
            ],
            "type": "histogram2d"
           }
          ],
          "histogram2dcontour": [
           {
            "colorbar": {
             "outlinewidth": 0,
             "ticks": ""
            },
            "colorscale": [
             [
              0,
              "#0d0887"
             ],
             [
              0.1111111111111111,
              "#46039f"
             ],
             [
              0.2222222222222222,
              "#7201a8"
             ],
             [
              0.3333333333333333,
              "#9c179e"
             ],
             [
              0.4444444444444444,
              "#bd3786"
             ],
             [
              0.5555555555555556,
              "#d8576b"
             ],
             [
              0.6666666666666666,
              "#ed7953"
             ],
             [
              0.7777777777777778,
              "#fb9f3a"
             ],
             [
              0.8888888888888888,
              "#fdca26"
             ],
             [
              1,
              "#f0f921"
             ]
            ],
            "type": "histogram2dcontour"
           }
          ],
          "mesh3d": [
           {
            "colorbar": {
             "outlinewidth": 0,
             "ticks": ""
            },
            "type": "mesh3d"
           }
          ],
          "parcoords": [
           {
            "line": {
             "colorbar": {
              "outlinewidth": 0,
              "ticks": ""
             }
            },
            "type": "parcoords"
           }
          ],
          "pie": [
           {
            "automargin": true,
            "type": "pie"
           }
          ],
          "scatter": [
           {
            "fillpattern": {
             "fillmode": "overlay",
             "size": 10,
             "solidity": 0.2
            },
            "type": "scatter"
           }
          ],
          "scatter3d": [
           {
            "line": {
             "colorbar": {
              "outlinewidth": 0,
              "ticks": ""
             }
            },
            "marker": {
             "colorbar": {
              "outlinewidth": 0,
              "ticks": ""
             }
            },
            "type": "scatter3d"
           }
          ],
          "scattercarpet": [
           {
            "marker": {
             "colorbar": {
              "outlinewidth": 0,
              "ticks": ""
             }
            },
            "type": "scattercarpet"
           }
          ],
          "scattergeo": [
           {
            "marker": {
             "colorbar": {
              "outlinewidth": 0,
              "ticks": ""
             }
            },
            "type": "scattergeo"
           }
          ],
          "scattergl": [
           {
            "marker": {
             "colorbar": {
              "outlinewidth": 0,
              "ticks": ""
             }
            },
            "type": "scattergl"
           }
          ],
          "scattermap": [
           {
            "marker": {
             "colorbar": {
              "outlinewidth": 0,
              "ticks": ""
             }
            },
            "type": "scattermap"
           }
          ],
          "scattermapbox": [
           {
            "marker": {
             "colorbar": {
              "outlinewidth": 0,
              "ticks": ""
             }
            },
            "type": "scattermapbox"
           }
          ],
          "scatterpolar": [
           {
            "marker": {
             "colorbar": {
              "outlinewidth": 0,
              "ticks": ""
             }
            },
            "type": "scatterpolar"
           }
          ],
          "scatterpolargl": [
           {
            "marker": {
             "colorbar": {
              "outlinewidth": 0,
              "ticks": ""
             }
            },
            "type": "scatterpolargl"
           }
          ],
          "scatterternary": [
           {
            "marker": {
             "colorbar": {
              "outlinewidth": 0,
              "ticks": ""
             }
            },
            "type": "scatterternary"
           }
          ],
          "surface": [
           {
            "colorbar": {
             "outlinewidth": 0,
             "ticks": ""
            },
            "colorscale": [
             [
              0,
              "#0d0887"
             ],
             [
              0.1111111111111111,
              "#46039f"
             ],
             [
              0.2222222222222222,
              "#7201a8"
             ],
             [
              0.3333333333333333,
              "#9c179e"
             ],
             [
              0.4444444444444444,
              "#bd3786"
             ],
             [
              0.5555555555555556,
              "#d8576b"
             ],
             [
              0.6666666666666666,
              "#ed7953"
             ],
             [
              0.7777777777777778,
              "#fb9f3a"
             ],
             [
              0.8888888888888888,
              "#fdca26"
             ],
             [
              1,
              "#f0f921"
             ]
            ],
            "type": "surface"
           }
          ],
          "table": [
           {
            "cells": {
             "fill": {
              "color": "#EBF0F8"
             },
             "line": {
              "color": "white"
             }
            },
            "header": {
             "fill": {
              "color": "#C8D4E3"
             },
             "line": {
              "color": "white"
             }
            },
            "type": "table"
           }
          ]
         },
         "layout": {
          "annotationdefaults": {
           "arrowcolor": "#2a3f5f",
           "arrowhead": 0,
           "arrowwidth": 1
          },
          "autotypenumbers": "strict",
          "coloraxis": {
           "colorbar": {
            "outlinewidth": 0,
            "ticks": ""
           }
          },
          "colorscale": {
           "diverging": [
            [
             0,
             "#8e0152"
            ],
            [
             0.1,
             "#c51b7d"
            ],
            [
             0.2,
             "#de77ae"
            ],
            [
             0.3,
             "#f1b6da"
            ],
            [
             0.4,
             "#fde0ef"
            ],
            [
             0.5,
             "#f7f7f7"
            ],
            [
             0.6,
             "#e6f5d0"
            ],
            [
             0.7,
             "#b8e186"
            ],
            [
             0.8,
             "#7fbc41"
            ],
            [
             0.9,
             "#4d9221"
            ],
            [
             1,
             "#276419"
            ]
           ],
           "sequential": [
            [
             0,
             "#0d0887"
            ],
            [
             0.1111111111111111,
             "#46039f"
            ],
            [
             0.2222222222222222,
             "#7201a8"
            ],
            [
             0.3333333333333333,
             "#9c179e"
            ],
            [
             0.4444444444444444,
             "#bd3786"
            ],
            [
             0.5555555555555556,
             "#d8576b"
            ],
            [
             0.6666666666666666,
             "#ed7953"
            ],
            [
             0.7777777777777778,
             "#fb9f3a"
            ],
            [
             0.8888888888888888,
             "#fdca26"
            ],
            [
             1,
             "#f0f921"
            ]
           ],
           "sequentialminus": [
            [
             0,
             "#0d0887"
            ],
            [
             0.1111111111111111,
             "#46039f"
            ],
            [
             0.2222222222222222,
             "#7201a8"
            ],
            [
             0.3333333333333333,
             "#9c179e"
            ],
            [
             0.4444444444444444,
             "#bd3786"
            ],
            [
             0.5555555555555556,
             "#d8576b"
            ],
            [
             0.6666666666666666,
             "#ed7953"
            ],
            [
             0.7777777777777778,
             "#fb9f3a"
            ],
            [
             0.8888888888888888,
             "#fdca26"
            ],
            [
             1,
             "#f0f921"
            ]
           ]
          },
          "colorway": [
           "#636efa",
           "#EF553B",
           "#00cc96",
           "#ab63fa",
           "#FFA15A",
           "#19d3f3",
           "#FF6692",
           "#B6E880",
           "#FF97FF",
           "#FECB52"
          ],
          "font": {
           "color": "#2a3f5f"
          },
          "geo": {
           "bgcolor": "white",
           "lakecolor": "white",
           "landcolor": "white",
           "showlakes": true,
           "showland": true,
           "subunitcolor": "#C8D4E3"
          },
          "hoverlabel": {
           "align": "left"
          },
          "hovermode": "closest",
          "mapbox": {
           "style": "light"
          },
          "paper_bgcolor": "white",
          "plot_bgcolor": "white",
          "polar": {
           "angularaxis": {
            "gridcolor": "#EBF0F8",
            "linecolor": "#EBF0F8",
            "ticks": ""
           },
           "bgcolor": "white",
           "radialaxis": {
            "gridcolor": "#EBF0F8",
            "linecolor": "#EBF0F8",
            "ticks": ""
           }
          },
          "scene": {
           "xaxis": {
            "backgroundcolor": "white",
            "gridcolor": "#DFE8F3",
            "gridwidth": 2,
            "linecolor": "#EBF0F8",
            "showbackground": true,
            "ticks": "",
            "zerolinecolor": "#EBF0F8"
           },
           "yaxis": {
            "backgroundcolor": "white",
            "gridcolor": "#DFE8F3",
            "gridwidth": 2,
            "linecolor": "#EBF0F8",
            "showbackground": true,
            "ticks": "",
            "zerolinecolor": "#EBF0F8"
           },
           "zaxis": {
            "backgroundcolor": "white",
            "gridcolor": "#DFE8F3",
            "gridwidth": 2,
            "linecolor": "#EBF0F8",
            "showbackground": true,
            "ticks": "",
            "zerolinecolor": "#EBF0F8"
           }
          },
          "shapedefaults": {
           "line": {
            "color": "#2a3f5f"
           }
          },
          "ternary": {
           "aaxis": {
            "gridcolor": "#DFE8F3",
            "linecolor": "#A2B1C6",
            "ticks": ""
           },
           "baxis": {
            "gridcolor": "#DFE8F3",
            "linecolor": "#A2B1C6",
            "ticks": ""
           },
           "bgcolor": "white",
           "caxis": {
            "gridcolor": "#DFE8F3",
            "linecolor": "#A2B1C6",
            "ticks": ""
           }
          },
          "title": {
           "x": 0.05
          },
          "xaxis": {
           "automargin": true,
           "gridcolor": "#EBF0F8",
           "linecolor": "#EBF0F8",
           "ticks": "",
           "title": {
            "standoff": 15
           },
           "zerolinecolor": "#EBF0F8",
           "zerolinewidth": 2
          },
          "yaxis": {
           "automargin": true,
           "gridcolor": "#EBF0F8",
           "linecolor": "#EBF0F8",
           "ticks": "",
           "title": {
            "standoff": 15
           },
           "zerolinecolor": "#EBF0F8",
           "zerolinewidth": 2
          }
         }
        },
        "title": {
         "text": "Espectros Médios por Tipo da região"
        },
        "xaxis": {
         "title": {
          "text": "Índice de Banda"
         }
        },
        "yaxis": {
         "title": {
          "text": "Intensidade"
         }
        }
       }
      }
     },
     "metadata": {},
     "output_type": "display_data"
    }
   ],
   "source": [
    "n_bands = np.arange(288)\n",
    "\n",
    "fig = go.Figure()\n",
    "for region in mean_spec_gourmet:\n",
    "    y_mean = mean_spec_gourmet[region]\n",
    "    y_std = std_spec_gourmet[region]\n",
    "    color = COLORS['region'].get(region, '#999999')\n",
    "    \n",
    "    def _hex_to_rgb(hex_color):\n",
    "        hex_color = hex_color.lstrip(\"#\")\n",
    "        return (\"rgba\" + str(tuple(int(hex_color[i:i+2], 16) for i in (0, 2, 4)))).replace(\")\", ', 0.9)')\n",
    "    \n",
    "    color = _hex_to_rgb(color)\n",
    "    \n",
    "    fig.add_trace(go.Scatter(\n",
    "        x=n_bands, y=y_mean + y_std,\n",
    "        mode='lines',\n",
    "        line=dict(width=0),\n",
    "        showlegend=False,\n",
    "        hoverinfo='skip'\n",
    "    ))\n",
    "\n",
    "    fig.add_trace(go.Scatter(\n",
    "        x=n_bands, y=y_mean - y_std,\n",
    "        fill='tonexty',  # preenche entre esse trace e o anterior\n",
    "        fillcolor=color.replace(\"0.9\", '0.2'),\n",
    "        line=dict(width=0),\n",
    "        mode='lines',\n",
    "        name=f\"{region} ±1σ\",\n",
    "        hoverinfo='skip'\n",
    "    ))\n",
    "\n",
    "    # Curva da média\n",
    "    fig.add_trace(go.Scatter(\n",
    "        x=n_bands, y=y_mean,\n",
    "        mode='lines',\n",
    "        name=f\"{region} (mean)\",\n",
    "        line=dict(color=color, width=2),\n",
    "    ))\n",
    "\n",
    "# Layout\n",
    "fig.update_layout(\n",
    "    title=\"Espectros Médios por Tipo da região\",\n",
    "    xaxis_title=\"Índice de Banda\",\n",
    "    yaxis_title=\"Intensidade\",\n",
    "    template=\"plotly_white\"\n",
    ")\n",
    "\n",
    "fig.show()\n"
   ]
  },
  {
   "cell_type": "code",
   "execution_count": 155,
   "id": "140fc8e0",
   "metadata": {},
   "outputs": [
    {
     "data": {
      "text/plain": [
       "region\n",
       "mogiana          65\n",
       "nao informado    45\n",
       "florão           15\n",
       "Name: count, dtype: int64"
      ]
     },
     "execution_count": 155,
     "metadata": {},
     "output_type": "execute_result"
    }
   ],
   "source": [
    "gourmet['region'].value_counts()"
   ]
  },
  {
   "cell_type": "code",
   "execution_count": null,
   "id": "b45ea255",
   "metadata": {},
   "outputs": [],
   "source": []
  }
 ],
 "metadata": {
  "kernelspec": {
   "display_name": ".venv",
   "language": "python",
   "name": "python3"
  },
  "language_info": {
   "codemirror_mode": {
    "name": "ipython",
    "version": 3
   },
   "file_extension": ".py",
   "mimetype": "text/x-python",
   "name": "python",
   "nbconvert_exporter": "python",
   "pygments_lexer": "ipython3",
   "version": "3.12.10"
  }
 },
 "nbformat": 4,
 "nbformat_minor": 5
}
